{
  "nbformat": 4,
  "nbformat_minor": 0,
  "metadata": {
    "colab": {
      "name": "Distance Numpy.ipynb",
      "provenance": [],
      "authorship_tag": "ABX9TyPCqtGuKF67SIhfGLA2ARM7",
      "include_colab_link": true
    },
    "kernelspec": {
      "name": "python3",
      "display_name": "Python 3"
    },
    "language_info": {
      "name": "python"
    }
  },
  "cells": [
    {
      "cell_type": "markdown",
      "metadata": {
        "id": "view-in-github",
        "colab_type": "text"
      },
      "source": [
        "<a href=\"https://colab.research.google.com/github/jittakorn-ch/DWDM21/blob/main/Distance_Numpy.ipynb\" target=\"_parent\"><img src=\"https://colab.research.google.com/assets/colab-badge.svg\" alt=\"Open In Colab\"/></a>"
      ]
    },
    {
      "cell_type": "code",
      "metadata": {
        "id": "wFXu3ZMVcuSv"
      },
      "source": [
        "import numpy as np     ### package สำหรับทำงานกับ ข้อมูลที่เป็นตัวเลข อยู่ในรูปแบบ matrix"
      ],
      "execution_count": 1,
      "outputs": []
    },
    {
      "cell_type": "markdown",
      "metadata": {
        "id": "u_fpK5Hhdm2t"
      },
      "source": [
        "# Numpy Array"
      ]
    },
    {
      "cell_type": "markdown",
      "metadata": {
        "id": "bO4sgcOPdq-z"
      },
      "source": [
        "## สร้าง numpy array (matrix)"
      ]
    },
    {
      "cell_type": "code",
      "metadata": {
        "id": "EErkSAMldSPd"
      },
      "source": [
        "np_a = np.array([[1,2,3],[4,5,6]])    ### สร้าง numpy array ที่มี 2 แถว 3 หลัก"
      ],
      "execution_count": 2,
      "outputs": []
    },
    {
      "cell_type": "code",
      "metadata": {
        "colab": {
          "base_uri": "https://localhost:8080/"
        },
        "id": "IVvr4JD6eAHk",
        "outputId": "fe8a872e-4dc8-48a6-c5e2-dca3aa5fc31d"
      },
      "source": [
        "np_a"
      ],
      "execution_count": 3,
      "outputs": [
        {
          "output_type": "execute_result",
          "data": {
            "text/plain": [
              "array([[1, 2, 3],\n",
              "       [4, 5, 6]])"
            ]
          },
          "metadata": {},
          "execution_count": 3
        }
      ]
    },
    {
      "cell_type": "code",
      "metadata": {
        "colab": {
          "base_uri": "https://localhost:8080/"
        },
        "id": "chYcT-pheCmb",
        "outputId": "dda0fb72-53a7-4bcc-8441-4b80699799fe"
      },
      "source": [
        "np_a.shape"
      ],
      "execution_count": 4,
      "outputs": [
        {
          "output_type": "execute_result",
          "data": {
            "text/plain": [
              "(2, 3)"
            ]
          },
          "metadata": {},
          "execution_count": 4
        }
      ]
    },
    {
      "cell_type": "code",
      "metadata": {
        "colab": {
          "base_uri": "https://localhost:8080/"
        },
        "id": "TXG2DeboeaEZ",
        "outputId": "7592c692-1287-4f69-f47b-462b88d6d49a"
      },
      "source": [
        "np_b = np.array([[1,4],[2,5],[3,6]])\n",
        "np_b"
      ],
      "execution_count": 5,
      "outputs": [
        {
          "output_type": "execute_result",
          "data": {
            "text/plain": [
              "array([[1, 4],\n",
              "       [2, 5],\n",
              "       [3, 6]])"
            ]
          },
          "metadata": {},
          "execution_count": 5
        }
      ]
    },
    {
      "cell_type": "markdown",
      "metadata": {
        "id": "x9g1KiPEevbL"
      },
      "source": [
        "### matrix transpose"
      ]
    },
    {
      "cell_type": "code",
      "metadata": {
        "colab": {
          "base_uri": "https://localhost:8080/"
        },
        "id": "7yY0EZxVettC",
        "outputId": "60ff41d7-0c8b-4c2d-8dce-bb6ee312e611"
      },
      "source": [
        "np_a.T     ### transpose"
      ],
      "execution_count": 6,
      "outputs": [
        {
          "output_type": "execute_result",
          "data": {
            "text/plain": [
              "array([[1, 4],\n",
              "       [2, 5],\n",
              "       [3, 6]])"
            ]
          },
          "metadata": {},
          "execution_count": 6
        }
      ]
    },
    {
      "cell_type": "markdown",
      "metadata": {
        "id": "atHyJOBXe-GU"
      },
      "source": [
        "### สร้าง matrix เริ่มต้น (zeros,ones)"
      ]
    },
    {
      "cell_type": "code",
      "metadata": {
        "colab": {
          "base_uri": "https://localhost:8080/"
        },
        "id": "k3ZzU2xKe2dN",
        "outputId": "842188de-9080-4db1-8549-34ee56c8409f"
      },
      "source": [
        "# matrix zeros\n",
        "np_z = np.zeros((4,5))\n",
        "np_z"
      ],
      "execution_count": 7,
      "outputs": [
        {
          "output_type": "execute_result",
          "data": {
            "text/plain": [
              "array([[0., 0., 0., 0., 0.],\n",
              "       [0., 0., 0., 0., 0.],\n",
              "       [0., 0., 0., 0., 0.],\n",
              "       [0., 0., 0., 0., 0.]])"
            ]
          },
          "metadata": {},
          "execution_count": 7
        }
      ]
    },
    {
      "cell_type": "code",
      "metadata": {
        "colab": {
          "base_uri": "https://localhost:8080/"
        },
        "id": "ztkB_kkcfnxY",
        "outputId": "cc103b77-9698-4a58-fd18-eef79eb317bd"
      },
      "source": [
        "# matrix ones\n",
        "np_o = np.ones((5,6))\n",
        "np_o"
      ],
      "execution_count": 8,
      "outputs": [
        {
          "output_type": "execute_result",
          "data": {
            "text/plain": [
              "array([[1., 1., 1., 1., 1., 1.],\n",
              "       [1., 1., 1., 1., 1., 1.],\n",
              "       [1., 1., 1., 1., 1., 1.],\n",
              "       [1., 1., 1., 1., 1., 1.],\n",
              "       [1., 1., 1., 1., 1., 1.]])"
            ]
          },
          "metadata": {},
          "execution_count": 8
        }
      ]
    },
    {
      "cell_type": "code",
      "metadata": {
        "colab": {
          "base_uri": "https://localhost:8080/"
        },
        "id": "QLwjP2IrfvyK",
        "outputId": "9cc8c588-d0b5-458d-8f4f-fa776be32d72"
      },
      "source": [
        "# สร้าง matrix ที่มีค่าเป็น 200\n",
        "np_200 = 200 * np.ones((4,7))\n",
        "np_200"
      ],
      "execution_count": 9,
      "outputs": [
        {
          "output_type": "execute_result",
          "data": {
            "text/plain": [
              "array([[200., 200., 200., 200., 200., 200., 200.],\n",
              "       [200., 200., 200., 200., 200., 200., 200.],\n",
              "       [200., 200., 200., 200., 200., 200., 200.],\n",
              "       [200., 200., 200., 200., 200., 200., 200.]])"
            ]
          },
          "metadata": {},
          "execution_count": 9
        }
      ]
    },
    {
      "cell_type": "markdown",
      "metadata": {
        "id": "CNDVbicMgdfC"
      },
      "source": [
        "### สร้าง matrix random"
      ]
    },
    {
      "cell_type": "code",
      "metadata": {
        "colab": {
          "base_uri": "https://localhost:8080/"
        },
        "id": "McP1UYl_gGb5",
        "outputId": "00f110e9-a912-434a-b78b-e082923d26f5"
      },
      "source": [
        "np.random.randn(5,5)  ### random เลขมาจาก normal distribution ที่มี mu=0, dtd=1"
      ],
      "execution_count": 10,
      "outputs": [
        {
          "output_type": "execute_result",
          "data": {
            "text/plain": [
              "array([[-2.36414713e-01, -3.16067379e+00, -9.42111633e-01,\n",
              "         1.03847812e+00, -7.14343524e-01],\n",
              "       [-6.47200527e-01,  1.09980069e+00, -1.57928856e+00,\n",
              "        -2.95531241e-01,  5.44089218e-01],\n",
              "       [ 5.43261427e-01,  7.28652301e-01,  1.97528838e-01,\n",
              "        -4.08772595e-03,  5.53397143e-01],\n",
              "       [ 1.08048230e+00,  5.37436926e-01,  2.87307078e-01,\n",
              "         1.61487676e-03,  5.94275719e-01],\n",
              "       [ 9.78561694e-01, -3.09996270e-01,  2.54503238e-01,\n",
              "         3.83904675e-01, -2.55091470e+00]])"
            ]
          },
          "metadata": {},
          "execution_count": 10
        }
      ]
    },
    {
      "cell_type": "code",
      "metadata": {
        "colab": {
          "base_uri": "https://localhost:8080/"
        },
        "id": "ZFOAU2KGgu99",
        "outputId": "dc4e2896-5f6f-414b-c42f-dc1dba1aaed5"
      },
      "source": [
        "2+(5*np.random.randn(3,3))  ### random เลขมาจาก normal distribution ที่มี mu=2, dtd=5"
      ],
      "execution_count": 11,
      "outputs": [
        {
          "output_type": "execute_result",
          "data": {
            "text/plain": [
              "array([[-9.28856694,  4.84929119, 12.91936285],\n",
              "       [-0.55495883,  2.91925889,  4.56484175],\n",
              "       [ 4.23075248,  5.13093933,  2.66926145]])"
            ]
          },
          "metadata": {},
          "execution_count": 11
        }
      ]
    },
    {
      "cell_type": "code",
      "metadata": {
        "colab": {
          "base_uri": "https://localhost:8080/"
        },
        "id": "J_ln6ZsmhP9p",
        "outputId": "9daea3fd-e215-4f91-b825-54d1677a25de"
      },
      "source": [
        "np.random.randint(5,11,(4,5))  ### random เลขจำนวนเต็ม ระหว่าง [5,11) ขนาด (4x5)"
      ],
      "execution_count": 12,
      "outputs": [
        {
          "output_type": "execute_result",
          "data": {
            "text/plain": [
              "array([[ 6,  9,  6,  6,  9],\n",
              "       [ 9,  5,  5, 10,  9],\n",
              "       [ 8,  5,  7,  5,  7],\n",
              "       [ 7, 10,  9,  6,  7]])"
            ]
          },
          "metadata": {},
          "execution_count": 12
        }
      ]
    },
    {
      "cell_type": "markdown",
      "metadata": {
        "id": "v99XPgmoQWD3"
      },
      "source": [
        "### matrix properties"
      ]
    },
    {
      "cell_type": "code",
      "metadata": {
        "colab": {
          "base_uri": "https://localhost:8080/"
        },
        "id": "B5Eh2yZCOtS4",
        "outputId": "d6af35b9-f85e-41d7-a675-a36e6edb5c48"
      },
      "source": [
        "np_a"
      ],
      "execution_count": 13,
      "outputs": [
        {
          "output_type": "execute_result",
          "data": {
            "text/plain": [
              "array([[1, 2, 3],\n",
              "       [4, 5, 6]])"
            ]
          },
          "metadata": {},
          "execution_count": 13
        }
      ]
    },
    {
      "cell_type": "code",
      "metadata": {
        "id": "Hlokbi5Whi6p",
        "colab": {
          "base_uri": "https://localhost:8080/"
        },
        "outputId": "2fc99383-ccda-44bf-ea38-862255d16c30"
      },
      "source": [
        "1 + np_a   ### adding scalar to matrix (จะบวกกระจายไปทุกๆ ตัว)"
      ],
      "execution_count": 14,
      "outputs": [
        {
          "output_type": "execute_result",
          "data": {
            "text/plain": [
              "array([[2, 3, 4],\n",
              "       [5, 6, 7]])"
            ]
          },
          "metadata": {},
          "execution_count": 14
        }
      ]
    },
    {
      "cell_type": "code",
      "metadata": {
        "colab": {
          "base_uri": "https://localhost:8080/"
        },
        "id": "sOlPjkM7O7oq",
        "outputId": "658c7765-2da0-4df2-822a-e95874e4b766"
      },
      "source": [
        "2 * np_a   ### multiply scalar to matrix (จะคูณกระจายไปทุกๆ ตัว)"
      ],
      "execution_count": 15,
      "outputs": [
        {
          "output_type": "execute_result",
          "data": {
            "text/plain": [
              "array([[ 2,  4,  6],\n",
              "       [ 8, 10, 12]])"
            ]
          },
          "metadata": {},
          "execution_count": 15
        }
      ]
    },
    {
      "cell_type": "code",
      "metadata": {
        "colab": {
          "base_uri": "https://localhost:8080/"
        },
        "id": "h5732cn8PSc3",
        "outputId": "49be20d9-490e-47e3-bf1b-e7c25ca2b8f3"
      },
      "source": [
        "np_c = np.array([[6,5,4],[3,2,1]])\n",
        "np_c"
      ],
      "execution_count": 16,
      "outputs": [
        {
          "output_type": "execute_result",
          "data": {
            "text/plain": [
              "array([[6, 5, 4],\n",
              "       [3, 2, 1]])"
            ]
          },
          "metadata": {},
          "execution_count": 16
        }
      ]
    },
    {
      "cell_type": "code",
      "metadata": {
        "colab": {
          "base_uri": "https://localhost:8080/"
        },
        "id": "cFJrzR30Pfgq",
        "outputId": "86caed5e-d24f-488c-8d39-a18290edd05f"
      },
      "source": [
        "np_a + np_c    ### adding matrix to matrix"
      ],
      "execution_count": 17,
      "outputs": [
        {
          "output_type": "execute_result",
          "data": {
            "text/plain": [
              "array([[7, 7, 7],\n",
              "       [7, 7, 7]])"
            ]
          },
          "metadata": {},
          "execution_count": 17
        }
      ]
    },
    {
      "cell_type": "code",
      "metadata": {
        "colab": {
          "base_uri": "https://localhost:8080/"
        },
        "id": "OjyeB0cJPjPv",
        "outputId": "552991b6-fc45-473e-a9e0-53e0c502558e"
      },
      "source": [
        "np_a.shape"
      ],
      "execution_count": 18,
      "outputs": [
        {
          "output_type": "execute_result",
          "data": {
            "text/plain": [
              "(2, 3)"
            ]
          },
          "metadata": {},
          "execution_count": 18
        }
      ]
    },
    {
      "cell_type": "code",
      "metadata": {
        "colab": {
          "base_uri": "https://localhost:8080/"
        },
        "id": "I0uzyFETQiJ-",
        "outputId": "cfa86729-e9b9-40dd-feab-58f1fec838c2"
      },
      "source": [
        "np_c.shape"
      ],
      "execution_count": 19,
      "outputs": [
        {
          "output_type": "execute_result",
          "data": {
            "text/plain": [
              "(2, 3)"
            ]
          },
          "metadata": {},
          "execution_count": 19
        }
      ]
    },
    {
      "cell_type": "code",
      "metadata": {
        "colab": {
          "base_uri": "https://localhost:8080/"
        },
        "id": "tTp7rGWWQ0SW",
        "outputId": "3919221b-c8b7-4181-c045-fd5d92b67b8b"
      },
      "source": [
        "np_c.T.shape"
      ],
      "execution_count": 20,
      "outputs": [
        {
          "output_type": "execute_result",
          "data": {
            "text/plain": [
              "(3, 2)"
            ]
          },
          "metadata": {},
          "execution_count": 20
        }
      ]
    },
    {
      "cell_type": "markdown",
      "metadata": {
        "id": "N7Av_L9uRnwn"
      },
      "source": [
        "![matrix multiply.png](data:image/png;base64,iVBORw0KGgoAAAANSUhEUgAAAUAAAACdCAMAAADymVHdAAABdFBMVEX////8/Pz29vbr6+vk5OTz8/P5+fnu7u7n5+ehoaHw8PDj4+Pf39//lQDU1NTR0dEAjP8Aiv//kwD/mACmpqba2toAjv/Ly8v/+fCrq6sAhv+xsbH/t1hZWVm5ubnExMT/uGaUlJTk8v98fHxLp///s07/nAD/59P/umD/0JX/37//z5//2rUmlf/C3///q0//1qH/xnxkZGTw+f/T5f+61/+w2v9ubm6o0/98tv/Y3+Uvnf+Hh4fq9P//pTL/p0P1uG3/oh3w592MyP//w4P/37RAnvury+3B1Ot9uPOcxu7W7P9er///8uBVqf//5s7n2snp1rvvyZ3s0a7F2OiawPFwtfW00OufxOQijOtfnuB9qN0Af+UwiuWJtt/K09yrwtVsmMRiouBXkMZ9nb6CvP/9oS/Zr33ws3CmnZDazbnNmV/Tgwu5qJPEualPWWJeV0nJnGjimD7a0sjOr4+Zdk7DgCOVf2fhn1Wqj3DJtqDmt3wRLnx8AAAgAElEQVR4nO2diV/bWJaobUu2hGzhRViQQIEB4wSIIQkkgB284ZjNgLdAdfXrTr2ZB5XqnlczXan3pmf45+ecu0my5Y3YKaByqn5JwLKl+/mce5a7eTzf5Jt8k28ylHjh/04hv/8mvUXQCnSKjeQ36RQnN5+b2EH+3o97r0SQo5z8PcQi+Q0jEaF2NnK+mRl/5vTo6urq8HD35GT38PDw6uqolZH8M+waTvGPztAFntI6PDm+rCYr2TSKSQX/mc1WktXLg8OWTRn/yAwZPI5OyrSOTo7P01EqEROJZStcssjTjNDXstXjq1ZGsSj+8Rg66M34Tw8/7CWzJqGTrpxXjz98ODkEo221MlRaLTDow5MPoJuVdIRcltz7cJXxUYaBPxZDSk+o3uFlMpuOgJjp8+PDI2QWlFGCDiG/khHm0cll0oxEAGK2epJxGPPv3bSvIHbVU1pXl1miTtnzy5OjYKmkOrHJluBP4rdqSW2dXJ4Tnc0eHGVsDH/v9o1XOD1ssHb0YS8LemRmqx8OW0ELHeGluopNMWW5lAFVrIAqps8/XGnMlB+1Ftrw+Y+OK+ATImbyBEyWUbHISV3FAkneEMy0jrOE4Yn0yBEyeggvc3ScJd5i7zBT4iic5BQqmhD2CztH9kZVbR0nwbGYl0cWw9+7tSMXm9s4+nBuQpRSBR+qcsWz2DmwOVIQO0oOkdFXM9CXghpWDxWK8JFpod1tHJ6D5ZqVgxa1Wxs8Qc6Rs9nFjrINohz8eALdYTp5QhA+FkP2eq1uDxqtHh2nMYA7bpVUbn4cniDnLBu0iY2kRZFaM3zYYRUsOXuYeRwIbfUBaK0iKaR9kfTlYcbq9JzwbORcioG2Wg2nyBkKNby6TEfMc9TCB94V2lJcHzYT2ngCHb2Z/fAxHgLBfkvl8Dg7G7ien2xlMT4nQ0TYqkIPUW1pD1kJ2xINTMOOTrJRyDO+D4XiIAgQ+Sma1s5uuHuwmIgyZJastvZA0S8FwnG2dCzC8WGOe3p1cl1NVv6UBuUzzT/98Oe/fv+RApQJP3tBZfiWOjtYoYZy8BASvewH5WH6Y6F8Wuakmk5DwBKh9aj/ReRPf/nhrx9DxIApvy8sR9kZMoRgyJkT7AofohJy5dNaH5KQpprZ5N7xyVXr48cfP/74/V///MMPf0GKkH1QBRxJ8yyVZ5aM/imD3uQg88CUEFtCGgKZRiQSyV4eHmGsjP3eZJgIYPzzX+ClyvGRMiqAHhGmE2/P7fgqGYlUH5QS0lag9qG/TV8eYVEKApYQeo7JSYJwcjI++RFiDQh590bqKR0IJYIwcwx3OeFf0/1HyPD5jy5Jap/hqWqQMIxbAi4kQ7K545Z/lPrBc21N2PFVJRK9zGgPAyGz3swxJAPVw4xKayu8dIJqaJOgmjkBCxu1p3QghJuqrUszkjzSqKrfa0Pm1ntYMc3sYZBkVrJVXBGlPFEdldFTmia0bqSdFDNk9Mjoj+UguGMwY+WexNVWRtXxAuGXuYxGsidB1Zmo2atQnCeJeFFbLU85smekCLkSHlXMyHFGUq42fufkjmcX1oCs46EB38xhBZKoI5UX4u0lKs0mVsQrU085WoLs2yTpI/bAH6vwVJmj7DloITz2qO5yh6eiWS0tODlaTPlpJ+j0cNxCVsl/slBDErGIQoomwjX0lGBih8TARqmDPg6QxADHplnJmukr4pDHTNBW8XBYqtfr8wVZKAKxyGQ86OePIswXY3+VVAlAguFpKuQNcfLovL7AsgbSSZWu0MRU6ihH0wJhwSoLoeJ/JcPz1aCkjVkHmScVA//W3bwBv//JhE2mVKYynF/ShIiBVOWI3U5OLNqvlvw+r/h6eNJAlbBVhbZl/CMiyOyXqzgF+GOWJJNHqqSNVwWZ7vPhCGKo7BWfJk1M2WRepa+xBz6qRNIfiGcAfPj4oVn71RMhhWusSF6FEgYh4K1ktNF0hPBNLzyhgvedmJiOx1tZOj3kMqgq8EWOjyC0TJp/YpNZ+MLoSwG/pMLDkFQCY2FZokSY/h1mI9kron60xoJRBMng4mj1008m4pIWsPWZXjtCWYVYo3I0mo4w4IMv2lL9xcX5ePwkyWbYtMasgqCA8pTd8CbixPLwFU0NTkwsYHdGcgmZPgnjdwWeoGXxI2xUmaYfAHDhycSkqvgcbtvylKiE8AHZq1EEhKCAMjynTfCBP35fpSpYGjNAn1+anJ7mt56Hdmt+CtCnUICT8RAZBcPu2Mv8r3YICtSSeYmKBDnwW+IDQQ0nJ0EDJ2XJ53hwSwkJwVY2kr7StC+2YuhqgsRS6DdNvmzyCD/+C2hhuiWJrmQc4kVDDXK9QcubBMujz6XIIdKfhGh0TAMCGr8Av/OWLNSP+G/WkYOCBeNx/KCg5G97cOsqjHhaSQxntC+1Yq9fCdGuJs6HDrAaBM35/PE4aR6rYwYIrkIlaSv2XdDucDvAkKpofjHoRbQIzK+C7lclFXoGgBUWwEiBoDtAEXEwguCGrvzaF/pir18iAMFSxEA9dCakK578eIKF/jF6EWgQaQ4aFSghAmRdl9cnIcAw8LNNaSQqhPxaKjdfqxPj9XYgGCYm3AnQijmQYAas+Iha8Rc0gQKcREvh+Y9waKCPpOsZowoSo8IwRoJbtgGEviXsxICX71ejyRb5qt3ro9AiebIbQH5HhVtx9qjjU7rm3+4tIADDaClW7kO6Y7RnjB1GmTS63F8MFwLBcG+AW0R/tA/VlqTy7s+lzOBX1J4ABcFg8CiLygxxJC9xiccZeOpagACcDOHtxAAoc1X8S/4ayRwJWyZnewGsmuf72HhaaFGsKG6GCv+43gAtHcS+/ihtVjIhHPHkqZ+I67XBHAwHaEVN4lNYSv6VCjLE8noB3Eib0Q1h8Yotj8jFQPRceYZ9UB+AjKCkYk//fdqsfoxzW0MXo/AZbeRL6qs9nQDFQA2fC3xPAF6bZuTcwys09hh4xcitrBRj+iv2QQJgoNu9kCAADEP2979N81+ezM7Oz8/HsQ8LLczbJN6foAtAD4kJAqwfcOlLt05PO34XiPv6Q+olXq03wKVs5NKMnvLv1v7NrsTK8Ocr3aAf1B8gIaiooYVFkH81zX+FvyYm5jEjXLDXLybmVc03NMD9rLltzdPh/KyefDeLEXZy2/nB2nKw47NfFm9AcqszHa8QeW6Uyd+rRmGmvwYeRNNbyei1hxZZHfO7KcALXSc3whymH0AslmkEICSSP5jm/0EVjGO3atfA2Yn5YK8P6QLwIBqp0nsQTy7PomrJs3766tJ5JJI9r6SjkY3+APVULlfUYwl3gnMxanOr5IJ+ANPRY3i0ypL1xYpvEAHOXCRizz0DAyS5NgJEUEkz++NkPKhiwK5JsqhJzE/MhiCVHRZgFvTr1LpAWZ7AP6bYw1Sj5u7p/tJ29WDL8Tn+Zbnjs1/qKxdnz1YN44Jdo5BHV71uAAO9Ab6NmqfgRyK7ns4gbcUwioaRKnuHAOhhADEF/zFrJj+GIOT1ER8iMmoAGO9rwx0A35rVauTAdoX0bkJenmI/7JrmRsdneKFLUpfj0Dc5n/ilPoe6l4q9oD9PL4fgz8VFnxvA3hroPY/uwTd2HknuezBaczRqxbjJ53Op3PowAL0IEMso09PgiiOXskrdMM+ogeCdAG5Vzd0Ns7Jku8S//Jrz8+xF9zo/L7QMsoN/zHcCnFnTi2fsmWd3VO/UO8kjAJL4bRCAEMMcnJ4uHUcind8fmPCrs7OzFzn9YhiA0HAAOE2y2ONomtaduI/SwMXEEaCsDAlwO53e96ClWKItv55g/9w6j3zAv69BLBv2Qc4yuTwNuYviBGjcJApzxZUL8dCzy4vLGv9pTs8lUHJ6X4De6whbAmgm3QCu4l9l4ks4wHB/gMFpaDmWy2T5qqVpvOANFJmTRg0cFuA1ODrsrK13yctPlHcT9OfTiknQmhEzkrRrqXsfCB1TKmXk3lu/Wn4dF/+eg64LXofuqy/A07SJ6wCzEABETzvuQwHOzOl3AMjKZYp9NIFxCd4F4FI6unt6+jYSFZYiYf+nvZsgDwMaSLrH3d1L0wnQ3Qvn36+tvczFXvKbTb17sqwKgPrzNZRX/TXwAB7oFGTpjRm57gSoP3//8mXCiK3dASA4DzpjGscSlrZ5o9Cn3QXgQdTEL9qkkQyKOh8gf9IwZi9apZb7diCAxIm8jxXZM0+B/c6KC4dwIqZZoe/ZqkayHSq4EtNBjBv6PQ0OUJ6emAqFMA0m9cbTKhnIuF76AoBbacIPCKY7LQXlrUltuANgYEHruJgBfMkBLrzDPnJ2kYWUgwPcffqUd8q70acHbbfxrBN5z13VcAAx/CNJ1246mk5WK+bT5JbnzgB3Tfh+oRddSrpYChGIAw+2l5a2r9sAugnEgWsXF2vFWIL+7KPkuKcZHODp9jb3WFvb2+5fLcPixQ8aCiB6X5DtdDS5sbS/9Ca5wbjcAeBWNcq4XUcr7nyWqrjiDFcgDwLQKBaLRiz/zPVlV4DTPQuq/YS4UFpQHRQgXoZuNxmt2F++G8DtZJI5j9Nk1iXgIvL2PAseMbm71eV1S95voiRedsmFX+VJ9OF5mS+PBiDiO3sxo0nBwQEGMdAD2XoadTT4rk5kINk6XepPz/2pe7zUr5zV/8MxTS7oq3RMZBiA8OPG0zS2aXsP5K1nzADvKj0HGkYBELqydT0lyaHw1LAAd6NZBLjx1DSj6KXuH0BiX2fdEY4AIBa6Sjl9nQLsU4lq18CoiQCXdncr9xMgSZDWVgJdR2q+vA+kQxFlffNzfHpogNAHvqUvVO8pQFSP9dizrmMEXwyQjZDWb4wGApweDqCnGknvkxfuJ0BqXit6wt9tRtRAALeWerkhUotSCqCCkKNNh4YDeJqNVHZPl07fZO8jQKodNcO4qXcbKB0A4EE1WTm/7h5+esmsjVrMaGKdKqQKgN6FBeui+UlxPztAz0Ya0thK1qSpzn0DSJRjXTeMW0lyJ9gX4HYlaqahfemOAHWN5MK5uRd+H84TKRg3CxOLAFDjAOWd72bZPwOL3+2I+zkAerzH57jz0zXJdL4EoLdvkLc1LGs6BSZnGEau1mXKYT+AS5VodnfjdOM8ud3+1rUYZDypWEwvlPySJNeLxk8TiwtxWQAMPHn9mhL0TXz3ekHczwkQZP90n7/lzgC3d6/3Dt7sd3/H6e7B3vXBm/6h9LMXRC4IDkhQSwZKQ3af8CUASu4ALyMRohr7nY+2FiuenZ1dFAw9oSiSHP9k5H92APQEgNss+fv163nrfh0AHVzsAH3zi20Sti60A/Rep6NPnz7tUSl4W4k8xSvOnZbkn5Lar1yP6bEYKEfizENmsTUIwGKGzDWF11cTtP70PrE60x/g0+hu+w0sgCn6txFb1SCM/tuN8XcAGLSjmXgNVgz2+5r3hsMBDO581yaLXleA0M/s7W4cpNPiaSee4O+nnrAfD55Gkgcbu9fpNsQu9cB1PffqVWKzqBtrXj/kVwkCUG9A50RsuEsxwR3g0lOz63fKAXoS+sqWpIYmb42bnxcmQ/YpqoEpsGLQQzFqMxzAQHi+TULWhTaAByYlt231M6HlJziWwQr2p+nINTHejbaikhtAWsa6WNGLMz5FreUJQONXPoF+KIBvo9n+AF/EilsKAPycMv6OAB0z44Dea4vfQACnhu0DXcuAoeXZ+R1eh7+OdDFulzERBtDzrBh7CQAbho4WfPNv/1e+A8DT6AAaeBHTwY2EJqd/MoxfJuOqo6/17rwWg2OeMQHcTqc7XBwEAa93OJwtGqZ7yPiE+OCAJEmh5bAiSX77+zhATzmWAMWo1T//BL37v+MzC4CYGQ8E0CtSrU4RACFOwnmG8fAveeOf4TjEMVbI7iMaOCveNBaAG2a682sG+33H77vER+Wi9oJql3FhAXA9tunHcdbwb6mb/5gIhThAPV9GWdEHAOjJRrL00zrdvwC4oueht5Xj4fl/GMUmjukKFST+l/niOwD0zQ7khV0Bzu6ooR1236UkBYjjixbAgCpJ8eUwxLDuGggAydTvyQYAfBcMsjhmzkAvDeGbMQjA03Q0ub2/tVQ1OzSRAZwpxFIXOGkoHl5Y/NXIf8ZsmKkg879T4It52DwUwAG98Ha28+lmlyUc26S65RU1//ZBpR594MxzPbGl4Rzo34z8LzvvQiySntPn3r98+fL984E00EMHfbIR5sWcANdevFjP68Y6VvTBiyws/pwybjMSz3l8zP8SX3wXgJ1eOGhdaAHcP4/stT9dmIAJsvHwAz6q+DbSd1iTA3yfir0n60Hm/59x87fpnUXZP3wY40H1xxA13TmWAJlICrU59d6LSaOEABc/GamaytZKIjemASKSGUsfiHOHiIbtVru4vP00AzcwwJnVYuw56AWkCAv/KN78LTQ9q9LlXMMCRIYbbgnQBZkhUiYTILzwxmAccuFfNo2EzKbIqzsifgYr7pYLt3O5C0DPNSTrl8fwVZ93uX4jHYlUD46T7VM7XIY71vVirmhALgJ8AmTmfzOV/0wWzgTuCHAA8QYUAnD+NyPVYIWLQDgsXg9MU2MaE0DvboXYyV7XoGu7SlK5SLVvNrweI5nc3IsZsiJJUeUG9OyyKCaMB6AnAG4YAU4n9FxJ6brgeUCAQ8/O8uyf7h5s9Bp12zrdONjdOO1fTJg5I0IGNcnqBIil8yVZUhjAFQFwbrQA1dA0Avxc1J93X+fSDvAFi4WexWL4xHcHOB6htc6GsRlU+9UDvxSg188AhhuG0ei6UKMTYI78/iyWupcAyeIdAMiWtLhcMTqAUnB6anE+HI4XjFxN6bLY72EC1DfVbqtXsEHxUQEMTy3iSuNaXp8rkR7DXeMfHMB1PfEVAPoQIFmqnWkaRrnLii0XgGTC8cU9BqiW9cLXAKjICBAXQMtlw2i6D2N1AjTyRIz7CZBsalDQP30VgDi9bQFX68qlQreBwA6AupFDubnHAEsJ/farAZwmAOVaztgk3WD7PTs18ObsAuT9/TRhsjyytKI3viJAXMUqy3XDmFOUzk12HpgTIePCpVysqYo4uk36hTFb20zcPv4ZkxmPBZCsAgaCzaJecImnxwPQaz6l0nUEDFvy5vhgo329putqzTPWrjOyTlqppWI4Knw3gBtPo/TR3FKgfIzKC48DIN0j5hZcsdSxVdaYALL1GGmrLDhNhp9CIhvfoLmwee0cVXKbpQ/ZLpVX1IRruq52S0T6A4yaSZSKG8BNXDEMsmYBDONeR3Q/tU86C2YcQyQMIGk4KCf0gQyg8WUA3+yjWE85vxPEgiwv1m+kI+nqwWUl0jZ64grwuV7EZuVe4sCwojT1lKoqUpj1ga82Xaf4dgWY7t6KTX3NIsMAkqSRbC6hFgyd66CgITSQlK293osEXXx7lih8GcCOPgYIxgW//XTknEwNeNt/WBMAsnIBrcYot0ZOleTlRYU2Y7hqDGhg91Zs6i/Evy2Aip9tzxEqWFbMcViz9P188XG7hd8NYMfUHe/88jsxWHTgss6FiM9agWSJDSA25bnx/xeC796pzJKGBZj2bqG43d0doObjG5wEC7qRkDT7Nh/WQhtc5drYvHDOnb27BpKD6ZJ2SqHXO3wY3hoTsYuKm5btLMIf070A7ueMf7xeXpZ8vrsBpA4u6woQ11MUiytndoBYd+QE1XJKz9OImmlhwL5WrqzrDR/dWoodqOFX5NAdnQg5EtEGEOyX9IMofFTOOawpzc7OPtmZgD8m2wDSdhWf0WqWYdR3vlsQi/oQIO5WMjBAct5g1eMim4ah63osZwdIF4AIHWwU9VxDszbTD9D1wrjn1WfwMp9KJFak+0fhaRpqKH43gLsQam1sW4YSX54FK2Y6yMeF8cxEZ0nf3YRJu3SdAqwZxf989+R1mDvDOT1fQMkPNCrX24SNdVIJ8LYDtG1TVC8aRqGk8fMc4PPjdMH1fwP+W7HzEN+xNhSfvENJ38WJTJH+b5YOBvKZCftbuwMsNgQTLpB2EZNQGsa//WdQmX89zfqaOYbXGGhceGgnQpY52AlCXqyn1kvsSBGcwYC7dvz8d12/+QcOlS8g22nHrqNDr1h388IOuY5UBh7WtPpAut9QwfhnXJJ884tsWSKOC6Mk9EGWevUJY7oAdBAMNnK6ni/XtzQ/BDgqjj39/Pe8Yfz6X8hvcR7RTju3PQnZ98EcDOD1Lkq3dV6n6Qhd79oOMDDt77zaAoi1GLAzEkdLrB493K4doIGXKHtuj9YLICeICGtlsOObzXIdzFQOff7p1xvDMP6Je56AKYO5Qt8XosdA0P2A48Nue+JN06X1kfNu2HejkcrB27fH2W7TtFwAekktpp4rNnGfL5GHDLfYUKRybllmPtYNYNuui5nS7WZKx0F4XAUJ3UceEP76G/JDBhp8z3TXkzjZuhU9eZ8SQRvA6z0qHWtyhbxN0mHNykH/cbm5WIE0ibSgaeRrjlLCcBq4/4aJWxy69uKsG0BOkG+eKteatysp9NkxI//pt1/++5+GUfz0C9E2CHP4xnUhunld/w1Qh6/GLL05uL7+4NqOdrl4QffRIF3grb6Je0767whwYOnctcO2UzbZDj4YKtXqzXrt82fcvnX+N+gGb24nESA/HERsPtZ/67o7lbOG3I6MdIGlFf3WWUp4bjCA/TedGOpundue2DakU/mRrmSDokna1/0ECHONEt1P2RL/IHtbfoV6ILXgmqHXVLX7hnLjBGg/cEESx2SQQ1voqTd/u01BrtdUbEcdBrov63PIVwKoKKt6Ue5ajvaMGSA3Y9IV2k68DQb5wTe1hKEbczVNnDQ66F2/DkBNUXL6p+7FQM/YAVpnz2iOE28JRLLdaT0BWlioW8neYLf7CgCJBdf1VJ0CHG69cJBMdB6sOXwvUUl23cVXnN5nHR5sQcROsbmi68VybbhTl8cPkHaBZX2zRLdk7XIbF4C4vTDuqjHQTprERgketput+0bcAfvpEeK4VpWergepCjjkcmkYLRSb0I4TIPhgmoYo3S04wPaKEAD5RtxBSZzz0OMJWbCHPORQj4247dv0Wie2KvyAwmBjExLm1drgCANiG2RNHBM7OJwBhCpgw7ipy65doCjA4VYHDoBqCLJ5nI5MN9oP98xKvQGFbclP9p6cmurYS1/cTxwAI04QtkU4cm39Rjdyq6WtARHyfaQxa6FlihGfwEJ8cCmhJ2SZ+mDHpwvnqIHCxR0AyWkOjgNZekRl8DEhx9XQB3a3KWunbXFei3W6nly6LQ5hyLat4NnZMKPdOJps9q7UDb0uuw0Jk8nT9By4ON1Ln3fGaNKgTWR/XSLTUm+Aqtj9lBQHgv33j7Ue0X66HkGYB3eyPpAhk8MI7Ed6TIRHC5AEgSv6iuxmwdhu+7k/UwCQWaqXrM2ZROEHsvQE6CedH6kCkLeQeuqAz8jtgB9QCIZ8WwRDLtf6GzIeh+E4umgi3NVR3kG4AhpNroDtAGXn3ePsNAecTaPI/IBHPJmwZ2IvjoXgZ3rI/esojsd0IiRaeGMYxUKJd2vdEOLRRSGSErKTPEOS5jaB9I5C6wjQA5ZcXYiXFIZFBS4cjovwl75T5QfGSVLvPbHZsRAsS+vl77u839vuTeTSOnhko1xXegaGqPtqiJW/cEKTKo1QA2klsJEqNlVWCuzsArsV4Mie/prCz9mDNvQOY4gnsF0+bEfUjhANGUvYxUJT64UQTYUehxai52gPsH/8EM+ELngTXbCrUlDLk63b2+3Ufmy6r+/RPSKQZoNGdzoAvP3IYIgL86CF+abU3Z946ZCjxA5jGenxDTwJMWo0hunUITri3rUA57XJALcb6mr3T2gzZGDYhBxZzzdqXdWQHlPE6mAjjQPJ6R/oQW5dXbDbzb/W2RHdxOuCMNgsoBaW63wP/46OyBmZj/TESTDgOciCXYNocdU4bn5n8XYYMiCsFXD0aaVZ0kQH8RUelJ7aUTaKza4KeC/FgZDlyJnaOg5G5RyWPObmUC/aMPSG7BoD3mNxGLKIapoJAxB+qtv81DgbRDpArZ5CDyx32+/p3opNC20uuVa+wd6wUVLGr4a0A6znjM2aMOAHBLATIRkSzZQa4JNjudV6yT9WhmwYrJ7XczWZDYU8JAUkYiHUOELoDUv1AnSGxQQpeHGnPGqGjF8tr6fqclCVHqACUrENpFjjecHSar6oG8Zcs6TZGI72tnjTek4v1kkHOO7D6cYonZ0hia7rZchQ9GLZMuXR6SEfxW4W9VxdJPYPzoCFOC2Zp8lyjTjl4uZqzT9ahqw8qTSKerHGThB9yPw8AqEjrAnihMPGZhG3RFwtMVseAURe3S0loI+oycyBPFgDFiJOGXeEhpAo326CHhpzDWrLXwhRKLvUzOnGbYnp3yPg53GxZG7K9dtiDG25XNe2LIZ3gCjusFUDR19syI+KH4qX2ZedIephsF7IFyHCLiaa1JjtEAcdlxHFO620ihN1atYB3o+Fn31kXgzIM68cbK4nirqup56vN2sdM5R6c7QGq/G7IcOqm1T9Hhs/FGFnTlPGXLnWmEuBMafyiVVmzTaKgc5SJf85IOj5tyA8gk9Yr8nkWPlHyM9jqaHoDkVkg8Zc3rxBr2KsQIhIUmaOkYNsFz49Aky3tprDVBucB1U/yToB+JFJhymLeZu4HqVRfl4kyzfyhfUm8842jk6hr2xppbX1OeLP12uZIB2hdz/A+7GIrdMX85O4MYM1N8sraM56KreZKK9Ct7i1teV3Ffh97X0Z9+qFqwv1EvkIcYD3o+WHYtdDa5IXY4hrKhqFzZuiQZYSGcWVwmqj+azkkFq9sVpYSeGCI+MmX2gGqRZzfG4HoD8ucXSHwpgpRIJRrTUbt5/mckW6JisW01PFHJdiCn9BDnSbKzfqjB7H99jVj0sXhqRuwygGS7UadowrZDNAu4CFryTKzXqtFGN2KBYAAADGSURBVGQz3xm+P4T6CfFatmxBdFBkJAGPXKo3udRrjivYBAyO7w+hfkKcsTCZQOygaHHkKDt+w4bllX5zcR6vtDEUEMWSgDZqFks2p4Eq33BT3B+ZOBTRmsxuWxTQKfxFRdO+6qDzvRXbNGwOUVPsGDtEURTNovcHx0fEa4No6aK1uMIufFLLWMZWHrSIOkHAnrPx9RV+tqhMZHiBb/TcxKIY6Mh/xY+iWPN7P+29Fa+No4t8wXS8P5x42+X3fqBv8k3GI/8DCrvFYBr6bxUAAAAASUVORK5CYII=)"
      ]
    },
    {
      "cell_type": "code",
      "metadata": {
        "colab": {
          "base_uri": "https://localhost:8080/"
        },
        "id": "O9lK1Br3Qk_7",
        "outputId": "6e90741d-cb0a-43c7-8b71-2e46cf991b73"
      },
      "source": [
        "np.dot(np_a,np_c.T)  ### multiply matrix to matrix    (a,b) x (b,c) = (a,c)"
      ],
      "execution_count": 21,
      "outputs": [
        {
          "output_type": "execute_result",
          "data": {
            "text/plain": [
              "array([[28, 10],\n",
              "       [73, 28]])"
            ]
          },
          "metadata": {},
          "execution_count": 21
        }
      ]
    },
    {
      "cell_type": "markdown",
      "metadata": {
        "id": "ssdYSImbSFVO"
      },
      "source": [
        "### Indexing & Slicing"
      ]
    },
    {
      "cell_type": "code",
      "metadata": {
        "colab": {
          "base_uri": "https://localhost:8080/"
        },
        "id": "HdDYZ7d7Qrl3",
        "outputId": "02998a9b-c4c8-4a03-ee45-b0d84f0c0ada"
      },
      "source": [
        "np_a"
      ],
      "execution_count": 22,
      "outputs": [
        {
          "output_type": "execute_result",
          "data": {
            "text/plain": [
              "array([[1, 2, 3],\n",
              "       [4, 5, 6]])"
            ]
          },
          "metadata": {},
          "execution_count": 22
        }
      ]
    },
    {
      "cell_type": "code",
      "metadata": {
        "colab": {
          "base_uri": "https://localhost:8080/"
        },
        "id": "8VaxIghHSMZJ",
        "outputId": "62badd88-3a9d-49ec-a20d-77dc9fcdca02"
      },
      "source": [
        "np_a[1,1]"
      ],
      "execution_count": 23,
      "outputs": [
        {
          "output_type": "execute_result",
          "data": {
            "text/plain": [
              "5"
            ]
          },
          "metadata": {},
          "execution_count": 23
        }
      ]
    },
    {
      "cell_type": "code",
      "metadata": {
        "colab": {
          "base_uri": "https://localhost:8080/"
        },
        "id": "xnpOS58DSPRR",
        "outputId": "ea5dcf30-eec2-422c-9887-11b2a88a9db2"
      },
      "source": [
        "np_a[:2,:2]"
      ],
      "execution_count": 24,
      "outputs": [
        {
          "output_type": "execute_result",
          "data": {
            "text/plain": [
              "array([[1, 2],\n",
              "       [4, 5]])"
            ]
          },
          "metadata": {},
          "execution_count": 24
        }
      ]
    },
    {
      "cell_type": "code",
      "metadata": {
        "colab": {
          "base_uri": "https://localhost:8080/"
        },
        "id": "D5e5JTI0SVad",
        "outputId": "1761a7ec-bce5-4351-9c15-6bcc7b2ea2c0"
      },
      "source": [
        "np_a[0,:]"
      ],
      "execution_count": 25,
      "outputs": [
        {
          "output_type": "execute_result",
          "data": {
            "text/plain": [
              "array([1, 2, 3])"
            ]
          },
          "metadata": {},
          "execution_count": 25
        }
      ]
    },
    {
      "cell_type": "markdown",
      "metadata": {
        "id": "UnVYP__uSp7I"
      },
      "source": [
        "### Useful functions"
      ]
    },
    {
      "cell_type": "code",
      "metadata": {
        "colab": {
          "base_uri": "https://localhost:8080/"
        },
        "id": "lVperx21S5Tv",
        "outputId": "5bf63f63-dacc-411b-940e-e2659d825cd1"
      },
      "source": [
        "np_a"
      ],
      "execution_count": 26,
      "outputs": [
        {
          "output_type": "execute_result",
          "data": {
            "text/plain": [
              "array([[1, 2, 3],\n",
              "       [4, 5, 6]])"
            ]
          },
          "metadata": {},
          "execution_count": 26
        }
      ]
    },
    {
      "cell_type": "code",
      "metadata": {
        "colab": {
          "base_uri": "https://localhost:8080/"
        },
        "id": "yRUV5jf1Scvj",
        "outputId": "39d12355-b782-4f07-da30-b98bf4845373"
      },
      "source": [
        "np.sum(np_a)"
      ],
      "execution_count": 27,
      "outputs": [
        {
          "output_type": "execute_result",
          "data": {
            "text/plain": [
              "21"
            ]
          },
          "metadata": {},
          "execution_count": 27
        }
      ]
    },
    {
      "cell_type": "code",
      "metadata": {
        "colab": {
          "base_uri": "https://localhost:8080/"
        },
        "id": "EVNsFpe2S2u7",
        "outputId": "20160886-ea36-49bc-c854-38b1edb233b3"
      },
      "source": [
        "np.sum(np_a,axis=0)    ### sum ด้านแถว(หรือ เอาค่าในแนวแกนนอนมารวมกัน)"
      ],
      "execution_count": 28,
      "outputs": [
        {
          "output_type": "execute_result",
          "data": {
            "text/plain": [
              "array([5, 7, 9])"
            ]
          },
          "metadata": {},
          "execution_count": 28
        }
      ]
    },
    {
      "cell_type": "code",
      "metadata": {
        "colab": {
          "base_uri": "https://localhost:8080/"
        },
        "id": "gsRluWlTTJJA",
        "outputId": "9bd8cdd9-2ff9-42f6-806d-33e81bb12dbd"
      },
      "source": [
        "np.sum(np_a,axis=1)   ### sum colunm(หรือ เอาทุกค่าใน column มารวมกัน)"
      ],
      "execution_count": 29,
      "outputs": [
        {
          "output_type": "execute_result",
          "data": {
            "text/plain": [
              "array([ 6, 15])"
            ]
          },
          "metadata": {},
          "execution_count": 29
        }
      ]
    },
    {
      "cell_type": "code",
      "metadata": {
        "colab": {
          "base_uri": "https://localhost:8080/"
        },
        "id": "S6YRETiiTYjc",
        "outputId": "a2b74d4b-209d-457a-af0e-a4ffaa6dd554"
      },
      "source": [
        "np.mean(np_a)"
      ],
      "execution_count": 30,
      "outputs": [
        {
          "output_type": "execute_result",
          "data": {
            "text/plain": [
              "3.5"
            ]
          },
          "metadata": {},
          "execution_count": 30
        }
      ]
    },
    {
      "cell_type": "code",
      "metadata": {
        "colab": {
          "base_uri": "https://localhost:8080/"
        },
        "id": "PNk0xUueUDYD",
        "outputId": "2187e0eb-0a8a-43a4-aa2e-c858c7df1f34"
      },
      "source": [
        "np.mean(np_a,axis=0)    ### หา mean ของ column"
      ],
      "execution_count": 31,
      "outputs": [
        {
          "output_type": "execute_result",
          "data": {
            "text/plain": [
              "array([2.5, 3.5, 4.5])"
            ]
          },
          "metadata": {},
          "execution_count": 31
        }
      ]
    },
    {
      "cell_type": "code",
      "metadata": {
        "id": "faw9gUipUQLr"
      },
      "source": [
        ""
      ],
      "execution_count": 31,
      "outputs": []
    },
    {
      "cell_type": "markdown",
      "metadata": {
        "id": "WWrEYFzuUsA2"
      },
      "source": [
        "### วนลูปเอง"
      ]
    },
    {
      "cell_type": "markdown",
      "metadata": {
        "id": "K4VxCbJxVAzg"
      },
      "source": [
        "#### summation"
      ]
    },
    {
      "cell_type": "code",
      "metadata": {
        "colab": {
          "base_uri": "https://localhost:8080/"
        },
        "id": "pWPWltWMWu_k",
        "outputId": "f3ba6f0a-d859-449f-a420-bfb35d254105"
      },
      "source": [
        "np_a.shape"
      ],
      "execution_count": 32,
      "outputs": [
        {
          "output_type": "execute_result",
          "data": {
            "text/plain": [
              "(2, 3)"
            ]
          },
          "metadata": {},
          "execution_count": 32
        }
      ]
    },
    {
      "cell_type": "code",
      "metadata": {
        "colab": {
          "base_uri": "https://localhost:8080/"
        },
        "id": "KOvh1YTWUxAH",
        "outputId": "45d241a0-ce95-49f5-fd63-dfa1f67bba94"
      },
      "source": [
        "sum_all = 0\n",
        "\n",
        "for row in range(np_a.shape[0]):\n",
        "    for col in range(np_a.shape[1]):\n",
        "        sum_all = sum_all + np_a[row,col]\n",
        "        print(f'we are at row={row},col={col} np_a[{row},{col}]={np_a[row,col]} sum_all={sum_all}')\n",
        "print(sum_all)"
      ],
      "execution_count": 33,
      "outputs": [
        {
          "output_type": "stream",
          "name": "stdout",
          "text": [
            "we are at row=0,col=0 np_a[0,0]=1 sum_all=1\n",
            "we are at row=0,col=1 np_a[0,1]=2 sum_all=3\n",
            "we are at row=0,col=2 np_a[0,2]=3 sum_all=6\n",
            "we are at row=1,col=0 np_a[1,0]=4 sum_all=10\n",
            "we are at row=1,col=1 np_a[1,1]=5 sum_all=15\n",
            "we are at row=1,col=2 np_a[1,2]=6 sum_all=21\n",
            "21\n"
          ]
        }
      ]
    },
    {
      "cell_type": "markdown",
      "metadata": {
        "id": "yrd-T6haW33B"
      },
      "source": [
        "\n",
        "\n",
        "```\n",
        "np.sum(np_a,axis=0)\n",
        "```\n",
        "\n"
      ]
    },
    {
      "cell_type": "code",
      "metadata": {
        "colab": {
          "base_uri": "https://localhost:8080/"
        },
        "id": "LzpqILmDXv68",
        "outputId": "98852ef6-0630-45c5-db6e-f69ba81f038c"
      },
      "source": [
        "# หาผลรวมของ column แบบใช้ function .sum\n",
        "\n",
        "np.sum(np_a,axis=0)    ### sum ด้านแถว(หรือ เอาค่าในแนวแกนนอนมารวมกัน)"
      ],
      "execution_count": 34,
      "outputs": [
        {
          "output_type": "execute_result",
          "data": {
            "text/plain": [
              "array([5, 7, 9])"
            ]
          },
          "metadata": {},
          "execution_count": 34
        }
      ]
    },
    {
      "cell_type": "code",
      "metadata": {
        "colab": {
          "base_uri": "https://localhost:8080/"
        },
        "id": "OE5nGyKYWIRq",
        "outputId": "965888cc-7972-4c5a-ee54-9c7018102847"
      },
      "source": [
        "# หาผลรวมของ column แบบเขียนเอง\n",
        "\n",
        "sum_all = np.zeros(np_a.shape[1])\n",
        "\n",
        "for row in range(np_a.shape[0]):\n",
        "    for col in range(np_a.shape[1]):\n",
        "        sum_all[col] = sum_all[col] + np_a[row,col]\n",
        "print(sum_all)"
      ],
      "execution_count": 35,
      "outputs": [
        {
          "output_type": "stream",
          "name": "stdout",
          "text": [
            "[5. 7. 9.]\n"
          ]
        }
      ]
    },
    {
      "cell_type": "markdown",
      "metadata": {
        "id": "TTpOj2gSYkXM"
      },
      "source": [
        "#### Quiz กลุ่ม\n",
        "\n",
        "วนลูปหาค่า\n",
        "\n",
        "1. ```np.sum(np_a,axis=1)```\n",
        "2. ```np.mean(np_a)```\n",
        "3. ```np.mean(np_a,axis=0)```\n",
        "4. ``` np.mean(np_a,axis=1)```\n",
        "5. ``` np.max(np_a) ```\n",
        "6. ``` np.max(np_a,axis=0) ```\n",
        "7. ``` np.max(np_a,axis=1) ```\n",
        "8. ``` np.min(np_a) ```\n",
        "9. ``` np.min(np_a,axis=0) ```\n",
        "10. ``` np.min(np_a,axis=1) ```\n",
        "\n"
      ]
    },
    {
      "cell_type": "code",
      "metadata": {
        "colab": {
          "base_uri": "https://localhost:8080/"
        },
        "id": "IcuG550vZzSB",
        "outputId": "250a697c-c951-4453-8c54-0544d69789df"
      },
      "source": [
        "np_a"
      ],
      "execution_count": 36,
      "outputs": [
        {
          "output_type": "execute_result",
          "data": {
            "text/plain": [
              "array([[1, 2, 3],\n",
              "       [4, 5, 6]])"
            ]
          },
          "metadata": {},
          "execution_count": 36
        }
      ]
    },
    {
      "cell_type": "code",
      "metadata": {
        "colab": {
          "base_uri": "https://localhost:8080/"
        },
        "id": "upBUoSuWZvbS",
        "outputId": "7ea8d00a-191e-4a79-beba-7d5875dae47e"
      },
      "source": [
        "np.min(np_a,axis=1)   ### หา min ของ แถว"
      ],
      "execution_count": 37,
      "outputs": [
        {
          "output_type": "execute_result",
          "data": {
            "text/plain": [
              "array([1, 4])"
            ]
          },
          "metadata": {},
          "execution_count": 37
        }
      ]
    },
    {
      "cell_type": "code",
      "metadata": {
        "id": "r6LFC-3_hrVo",
        "colab": {
          "base_uri": "https://localhost:8080/"
        },
        "outputId": "2d06d0b9-dccb-40cd-9fe6-b46a96b6c19f"
      },
      "source": [
        "np.sum(np_a,axis=1)"
      ],
      "execution_count": 38,
      "outputs": [
        {
          "output_type": "execute_result",
          "data": {
            "text/plain": [
              "array([ 6, 15])"
            ]
          },
          "metadata": {},
          "execution_count": 38
        }
      ]
    },
    {
      "cell_type": "code",
      "metadata": {
        "id": "XhJyU5OLi6Aw",
        "colab": {
          "base_uri": "https://localhost:8080/"
        },
        "outputId": "8606f831-3f9b-4cfd-aed1-6b7aeb2f3bcc"
      },
      "source": [
        "# 1. np.sum(np_a,axis=1)     ### เอาค่าทุก column มารวมกัน\n",
        "\n",
        "sum_all = np.zeros(np_a.shape[0])\n",
        "for row in range(np_a.shape[0]):\n",
        "    for col in range(np_a.shape[1]): \n",
        "        sum_all[row] = sum_all[row] + np_a[row,col]\n",
        "print(sum_all)"
      ],
      "execution_count": 39,
      "outputs": [
        {
          "output_type": "stream",
          "name": "stdout",
          "text": [
            "[ 6. 15.]\n"
          ]
        }
      ]
    },
    {
      "cell_type": "code",
      "metadata": {
        "id": "49qPw635frVu",
        "colab": {
          "base_uri": "https://localhost:8080/"
        },
        "outputId": "a5652252-b781-4dfa-a1de-203a1efeafbe"
      },
      "source": [
        "# 2. np.mean(np_a)            ### หา mean ของทั้งหมด\n",
        "\n",
        "mean_all = 0\n",
        "for row in range(np_a.shape[0]):\n",
        "    for col in range(np_a.shape[1]):\n",
        "        mean_all = mean_all + np_a[row,col]\n",
        "mean_all = mean_all/(np_a.shape[0]*np_a.shape[1])\n",
        "print(mean_all)"
      ],
      "execution_count": 40,
      "outputs": [
        {
          "output_type": "stream",
          "name": "stdout",
          "text": [
            "3.5\n"
          ]
        }
      ]
    },
    {
      "cell_type": "code",
      "metadata": {
        "id": "8kCgGz4FfUYb",
        "colab": {
          "base_uri": "https://localhost:8080/"
        },
        "outputId": "6fa7ae93-363d-4189-df45-7638b431f017"
      },
      "source": [
        "# 3. np.mean(np_a,axis=0)        ### หา mean ของแต่ล่ะ column\n",
        "\n",
        "mean_all = np.zeros(np_a.shape[1])\n",
        "for row in range(np_a.shape[0]):\n",
        "     for col in range(np_a.shape[1]):\n",
        "          mean_all[col] = mean_all[col] + np_a[row,col]/np_a.shape[0]\n",
        "print(mean_all)"
      ],
      "execution_count": 41,
      "outputs": [
        {
          "output_type": "stream",
          "name": "stdout",
          "text": [
            "[2.5 3.5 4.5]\n"
          ]
        }
      ]
    },
    {
      "cell_type": "code",
      "metadata": {
        "id": "Fm76APJdfYTd",
        "colab": {
          "base_uri": "https://localhost:8080/"
        },
        "outputId": "024a2ceb-d10e-48c9-89be-3c159cc5159e"
      },
      "source": [
        "# 4. np.mean(np_a,axis=1)         ### หา mean ของแต่ละ row\n",
        "\n",
        "sum_all = np.zeros(np_a.shape[0])\n",
        "for row in range(np_a.shape[0]):\n",
        "    for col in range(np_a.shape[1]): \n",
        "        sum_all[row] = sum_all[row] + np_a[row,col]\n",
        "sum_all = sum_all/np_a.shape[1]\n",
        "print(sum_all)"
      ],
      "execution_count": 42,
      "outputs": [
        {
          "output_type": "stream",
          "name": "stdout",
          "text": [
            "[2. 5.]\n"
          ]
        }
      ]
    },
    {
      "cell_type": "code",
      "metadata": {
        "id": "IkZPK3LYfd0p",
        "colab": {
          "base_uri": "https://localhost:8080/"
        },
        "outputId": "89180008-3284-4cbe-a6f7-3260790a0229"
      },
      "source": [
        "# 5. np.max(np_a)              ### หา max จากทั้งหมด\n",
        "\n",
        "max_a = -100000000\n",
        "for row in range(np_a.shape[0]):\n",
        "    for col in range(np_a.shape[1]):\n",
        "        if np_a[row,col] > max_a :\n",
        "            max_a = np_a[row,col]\n",
        "print(max_a)"
      ],
      "execution_count": 43,
      "outputs": [
        {
          "output_type": "stream",
          "name": "stdout",
          "text": [
            "6\n"
          ]
        }
      ]
    },
    {
      "cell_type": "code",
      "metadata": {
        "id": "E-sjJNQtiglj",
        "colab": {
          "base_uri": "https://localhost:8080/"
        },
        "outputId": "87360e2c-be37-40e5-993b-2847d61258d1"
      },
      "source": [
        "# 6. np.max(np_a,axis=0)           ### หา max ของแต่ล่ะ column\n",
        "\n",
        "max_all = -1000000 * np.ones(np_a.shape[1])\n",
        "\n",
        "for col in range(np_a.shape[1]):\n",
        "    for row in range(np_a.shape[0]):\n",
        "        if np_a[row,col] > max_all[col]:\n",
        "            max_all[col] = np_a[row,col]\n",
        "print(max_all)"
      ],
      "execution_count": 44,
      "outputs": [
        {
          "output_type": "stream",
          "name": "stdout",
          "text": [
            "[4. 5. 6.]\n"
          ]
        }
      ]
    },
    {
      "cell_type": "code",
      "metadata": {
        "id": "wIQrRyF4lrED",
        "colab": {
          "base_uri": "https://localhost:8080/"
        },
        "outputId": "5e20aad8-3851-49de-957c-fc69de43ab2c"
      },
      "source": [
        "# 7. np.max(np_a,axis=1)           ### หา max ของแต่ละ row\n",
        " \n",
        "max_all = np.zeros(np_a.shape[0])\n",
        "for row in range(np_a.shape[0]):\n",
        "    max_all[row] = max(np_a[row,:])\n",
        "print(max_all)"
      ],
      "execution_count": 45,
      "outputs": [
        {
          "output_type": "stream",
          "name": "stdout",
          "text": [
            "[3. 6.]\n"
          ]
        }
      ]
    },
    {
      "cell_type": "code",
      "metadata": {
        "id": "kLsrehyDfgwV",
        "colab": {
          "base_uri": "https://localhost:8080/"
        },
        "outputId": "b726d065-e038-4c87-b39b-b7e42e9ae212"
      },
      "source": [
        "# 8. np.min(np_a)              ### หา min ของทั้งหมด\n",
        "\n",
        "minV = 100000\n",
        "for row in range(np_a.shape[0]):\n",
        "    for col in range(np_a.shape[1]):\n",
        "        if np_a[row,col] < minV:\n",
        "            minV = np_a[row,col]\n",
        "print(minV)"
      ],
      "execution_count": 46,
      "outputs": [
        {
          "output_type": "stream",
          "name": "stdout",
          "text": [
            "1\n"
          ]
        }
      ]
    },
    {
      "cell_type": "code",
      "metadata": {
        "id": "2135yMYUfoFB",
        "colab": {
          "base_uri": "https://localhost:8080/"
        },
        "outputId": "d65146d0-17ff-453f-a1b9-1f954681b0a3"
      },
      "source": [
        "# 9. np.max(np_a,axis=0)         ### หา min ของแต่ละ column\n",
        "\n",
        "max_all = -100000 * np.ones(np_a.shape[1])\n",
        "for col in range(np_a.shape[1]):\n",
        "    for row in range(np_a.shape[0]):\n",
        "        if np_a[row,col] > max_all[col]: \n",
        "            max_all[col] = np_a[row,col]\n",
        "print(max_all)"
      ],
      "execution_count": 47,
      "outputs": [
        {
          "output_type": "stream",
          "name": "stdout",
          "text": [
            "[4. 5. 6.]\n"
          ]
        }
      ]
    },
    {
      "cell_type": "code",
      "metadata": {
        "colab": {
          "base_uri": "https://localhost:8080/"
        },
        "id": "nPHgzSkfXhsY",
        "outputId": "1f40b763-2bdf-4b5a-b8d7-549642ff2252"
      },
      "source": [
        "### 10. np.min(np_a,axis=1)         ### หา min ของแต่ละ row\n",
        "\n",
        "min_row = np.zeros(np_a.shape[0])\n",
        "for row in range(np_a.shape[0]):\n",
        "   min_row[row] = min(np_a[row,:])\n",
        "print(min_row)"
      ],
      "execution_count": 48,
      "outputs": [
        {
          "output_type": "stream",
          "name": "stdout",
          "text": [
            "[1. 4.]\n"
          ]
        }
      ]
    },
    {
      "cell_type": "code",
      "metadata": {
        "id": "0j_D0x8lftde"
      },
      "source": [
        ""
      ],
      "execution_count": 48,
      "outputs": []
    },
    {
      "cell_type": "markdown",
      "metadata": {
        "id": "jd4kv129Y8AP"
      },
      "source": [
        "# Distance Matrix"
      ]
    },
    {
      "cell_type": "markdown",
      "metadata": {
        "id": "uo1KZQOP3y_k"
      },
      "source": [
        "![distance.png](data:image/png;base64,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)"
      ]
    },
    {
      "cell_type": "code",
      "metadata": {
        "colab": {
          "base_uri": "https://localhost:8080/"
        },
        "id": "0Txiou3xZBT-",
        "outputId": "48e6d3e2-0f45-41cb-a2c1-cc7926c9bd61"
      },
      "source": [
        "data1 = np.array([[1,2],[3,5],[2,0],[4,5]])\n",
        "data1"
      ],
      "execution_count": 49,
      "outputs": [
        {
          "output_type": "execute_result",
          "data": {
            "text/plain": [
              "array([[1, 2],\n",
              "       [3, 5],\n",
              "       [2, 0],\n",
              "       [4, 5]])"
            ]
          },
          "metadata": {},
          "execution_count": 49
        }
      ]
    },
    {
      "cell_type": "code",
      "metadata": {
        "colab": {
          "base_uri": "https://localhost:8080/",
          "height": 282
        },
        "id": "NSibHaF8ZOjv",
        "outputId": "82db4d00-2488-4ec9-fcec-af64ac7d23ac"
      },
      "source": [
        "from matplotlib import pyplot as plt\n",
        "plt.scatter(data1[:,0],data1[:,1])"
      ],
      "execution_count": 50,
      "outputs": [
        {
          "output_type": "execute_result",
          "data": {
            "text/plain": [
              "<matplotlib.collections.PathCollection at 0x7f677b2b95d0>"
            ]
          },
          "metadata": {},
          "execution_count": 50
        },
        {
          "output_type": "display_data",
          "data": {
            "image/png": "[encoded data removed]",
            "text/plain": [
              "<Figure size 432x288 with 1 Axes>"
            ]
          },
          "metadata": {
            "needs_background": "light"
          }
        }
      ]
    },
    {
      "cell_type": "markdown",
      "metadata": {
        "id": "GMCbNfLiacyy"
      },
      "source": [
        "### Euclidean Distance (L2-norm)\n",
        "$\\sqrt{(x_1-x_2)^2+(y_1-y_2)^2}$"
      ]
    },
    {
      "cell_type": "markdown",
      "metadata": {
        "id": "3JZYrAwReQ7G"
      },
      "source": [
        "dist(P1,P2)"
      ]
    },
    {
      "cell_type": "code",
      "metadata": {
        "colab": {
          "base_uri": "https://localhost:8080/"
        },
        "id": "qSl5ci9eZ85Y",
        "outputId": "20cb6901-757f-4597-b5e5-c83c9b9f7cd9"
      },
      "source": [
        "### ใช้ np.sqrt\n",
        "dist_p1_p2 = np.sqrt(np.power(data1[0,0]-data1[1,0],2) + np.power(data1[0,1]-data1[1,1],2))\n",
        "dist_p1_p2"
      ],
      "execution_count": 51,
      "outputs": [
        {
          "output_type": "execute_result",
          "data": {
            "text/plain": [
              "3.605551275463989"
            ]
          },
          "metadata": {},
          "execution_count": 51
        }
      ]
    },
    {
      "cell_type": "code",
      "metadata": {
        "colab": {
          "base_uri": "https://localhost:8080/"
        },
        "id": "J5Cf8MhGdNg_",
        "outputId": "f71d870b-4099-4427-b2ad-a72dd6c3c90e"
      },
      "source": [
        "### ใช้ np.power (ยกกำลัง)\n",
        "dist_p1_p2 = np.power(np.power(data1[0,0]-data1[1,0],2) + np.power(data1[0,1]-data1[1,1],2),0.5)\n",
        "dist_p1_p2"
      ],
      "execution_count": 52,
      "outputs": [
        {
          "output_type": "execute_result",
          "data": {
            "text/plain": [
              "3.605551275463989"
            ]
          },
          "metadata": {},
          "execution_count": 52
        }
      ]
    },
    {
      "cell_type": "markdown",
      "metadata": {
        "id": "QKeo7VDMeqGK"
      },
      "source": [
        "dist(P2,P4)"
      ]
    },
    {
      "cell_type": "code",
      "metadata": {
        "colab": {
          "base_uri": "https://localhost:8080/"
        },
        "id": "KuAr_QkXd2Fg",
        "outputId": "675371b9-4675-498a-ed3d-7eba0054a5a4"
      },
      "source": [
        "dist_p2_p4 = np.power(np.power(data1[1,0]-data1[3,0],2) + np.power(data1[1,1]-data1[3,1],2),0.5)\n",
        "dist_p2_p4"
      ],
      "execution_count": 53,
      "outputs": [
        {
          "output_type": "execute_result",
          "data": {
            "text/plain": [
              "1.0"
            ]
          },
          "metadata": {},
          "execution_count": 53
        }
      ]
    },
    {
      "cell_type": "markdown",
      "metadata": {
        "id": "KcX8YgNKf6sZ"
      },
      "source": [
        "### Distance function"
      ]
    },
    {
      "cell_type": "markdown",
      "metadata": {
        "id": "Opx-yoHxh9Fy"
      },
      "source": [
        "dim = 2 (2 มิติ)"
      ]
    },
    {
      "cell_type": "code",
      "metadata": {
        "id": "AveekNzwfSdd"
      },
      "source": [
        "def dist_l2(p1,p2):\n",
        "    return np.sqrt(np.power(p1[0]-p2[0],2) + np.power(p1[1]-p2[1],2))"
      ],
      "execution_count": 54,
      "outputs": []
    },
    {
      "cell_type": "code",
      "metadata": {
        "colab": {
          "base_uri": "https://localhost:8080/"
        },
        "id": "VcSUESYLgqXC",
        "outputId": "4e0d4106-0124-433d-ff78-e9ba085accef"
      },
      "source": [
        "### จุดที่ 1 กับ จดที่ 2      ### ตัดจุดที่ 1 กับ จุดที่ 2 มาจาก matrix\n",
        "dist_l2(data1[0,:],data1[1,:])"
      ],
      "execution_count": 55,
      "outputs": [
        {
          "output_type": "execute_result",
          "data": {
            "text/plain": [
              "3.605551275463989"
            ]
          },
          "metadata": {},
          "execution_count": 55
        }
      ]
    },
    {
      "cell_type": "code",
      "metadata": {
        "colab": {
          "base_uri": "https://localhost:8080/"
        },
        "id": "lf50Co74hE2Y",
        "outputId": "12761b3b-f2ff-4067-cf7a-206afcb07e67"
      },
      "source": [
        "### จุดที่ 2 กับ จดที่ 4\n",
        "dist_l2(data1[1,:],data1[3,:])"
      ],
      "execution_count": 56,
      "outputs": [
        {
          "output_type": "execute_result",
          "data": {
            "text/plain": [
              "1.0"
            ]
          },
          "metadata": {},
          "execution_count": 56
        }
      ]
    },
    {
      "cell_type": "markdown",
      "metadata": {
        "id": "Y8NRGq8kiWoQ"
      },
      "source": [
        "dim = n"
      ]
    },
    {
      "cell_type": "code",
      "metadata": {
        "id": "NuG82TlyhsQh"
      },
      "source": [
        "def dist_l2_n(p1,p2):\n",
        "    sum = 0\n",
        "    for i in range(len(p1)):\n",
        "        sum = sum + np.power(p1[i]-p2[i],2)\n",
        "    return np.sqrt(sum)"
      ],
      "execution_count": 72,
      "outputs": []
    },
    {
      "cell_type": "code",
      "metadata": {
        "colab": {
          "base_uri": "https://localhost:8080/"
        },
        "id": "FM4G8Djij4Dd",
        "outputId": "5c1d0a67-e3b7-4de2-9c1f-80f0c41d7692"
      },
      "source": [
        "dist_l2_n(data1[0,:],data1[1,:])"
      ],
      "execution_count": 73,
      "outputs": [
        {
          "output_type": "execute_result",
          "data": {
            "text/plain": [
              "3.605551275463989"
            ]
          },
          "metadata": {},
          "execution_count": 73
        }
      ]
    },
    {
      "cell_type": "markdown",
      "metadata": {
        "id": "kkZ6tQ7GkPkA"
      },
      "source": [
        "### Manhattan Distance (L1-norm)\n",
        "\n",
        "$|x_1-x_2|+|y_1-y_2|$\n"
      ]
    },
    {
      "cell_type": "code",
      "metadata": {
        "colab": {
          "base_uri": "https://localhost:8080/"
        },
        "id": "e3YJEKSrk-Ua",
        "outputId": "4562c791-534e-44b8-e043-8c8ed1b7e239"
      },
      "source": [
        "data1"
      ],
      "execution_count": 59,
      "outputs": [
        {
          "output_type": "execute_result",
          "data": {
            "text/plain": [
              "array([[1, 2],\n",
              "       [3, 5],\n",
              "       [2, 0],\n",
              "       [4, 5]])"
            ]
          },
          "metadata": {},
          "execution_count": 59
        }
      ]
    },
    {
      "cell_type": "code",
      "metadata": {
        "colab": {
          "base_uri": "https://localhost:8080/",
          "height": 282
        },
        "id": "NBo0T8NYlEPH",
        "outputId": "01a2c47a-5250-4a7e-9f80-31f58c3d1d2a"
      },
      "source": [
        "from matplotlib import pyplot as plt\n",
        "plt.scatter(data1[:,0],data1[:,1])"
      ],
      "execution_count": 60,
      "outputs": [
        {
          "output_type": "execute_result",
          "data": {
            "text/plain": [
              "<matplotlib.collections.PathCollection at 0x7f677b279750>"
            ]
          },
          "metadata": {},
          "execution_count": 60
        },
        {
          "output_type": "display_data",
          "data": {
            "image/png": "[encoded data removed]",
            "text/plain": [
              "<Figure size 432x288 with 1 Axes>"
            ]
          },
          "metadata": {
            "needs_background": "light"
          }
        }
      ]
    },
    {
      "cell_type": "markdown",
      "metadata": {
        "id": "UysipLoAyzsp"
      },
      "source": [
        "### Quiz6\n",
        "\n",
        "เขียน function คำนวณ manhattan distance ของ ข้อมูล 2 dimensions"
      ]
    },
    {
      "cell_type": "code",
      "metadata": {
        "id": "sdghR4WFkMV6"
      },
      "source": [
        "### function คำนวณ manhattan distance ของ ข้อมูล 2 dimensions\n",
        "\n",
        "def dist_l1(p1,p2):\n",
        "    return np.abs(p1[0] - p2[0]) + np.abs(p1[1] - p2[1])"
      ],
      "execution_count": 61,
      "outputs": []
    },
    {
      "cell_type": "code",
      "metadata": {
        "colab": {
          "base_uri": "https://localhost:8080/"
        },
        "id": "DB3RIeNSmYW8",
        "outputId": "1a72cce1-7574-40bb-ee33-67e1707bd2df"
      },
      "source": [
        "dist_l1(data1[0,:],data1[1,:])"
      ],
      "execution_count": 62,
      "outputs": [
        {
          "output_type": "execute_result",
          "data": {
            "text/plain": [
              "5"
            ]
          },
          "metadata": {},
          "execution_count": 62
        }
      ]
    },
    {
      "cell_type": "markdown",
      "metadata": {
        "id": "EX0G-N1XzIFz"
      },
      "source": [
        "### HW11\n",
        "\n",
        "1. Function คำนวณ manhattan distance ของ ข้อมูล N dimensions\n",
        "2. Function คำนวณ L- ∞  ของ ข้อมูล N dimensions\n",
        "3. Function คำนวณ Distance Matrix ด้วย Euclidean Distance"
      ]
    },
    {
      "cell_type": "markdown",
      "metadata": {
        "id": "BagzhPb7zcPh"
      },
      "source": [
        "**1. Function คำนวณ manhattan distance ของ ข้อมูล N dimensions**"
      ]
    },
    {
      "cell_type": "code",
      "metadata": {
        "id": "Hqwjm3BcmizE"
      },
      "source": [
        "### Function คำนวณ manhattan distance ของ ข้อมูล N dimensions\n",
        "\n",
        "def dist_l1_n(p1,p2):\n",
        "    sum = 0\n",
        "    for i in range(len(p1)):\n",
        "        sum = sum + np.abs(p1[i]-p2[i])\n",
        "    return sum"
      ],
      "execution_count": 63,
      "outputs": []
    },
    {
      "cell_type": "code",
      "metadata": {
        "id": "oS9xQkSbpOF6",
        "colab": {
          "base_uri": "https://localhost:8080/"
        },
        "outputId": "6ead0dd1-ebd8-4ec0-f7ab-1b908ad65cdc"
      },
      "source": [
        "dist_l1_n(data1[0,:],data1[1,:])"
      ],
      "execution_count": 64,
      "outputs": [
        {
          "output_type": "execute_result",
          "data": {
            "text/plain": [
              "5"
            ]
          },
          "metadata": {},
          "execution_count": 64
        }
      ]
    },
    {
      "cell_type": "code",
      "metadata": {
        "id": "anLzP79Opbzi",
        "colab": {
          "base_uri": "https://localhost:8080/"
        },
        "outputId": "4196d2d1-e9d3-41eb-c09b-eb1c5ad38fdf"
      },
      "source": [
        "dist_l1_n(data1[2,:],data1[3,:])"
      ],
      "execution_count": 65,
      "outputs": [
        {
          "output_type": "execute_result",
          "data": {
            "text/plain": [
              "7"
            ]
          },
          "metadata": {},
          "execution_count": 65
        }
      ]
    },
    {
      "cell_type": "markdown",
      "metadata": {
        "id": "0npgWW_izkRq"
      },
      "source": [
        "**2. Function คำนวณ L- ∞ ของ ข้อมูล N dimensions**"
      ]
    },
    {
      "cell_type": "code",
      "metadata": {
        "id": "-u-BnAYOprVZ"
      },
      "source": [
        "### Function คำนวณ L- ∞ ของ ข้อมูล N dimensions\n",
        "### หาแกนที่มีค่ามากสุด\n",
        "\n",
        "def dist_linfinity_n(p1,p2):\n",
        "    for i in range(len(p1)):\n",
        "        max = np.abs(p1[i] - p2[i])\n",
        "    return max"
      ],
      "execution_count": 90,
      "outputs": []
    },
    {
      "cell_type": "code",
      "metadata": {
        "id": "VZW5CRaH5Q8i",
        "outputId": "839c602f-67d4-4f4a-826b-225a63725b2d",
        "colab": {
          "base_uri": "https://localhost:8080/"
        }
      },
      "source": [
        "### x1, x2\n",
        "dist_linfinity_n(data1[0,:],data1[1,:])"
      ],
      "execution_count": 91,
      "outputs": [
        {
          "output_type": "execute_result",
          "data": {
            "text/plain": [
              "3"
            ]
          },
          "metadata": {},
          "execution_count": 91
        }
      ]
    },
    {
      "cell_type": "code",
      "metadata": {
        "id": "Fc7wdt7T5dNY",
        "outputId": "970dcc9f-5812-4e1f-d336-b42825965f38",
        "colab": {
          "base_uri": "https://localhost:8080/"
        }
      },
      "source": [
        "### x2, x3\n",
        "dist_linfinity_n(data1[1,:],data1[2,:])"
      ],
      "execution_count": 92,
      "outputs": [
        {
          "output_type": "execute_result",
          "data": {
            "text/plain": [
              "5"
            ]
          },
          "metadata": {},
          "execution_count": 92
        }
      ]
    },
    {
      "cell_type": "markdown",
      "metadata": {
        "id": "KYODChtkAX3B"
      },
      "source": [
        "**3. Function คำนวณ Distance Matrix ด้วย Euclidean Distance**"
      ]
    },
    {
      "cell_type": "code",
      "metadata": {
        "id": "BCaxTQRH_xOB"
      },
      "source": [
        ""
      ],
      "execution_count": null,
      "outputs": []
    }
  ]
}