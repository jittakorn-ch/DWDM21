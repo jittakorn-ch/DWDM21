{
  "nbformat": 4,
  "nbformat_minor": 0,
  "metadata": {
    "colab": {
      "name": "Distance Numpy.ipynb",
      "provenance": [],
      "authorship_tag": "ABX9TyPZdEGpq1CTSRHQnZb+0vr8",
      "include_colab_link": true
    },
    "kernelspec": {
      "name": "python3",
      "display_name": "Python 3"
    },
    "language_info": {
      "name": "python"
    }
  },
  "cells": [
    {
      "cell_type": "markdown",
      "metadata": {
        "id": "view-in-github",
        "colab_type": "text"
      },
      "source": [
        "<a href=\"https://colab.research.google.com/github/jittakorn-ch/DWDM21/blob/main/Distance_Numpy.ipynb\" target=\"_parent\"><img src=\"https://colab.research.google.com/assets/colab-badge.svg\" alt=\"Open In Colab\"/></a>"
      ]
    },
    {
      "cell_type": "code",
      "metadata": {
        "id": "wFXu3ZMVcuSv"
      },
      "source": [
        "import numpy as np     ### package สำหรับทำงานกับ ข้อมูลที่เป็นตัวเลข อยู่ในรูปแบบ matrix"
      ],
      "execution_count": 1,
      "outputs": []
    },
    {
      "cell_type": "markdown",
      "metadata": {
        "id": "u_fpK5Hhdm2t"
      },
      "source": [
        "# Numpy Array"
      ]
    },
    {
      "cell_type": "markdown",
      "metadata": {
        "id": "bO4sgcOPdq-z"
      },
      "source": [
        "## สร้าง numpy array (matrix)"
      ]
    },
    {
      "cell_type": "code",
      "metadata": {
        "id": "EErkSAMldSPd"
      },
      "source": [
        "np_a = np.array([[1,2,3],[4,5,6]])    ### สร้าง numpy array ที่มี 2 แถว 3 หลัก"
      ],
      "execution_count": 2,
      "outputs": []
    },
    {
      "cell_type": "code",
      "metadata": {
        "colab": {
          "base_uri": "https://localhost:8080/"
        },
        "id": "IVvr4JD6eAHk",
        "outputId": "dac1226e-f8e3-435a-9b08-c7ddbbaa5d73"
      },
      "source": [
        "np_a"
      ],
      "execution_count": 3,
      "outputs": [
        {
          "output_type": "execute_result",
          "data": {
            "text/plain": [
              "array([[1, 2, 3],\n",
              "       [4, 5, 6]])"
            ]
          },
          "metadata": {},
          "execution_count": 3
        }
      ]
    },
    {
      "cell_type": "code",
      "metadata": {
        "colab": {
          "base_uri": "https://localhost:8080/"
        },
        "id": "chYcT-pheCmb",
        "outputId": "769fd1ad-47ba-420c-85ed-e914d59789c0"
      },
      "source": [
        "np_a.shape"
      ],
      "execution_count": 4,
      "outputs": [
        {
          "output_type": "execute_result",
          "data": {
            "text/plain": [
              "(2, 3)"
            ]
          },
          "metadata": {},
          "execution_count": 4
        }
      ]
    },
    {
      "cell_type": "code",
      "metadata": {
        "colab": {
          "base_uri": "https://localhost:8080/"
        },
        "id": "TXG2DeboeaEZ",
        "outputId": "76b37641-4f0a-4d58-93bc-d010cb62e0ea"
      },
      "source": [
        "np_b = np.array([[1,4],[2,5],[3,6]])\n",
        "np_b"
      ],
      "execution_count": 5,
      "outputs": [
        {
          "output_type": "execute_result",
          "data": {
            "text/plain": [
              "array([[1, 4],\n",
              "       [2, 5],\n",
              "       [3, 6]])"
            ]
          },
          "metadata": {},
          "execution_count": 5
        }
      ]
    },
    {
      "cell_type": "markdown",
      "metadata": {
        "id": "x9g1KiPEevbL"
      },
      "source": [
        "### matrix transpose"
      ]
    },
    {
      "cell_type": "code",
      "metadata": {
        "colab": {
          "base_uri": "https://localhost:8080/"
        },
        "id": "7yY0EZxVettC",
        "outputId": "5f0bf0bf-4b9c-40e0-c412-f8faab88f61c"
      },
      "source": [
        "np_a.T     ### transpose"
      ],
      "execution_count": 6,
      "outputs": [
        {
          "output_type": "execute_result",
          "data": {
            "text/plain": [
              "array([[1, 4],\n",
              "       [2, 5],\n",
              "       [3, 6]])"
            ]
          },
          "metadata": {},
          "execution_count": 6
        }
      ]
    },
    {
      "cell_type": "markdown",
      "metadata": {
        "id": "atHyJOBXe-GU"
      },
      "source": [
        "### สร้าง matrix เริ่มต้น (zeros,ones)"
      ]
    },
    {
      "cell_type": "code",
      "metadata": {
        "colab": {
          "base_uri": "https://localhost:8080/"
        },
        "id": "k3ZzU2xKe2dN",
        "outputId": "8dbeaa0a-11a9-476a-82e0-22cd7ee7600b"
      },
      "source": [
        "# matrix zeros\n",
        "np_z = np.zeros((4,5))\n",
        "np_z"
      ],
      "execution_count": 7,
      "outputs": [
        {
          "output_type": "execute_result",
          "data": {
            "text/plain": [
              "array([[0., 0., 0., 0., 0.],\n",
              "       [0., 0., 0., 0., 0.],\n",
              "       [0., 0., 0., 0., 0.],\n",
              "       [0., 0., 0., 0., 0.]])"
            ]
          },
          "metadata": {},
          "execution_count": 7
        }
      ]
    },
    {
      "cell_type": "code",
      "metadata": {
        "colab": {
          "base_uri": "https://localhost:8080/"
        },
        "id": "ztkB_kkcfnxY",
        "outputId": "4e5a5f13-a643-438c-9f15-301da78d222c"
      },
      "source": [
        "# matrix ones\n",
        "np_o = np.ones((5,6))\n",
        "np_o"
      ],
      "execution_count": 8,
      "outputs": [
        {
          "output_type": "execute_result",
          "data": {
            "text/plain": [
              "array([[1., 1., 1., 1., 1., 1.],\n",
              "       [1., 1., 1., 1., 1., 1.],\n",
              "       [1., 1., 1., 1., 1., 1.],\n",
              "       [1., 1., 1., 1., 1., 1.],\n",
              "       [1., 1., 1., 1., 1., 1.]])"
            ]
          },
          "metadata": {},
          "execution_count": 8
        }
      ]
    },
    {
      "cell_type": "code",
      "metadata": {
        "colab": {
          "base_uri": "https://localhost:8080/"
        },
        "id": "QLwjP2IrfvyK",
        "outputId": "91d8dc8e-50b7-4c41-96c3-4bad01a9bd7c"
      },
      "source": [
        "# สร้าง matrix ที่มีค่าเป็น 200\n",
        "np_200 = 200 * np.ones((4,7))\n",
        "np_200"
      ],
      "execution_count": 9,
      "outputs": [
        {
          "output_type": "execute_result",
          "data": {
            "text/plain": [
              "array([[200., 200., 200., 200., 200., 200., 200.],\n",
              "       [200., 200., 200., 200., 200., 200., 200.],\n",
              "       [200., 200., 200., 200., 200., 200., 200.],\n",
              "       [200., 200., 200., 200., 200., 200., 200.]])"
            ]
          },
          "metadata": {},
          "execution_count": 9
        }
      ]
    },
    {
      "cell_type": "markdown",
      "metadata": {
        "id": "CNDVbicMgdfC"
      },
      "source": [
        "### สร้าง matrix random"
      ]
    },
    {
      "cell_type": "code",
      "metadata": {
        "colab": {
          "base_uri": "https://localhost:8080/"
        },
        "id": "McP1UYl_gGb5",
        "outputId": "2195e4d3-c307-4a4b-a100-18e5dfc63644"
      },
      "source": [
        "np.random.randn(5,5)  ### random เลขมาจาก normal distribution ที่มี mu=0, dtd=1"
      ],
      "execution_count": 10,
      "outputs": [
        {
          "output_type": "execute_result",
          "data": {
            "text/plain": [
              "array([[ 0.0572074 , -0.50319119,  0.92817511,  0.90870674, -1.25432796],\n",
              "       [-0.61176065, -0.25156669,  0.61220866, -1.13248543, -1.66662084],\n",
              "       [-0.44069662, -0.12339057,  0.99182432, -1.59510492, -0.24932867],\n",
              "       [ 1.83954063,  0.18880406, -0.32933299, -0.36843308, -2.23125083],\n",
              "       [ 0.60938054, -0.71186074, -0.36941572,  0.46270838, -1.89074264]])"
            ]
          },
          "metadata": {},
          "execution_count": 10
        }
      ]
    },
    {
      "cell_type": "code",
      "metadata": {
        "colab": {
          "base_uri": "https://localhost:8080/"
        },
        "id": "ZFOAU2KGgu99",
        "outputId": "97e01c67-da70-421f-b878-00e2132aa8fe"
      },
      "source": [
        "2+(5*np.random.randn(3,3))  ### random เลขมาจาก normal distribution ที่มี mu=2, dtd=5"
      ],
      "execution_count": 11,
      "outputs": [
        {
          "output_type": "execute_result",
          "data": {
            "text/plain": [
              "array([[ 6.75879153,  3.16318262,  0.69669196],\n",
              "       [-5.84135982, -0.11055126, -0.296683  ],\n",
              "       [-4.06426067,  7.4724601 ,  1.47994515]])"
            ]
          },
          "metadata": {},
          "execution_count": 11
        }
      ]
    },
    {
      "cell_type": "code",
      "metadata": {
        "colab": {
          "base_uri": "https://localhost:8080/"
        },
        "id": "J_ln6ZsmhP9p",
        "outputId": "b94ecd9c-bfbc-4ee8-bab8-dc9693888cf3"
      },
      "source": [
        "np.random.randint(5,11,(4,5))  ### random เลขจำนวนเต็ม ระหว่าง [5,11) ขนาด (4x5)"
      ],
      "execution_count": 12,
      "outputs": [
        {
          "output_type": "execute_result",
          "data": {
            "text/plain": [
              "array([[ 5,  9,  8,  5,  5],\n",
              "       [ 5,  6,  6,  5,  8],\n",
              "       [ 5,  7,  8, 10,  9],\n",
              "       [ 8, 10,  6,  5,  8]])"
            ]
          },
          "metadata": {},
          "execution_count": 12
        }
      ]
    },
    {
      "cell_type": "markdown",
      "metadata": {
        "id": "v99XPgmoQWD3"
      },
      "source": [
        "### matrix properties"
      ]
    },
    {
      "cell_type": "code",
      "metadata": {
        "id": "B5Eh2yZCOtS4",
        "outputId": "b5c0c02d-e35d-46aa-9578-d694e6ba059f",
        "colab": {
          "base_uri": "https://localhost:8080/"
        }
      },
      "source": [
        "np_a"
      ],
      "execution_count": 13,
      "outputs": [
        {
          "output_type": "execute_result",
          "data": {
            "text/plain": [
              "array([[1, 2, 3],\n",
              "       [4, 5, 6]])"
            ]
          },
          "metadata": {},
          "execution_count": 13
        }
      ]
    },
    {
      "cell_type": "code",
      "metadata": {
        "id": "Hlokbi5Whi6p",
        "outputId": "dc7d718c-84ad-465a-b2f1-f25ec824de4d",
        "colab": {
          "base_uri": "https://localhost:8080/"
        }
      },
      "source": [
        "1 + np_a   ### adding scalar to matrix (จะบวกกระจายไปทุกๆ ตัว)"
      ],
      "execution_count": 14,
      "outputs": [
        {
          "output_type": "execute_result",
          "data": {
            "text/plain": [
              "array([[2, 3, 4],\n",
              "       [5, 6, 7]])"
            ]
          },
          "metadata": {},
          "execution_count": 14
        }
      ]
    },
    {
      "cell_type": "code",
      "metadata": {
        "id": "sOlPjkM7O7oq",
        "outputId": "db928e6e-5909-49c3-da29-a659cd858829",
        "colab": {
          "base_uri": "https://localhost:8080/"
        }
      },
      "source": [
        "2 * np_a   ### multiply scalar to matrix (จะคูณกระจายไปทุกๆ ตัว)"
      ],
      "execution_count": 15,
      "outputs": [
        {
          "output_type": "execute_result",
          "data": {
            "text/plain": [
              "array([[ 2,  4,  6],\n",
              "       [ 8, 10, 12]])"
            ]
          },
          "metadata": {},
          "execution_count": 15
        }
      ]
    },
    {
      "cell_type": "code",
      "metadata": {
        "id": "h5732cn8PSc3",
        "outputId": "2a378eae-32a5-4eff-850f-de6173dc6c2b",
        "colab": {
          "base_uri": "https://localhost:8080/"
        }
      },
      "source": [
        "np_c = np.array([[6,5,4],[3,2,1]])\n",
        "np_c"
      ],
      "execution_count": 16,
      "outputs": [
        {
          "output_type": "execute_result",
          "data": {
            "text/plain": [
              "array([[6, 5, 4],\n",
              "       [3, 2, 1]])"
            ]
          },
          "metadata": {},
          "execution_count": 16
        }
      ]
    },
    {
      "cell_type": "code",
      "metadata": {
        "id": "cFJrzR30Pfgq",
        "outputId": "870cfafd-bc32-4c7a-9a33-159ba9b6da23",
        "colab": {
          "base_uri": "https://localhost:8080/"
        }
      },
      "source": [
        "np_a + np_c    ### adding matrix to matrix"
      ],
      "execution_count": 17,
      "outputs": [
        {
          "output_type": "execute_result",
          "data": {
            "text/plain": [
              "array([[7, 7, 7],\n",
              "       [7, 7, 7]])"
            ]
          },
          "metadata": {},
          "execution_count": 17
        }
      ]
    },
    {
      "cell_type": "code",
      "metadata": {
        "id": "OjyeB0cJPjPv",
        "outputId": "b0534901-a412-496d-eab5-c44ee6d20e79",
        "colab": {
          "base_uri": "https://localhost:8080/"
        }
      },
      "source": [
        "np_a.shape"
      ],
      "execution_count": 18,
      "outputs": [
        {
          "output_type": "execute_result",
          "data": {
            "text/plain": [
              "(2, 3)"
            ]
          },
          "metadata": {},
          "execution_count": 18
        }
      ]
    },
    {
      "cell_type": "code",
      "metadata": {
        "id": "I0uzyFETQiJ-",
        "outputId": "a9b17265-280c-4f22-95f8-fb48a9979cba",
        "colab": {
          "base_uri": "https://localhost:8080/"
        }
      },
      "source": [
        "np_c.shape"
      ],
      "execution_count": 19,
      "outputs": [
        {
          "output_type": "execute_result",
          "data": {
            "text/plain": [
              "(2, 3)"
            ]
          },
          "metadata": {},
          "execution_count": 19
        }
      ]
    },
    {
      "cell_type": "code",
      "metadata": {
        "id": "tTp7rGWWQ0SW",
        "outputId": "9dae6af0-2da3-4df2-c0de-c112cba1ca7b",
        "colab": {
          "base_uri": "https://localhost:8080/"
        }
      },
      "source": [
        "np_c.T.shape"
      ],
      "execution_count": 23,
      "outputs": [
        {
          "output_type": "execute_result",
          "data": {
            "text/plain": [
              "(3, 2)"
            ]
          },
          "metadata": {},
          "execution_count": 23
        }
      ]
    },
    {
      "cell_type": "markdown",
      "metadata": {
        "id": "N7Av_L9uRnwn"
      },
      "source": [
        "![matrix multiply.png](data:image/png;base64,iVBORw0KGgoAAAANSUhEUgAAAUAAAACdCAMAAADymVHdAAABdFBMVEX////8/Pz29vbr6+vk5OTz8/P5+fnu7u7n5+ehoaHw8PDj4+Pf39//lQDU1NTR0dEAjP8Aiv//kwD/mACmpqba2toAjv/Ly8v/+fCrq6sAhv+xsbH/t1hZWVm5ubnExMT/uGaUlJTk8v98fHxLp///s07/nAD/59P/umD/0JX/37//z5//2rUmlf/C3///q0//1qH/xnxkZGTw+f/T5f+61/+w2v9ubm6o0/98tv/Y3+Uvnf+Hh4fq9P//pTL/p0P1uG3/oh3w592MyP//w4P/37RAnvury+3B1Ot9uPOcxu7W7P9er///8uBVqf//5s7n2snp1rvvyZ3s0a7F2OiawPFwtfW00OufxOQijOtfnuB9qN0Af+UwiuWJtt/K09yrwtVsmMRiouBXkMZ9nb6CvP/9oS/Zr33ws3CmnZDazbnNmV/Tgwu5qJPEualPWWJeV0nJnGjimD7a0sjOr4+Zdk7DgCOVf2fhn1Wqj3DJtqDmt3wRLnx8AAAgAElEQVR4nO2diV/bWJaobUu2hGzhRViQQIEB4wSIIQkkgB284ZjNgLdAdfXrTr2ZB5XqnlczXan3pmf45+ecu0my5Y3YKaByqn5JwLKl+/mce5a7eTzf5Jt8k28ylHjh/04hv/8mvUXQCnSKjeQ36RQnN5+b2EH+3o97r0SQo5z8PcQi+Q0jEaF2NnK+mRl/5vTo6urq8HD35GT38PDw6uqolZH8M+waTvGPztAFntI6PDm+rCYr2TSKSQX/mc1WktXLg8OWTRn/yAwZPI5OyrSOTo7P01EqEROJZStcssjTjNDXstXjq1ZGsSj+8Rg66M34Tw8/7CWzJqGTrpxXjz98ODkEo221MlRaLTDow5MPoJuVdIRcltz7cJXxUYaBPxZDSk+o3uFlMpuOgJjp8+PDI2QWlFGCDiG/khHm0cll0oxEAGK2epJxGPPv3bSvIHbVU1pXl1miTtnzy5OjYKmkOrHJluBP4rdqSW2dXJ4Tnc0eHGVsDH/v9o1XOD1ssHb0YS8LemRmqx8OW0ELHeGluopNMWW5lAFVrIAqps8/XGnMlB+1Ftrw+Y+OK+ATImbyBEyWUbHISV3FAkneEMy0jrOE4Yn0yBEyeggvc3ScJd5i7zBT4iic5BQqmhD2CztH9kZVbR0nwbGYl0cWw9+7tSMXm9s4+nBuQpRSBR+qcsWz2DmwOVIQO0oOkdFXM9CXghpWDxWK8JFpod1tHJ6D5ZqVgxa1Wxs8Qc6Rs9nFjrINohz8eALdYTp5QhA+FkP2eq1uDxqtHh2nMYA7bpVUbn4cniDnLBu0iY2kRZFaM3zYYRUsOXuYeRwIbfUBaK0iKaR9kfTlYcbq9JzwbORcioG2Wg2nyBkKNby6TEfMc9TCB94V2lJcHzYT2ngCHb2Z/fAxHgLBfkvl8Dg7G7ien2xlMT4nQ0TYqkIPUW1pD1kJ2xINTMOOTrJRyDO+D4XiIAgQ+Sma1s5uuHuwmIgyZJastvZA0S8FwnG2dCzC8WGOe3p1cl1NVv6UBuUzzT/98Oe/fv+RApQJP3tBZfiWOjtYoYZy8BASvewH5WH6Y6F8Wuakmk5DwBKh9aj/ReRPf/nhrx9DxIApvy8sR9kZMoRgyJkT7AofohJy5dNaH5KQpprZ5N7xyVXr48cfP/74/V///MMPf0GKkH1QBRxJ8yyVZ5aM/imD3uQg88CUEFtCGgKZRiQSyV4eHmGsjP3eZJgIYPzzX+ClyvGRMiqAHhGmE2/P7fgqGYlUH5QS0lag9qG/TV8eYVEKApYQeo7JSYJwcjI++RFiDQh590bqKR0IJYIwcwx3OeFf0/1HyPD5jy5Jap/hqWqQMIxbAi4kQ7K545Z/lPrBc21N2PFVJRK9zGgPAyGz3swxJAPVw4xKayu8dIJqaJOgmjkBCxu1p3QghJuqrUszkjzSqKrfa0Pm1ntYMc3sYZBkVrJVXBGlPFEdldFTmia0bqSdFDNk9Mjoj+UguGMwY+WexNVWRtXxAuGXuYxGsidB1Zmo2atQnCeJeFFbLU85smekCLkSHlXMyHFGUq42fufkjmcX1oCs46EB38xhBZKoI5UX4u0lKs0mVsQrU085WoLs2yTpI/bAH6vwVJmj7DloITz2qO5yh6eiWS0tODlaTPlpJ+j0cNxCVsl/slBDErGIQoomwjX0lGBih8TARqmDPg6QxADHplnJmukr4pDHTNBW8XBYqtfr8wVZKAKxyGQ86OePIswXY3+VVAlAguFpKuQNcfLovL7AsgbSSZWu0MRU6ihH0wJhwSoLoeJ/JcPz1aCkjVkHmScVA//W3bwBv//JhE2mVKYynF/ShIiBVOWI3U5OLNqvlvw+r/h6eNJAlbBVhbZl/CMiyOyXqzgF+GOWJJNHqqSNVwWZ7vPhCGKo7BWfJk1M2WRepa+xBz6qRNIfiGcAfPj4oVn71RMhhWusSF6FEgYh4K1ktNF0hPBNLzyhgvedmJiOx1tZOj3kMqgq8EWOjyC0TJp/YpNZ+MLoSwG/pMLDkFQCY2FZokSY/h1mI9kron60xoJRBMng4mj1008m4pIWsPWZXjtCWYVYo3I0mo4w4IMv2lL9xcX5ePwkyWbYtMasgqCA8pTd8CbixPLwFU0NTkwsYHdGcgmZPgnjdwWeoGXxI2xUmaYfAHDhycSkqvgcbtvylKiE8AHZq1EEhKCAMjynTfCBP35fpSpYGjNAn1+anJ7mt56Hdmt+CtCnUICT8RAZBcPu2Mv8r3YICtSSeYmKBDnwW+IDQQ0nJ0EDJ2XJ53hwSwkJwVY2kr7StC+2YuhqgsRS6DdNvmzyCD/+C2hhuiWJrmQc4kVDDXK9QcubBMujz6XIIdKfhGh0TAMCGr8Av/OWLNSP+G/WkYOCBeNx/KCg5G97cOsqjHhaSQxntC+1Yq9fCdGuJs6HDrAaBM35/PE4aR6rYwYIrkIlaSv2XdDucDvAkKpofjHoRbQIzK+C7lclFXoGgBUWwEiBoDtAEXEwguCGrvzaF/pir18iAMFSxEA9dCakK578eIKF/jF6EWgQaQ4aFSghAmRdl9cnIcAw8LNNaSQqhPxaKjdfqxPj9XYgGCYm3AnQijmQYAas+Iha8Rc0gQKcREvh+Y9waKCPpOsZowoSo8IwRoJbtgGEviXsxICX71ejyRb5qt3ro9AiebIbQH5HhVtx9qjjU7rm3+4tIADDaClW7kO6Y7RnjB1GmTS63F8MFwLBcG+AW0R/tA/VlqTy7s+lzOBX1J4ABcFg8CiLygxxJC9xiccZeOpagACcDOHtxAAoc1X8S/4ayRwJWyZnewGsmuf72HhaaFGsKG6GCv+43gAtHcS+/ihtVjIhHPHkqZ+I67XBHAwHaEVN4lNYSv6VCjLE8noB3Eib0Q1h8Yotj8jFQPRceYZ9UB+AjKCkYk//fdqsfoxzW0MXo/AZbeRL6qs9nQDFQA2fC3xPAF6bZuTcwys09hh4xcitrBRj+iv2QQJgoNu9kCAADEP2979N81+ezM7Oz8/HsQ8LLczbJN6foAtAD4kJAqwfcOlLt05PO34XiPv6Q+olXq03wKVs5NKMnvLv1v7NrsTK8Ocr3aAf1B8gIaiooYVFkH81zX+FvyYm5jEjXLDXLybmVc03NMD9rLltzdPh/KyefDeLEXZy2/nB2nKw47NfFm9AcqszHa8QeW6Uyd+rRmGmvwYeRNNbyei1hxZZHfO7KcALXSc3whymH0AslmkEICSSP5jm/0EVjGO3atfA2Yn5YK8P6QLwIBqp0nsQTy7PomrJs3766tJ5JJI9r6SjkY3+APVULlfUYwl3gnMxanOr5IJ+ANPRY3i0ypL1xYpvEAHOXCRizz0DAyS5NgJEUEkz++NkPKhiwK5JsqhJzE/MhiCVHRZgFvTr1LpAWZ7AP6bYw1Sj5u7p/tJ29WDL8Tn+Zbnjs1/qKxdnz1YN44Jdo5BHV71uAAO9Ab6NmqfgRyK7ns4gbcUwioaRKnuHAOhhADEF/zFrJj+GIOT1ER8iMmoAGO9rwx0A35rVauTAdoX0bkJenmI/7JrmRsdneKFLUpfj0Dc5n/ilPoe6l4q9oD9PL4fgz8VFnxvA3hroPY/uwTd2HknuezBaczRqxbjJ53Op3PowAL0IEMso09PgiiOXskrdMM+ogeCdAG5Vzd0Ns7Jku8S//Jrz8+xF9zo/L7QMsoN/zHcCnFnTi2fsmWd3VO/UO8kjAJL4bRCAEMMcnJ4uHUcind8fmPCrs7OzFzn9YhiA0HAAOE2y2ONomtaduI/SwMXEEaCsDAlwO53e96ClWKItv55g/9w6j3zAv69BLBv2Qc4yuTwNuYviBGjcJApzxZUL8dCzy4vLGv9pTs8lUHJ6X4De6whbAmgm3QCu4l9l4ks4wHB/gMFpaDmWy2T5qqVpvOANFJmTRg0cFuA1ODrsrK13yctPlHcT9OfTiknQmhEzkrRrqXsfCB1TKmXk3lu/Wn4dF/+eg64LXofuqy/A07SJ6wCzEABETzvuQwHOzOl3AMjKZYp9NIFxCd4F4FI6unt6+jYSFZYiYf+nvZsgDwMaSLrH3d1L0wnQ3Qvn36+tvczFXvKbTb17sqwKgPrzNZRX/TXwAB7oFGTpjRm57gSoP3//8mXCiK3dASA4DzpjGscSlrZ5o9Cn3QXgQdTEL9qkkQyKOh8gf9IwZi9apZb7diCAxIm8jxXZM0+B/c6KC4dwIqZZoe/ZqkayHSq4EtNBjBv6PQ0OUJ6emAqFMA0m9cbTKhnIuF76AoBbacIPCKY7LQXlrUltuANgYEHruJgBfMkBLrzDPnJ2kYWUgwPcffqUd8q70acHbbfxrBN5z13VcAAx/CNJ1246mk5WK+bT5JbnzgB3Tfh+oRddSrpYChGIAw+2l5a2r9sAugnEgWsXF2vFWIL+7KPkuKcZHODp9jb3WFvb2+5fLcPixQ8aCiB6X5DtdDS5sbS/9Ca5wbjcAeBWNcq4XUcr7nyWqrjiDFcgDwLQKBaLRiz/zPVlV4DTPQuq/YS4UFpQHRQgXoZuNxmt2F++G8DtZJI5j9Nk1iXgIvL2PAseMbm71eV1S95voiRedsmFX+VJ9OF5mS+PBiDiO3sxo0nBwQEGMdAD2XoadTT4rk5kINk6XepPz/2pe7zUr5zV/8MxTS7oq3RMZBiA8OPG0zS2aXsP5K1nzADvKj0HGkYBELqydT0lyaHw1LAAd6NZBLjx1DSj6KXuH0BiX2fdEY4AIBa6Sjl9nQLsU4lq18CoiQCXdncr9xMgSZDWVgJdR2q+vA+kQxFlffNzfHpogNAHvqUvVO8pQFSP9dizrmMEXwyQjZDWb4wGApweDqCnGknvkxfuJ0BqXit6wt9tRtRAALeWerkhUotSCqCCkKNNh4YDeJqNVHZPl07fZO8jQKodNcO4qXcbKB0A4EE1WTm/7h5+esmsjVrMaGKdKqQKgN6FBeui+UlxPztAz0Ya0thK1qSpzn0DSJRjXTeMW0lyJ9gX4HYlaqahfemOAHWN5MK5uRd+H84TKRg3CxOLAFDjAOWd72bZPwOL3+2I+zkAerzH57jz0zXJdL4EoLdvkLc1LGs6BSZnGEau1mXKYT+AS5VodnfjdOM8ud3+1rUYZDypWEwvlPySJNeLxk8TiwtxWQAMPHn9mhL0TXz3ekHczwkQZP90n7/lzgC3d6/3Dt7sd3/H6e7B3vXBm/6h9LMXRC4IDkhQSwZKQ3af8CUASu4ALyMRohr7nY+2FiuenZ1dFAw9oSiSHP9k5H92APQEgNss+fv163nrfh0AHVzsAH3zi20Sti60A/Rep6NPnz7tUSl4W4k8xSvOnZbkn5Lar1yP6bEYKEfizENmsTUIwGKGzDWF11cTtP70PrE60x/g0+hu+w0sgCn6txFb1SCM/tuN8XcAGLSjmXgNVgz2+5r3hsMBDO581yaLXleA0M/s7W4cpNPiaSee4O+nnrAfD55Gkgcbu9fpNsQu9cB1PffqVWKzqBtrXj/kVwkCUG9A50RsuEsxwR3g0lOz63fKAXoS+sqWpIYmb42bnxcmQ/YpqoEpsGLQQzFqMxzAQHi+TULWhTaAByYlt231M6HlJziWwQr2p+nINTHejbaikhtAWsa6WNGLMz5FreUJQONXPoF+KIBvo9n+AF/EilsKAPycMv6OAB0z44Dea4vfQACnhu0DXcuAoeXZ+R1eh7+OdDFulzERBtDzrBh7CQAbho4WfPNv/1e+A8DT6AAaeBHTwY2EJqd/MoxfJuOqo6/17rwWg2OeMQHcTqc7XBwEAa93OJwtGqZ7yPiE+OCAJEmh5bAiSX77+zhATzmWAMWo1T//BL37v+MzC4CYGQ8E0CtSrU4RACFOwnmG8fAveeOf4TjEMVbI7iMaOCveNBaAG2a682sG+33H77vER+Wi9oJql3FhAXA9tunHcdbwb6mb/5gIhThAPV9GWdEHAOjJRrL00zrdvwC4oueht5Xj4fl/GMUmjukKFST+l/niOwD0zQ7khV0Bzu6ooR1236UkBYjjixbAgCpJ8eUwxLDuGggAydTvyQYAfBcMsjhmzkAvDeGbMQjA03Q0ub2/tVQ1OzSRAZwpxFIXOGkoHl5Y/NXIf8ZsmKkg879T4It52DwUwAG98Ha28+lmlyUc26S65RU1//ZBpR594MxzPbGl4Rzo34z8LzvvQiySntPn3r98+fL984E00EMHfbIR5sWcANdevFjP68Y6VvTBiyws/pwybjMSz3l8zP8SX3wXgJ1eOGhdaAHcP4/stT9dmIAJsvHwAz6q+DbSd1iTA3yfir0n60Hm/59x87fpnUXZP3wY40H1xxA13TmWAJlICrU59d6LSaOEABc/GamaytZKIjemASKSGUsfiHOHiIbtVru4vP00AzcwwJnVYuw56AWkCAv/KN78LTQ9q9LlXMMCRIYbbgnQBZkhUiYTILzwxmAccuFfNo2EzKbIqzsifgYr7pYLt3O5C0DPNSTrl8fwVZ93uX4jHYlUD46T7VM7XIY71vVirmhALgJ8AmTmfzOV/0wWzgTuCHAA8QYUAnD+NyPVYIWLQDgsXg9MU2MaE0DvboXYyV7XoGu7SlK5SLVvNrweI5nc3IsZsiJJUeUG9OyyKCaMB6AnAG4YAU4n9FxJ6brgeUCAQ8/O8uyf7h5s9Bp12zrdONjdOO1fTJg5I0IGNcnqBIil8yVZUhjAFQFwbrQA1dA0Avxc1J93X+fSDvAFi4WexWL4xHcHOB6htc6GsRlU+9UDvxSg188AhhuG0ei6UKMTYI78/iyWupcAyeIdAMiWtLhcMTqAUnB6anE+HI4XjFxN6bLY72EC1DfVbqtXsEHxUQEMTy3iSuNaXp8rkR7DXeMfHMB1PfEVAPoQIFmqnWkaRrnLii0XgGTC8cU9BqiW9cLXAKjICBAXQMtlw2i6D2N1AjTyRIz7CZBsalDQP30VgDi9bQFX68qlQreBwA6AupFDubnHAEsJ/farAZwmAOVaztgk3WD7PTs18ObsAuT9/TRhsjyytKI3viJAXMUqy3XDmFOUzk12HpgTIePCpVysqYo4uk36hTFb20zcPv4ZkxmPBZCsAgaCzaJecImnxwPQaz6l0nUEDFvy5vhgo329putqzTPWrjOyTlqppWI4Knw3gBtPo/TR3FKgfIzKC48DIN0j5hZcsdSxVdaYALL1GGmrLDhNhp9CIhvfoLmwee0cVXKbpQ/ZLpVX1IRruq52S0T6A4yaSZSKG8BNXDEMsmYBDONeR3Q/tU86C2YcQyQMIGk4KCf0gQyg8WUA3+yjWE85vxPEgiwv1m+kI+nqwWUl0jZ64grwuV7EZuVe4sCwojT1lKoqUpj1ga82Xaf4dgWY7t6KTX3NIsMAkqSRbC6hFgyd66CgITSQlK293osEXXx7lih8GcCOPgYIxgW//XTknEwNeNt/WBMAsnIBrcYot0ZOleTlRYU2Y7hqDGhg91Zs6i/Evy2Aip9tzxEqWFbMcViz9P188XG7hd8NYMfUHe/88jsxWHTgss6FiM9agWSJDSA25bnx/xeC796pzJKGBZj2bqG43d0doObjG5wEC7qRkDT7Nh/WQhtc5drYvHDOnb27BpKD6ZJ2SqHXO3wY3hoTsYuKm5btLMIf070A7ueMf7xeXpZ8vrsBpA4u6woQ11MUiytndoBYd+QE1XJKz9OImmlhwL5WrqzrDR/dWoodqOFX5NAdnQg5EtEGEOyX9IMofFTOOawpzc7OPtmZgD8m2wDSdhWf0WqWYdR3vlsQi/oQIO5WMjBAct5g1eMim4ah63osZwdIF4AIHWwU9VxDszbTD9D1wrjn1WfwMp9KJFak+0fhaRpqKH43gLsQam1sW4YSX54FK2Y6yMeF8cxEZ0nf3YRJu3SdAqwZxf989+R1mDvDOT1fQMkPNCrX24SNdVIJ8LYDtG1TVC8aRqGk8fMc4PPjdMH1fwP+W7HzEN+xNhSfvENJ38WJTJH+b5YOBvKZCftbuwMsNgQTLpB2EZNQGsa//WdQmX89zfqaOYbXGGhceGgnQpY52AlCXqyn1kvsSBGcwYC7dvz8d12/+QcOlS8g22nHrqNDr1h388IOuY5UBh7WtPpAut9QwfhnXJJ884tsWSKOC6Mk9EGWevUJY7oAdBAMNnK6ni/XtzQ/BDgqjj39/Pe8Yfz6X8hvcR7RTju3PQnZ98EcDOD1Lkq3dV6n6Qhd79oOMDDt77zaAoi1GLAzEkdLrB493K4doIGXKHtuj9YLICeICGtlsOObzXIdzFQOff7p1xvDMP6Je56AKYO5Qt8XosdA0P2A48Nue+JN06X1kfNu2HejkcrB27fH2W7TtFwAekktpp4rNnGfL5GHDLfYUKRybllmPtYNYNuui5nS7WZKx0F4XAUJ3UceEP76G/JDBhp8z3TXkzjZuhU9eZ8SQRvA6z0qHWtyhbxN0mHNykH/cbm5WIE0ibSgaeRrjlLCcBq4/4aJWxy69uKsG0BOkG+eKteatysp9NkxI//pt1/++5+GUfz0C9E2CHP4xnUhunld/w1Qh6/GLL05uL7+4NqOdrl4QffRIF3grb6Je0767whwYOnctcO2UzbZDj4YKtXqzXrt82fcvnX+N+gGb24nESA/HERsPtZ/67o7lbOG3I6MdIGlFf3WWUp4bjCA/TedGOpundue2DakU/mRrmSDokna1/0ECHONEt1P2RL/IHtbfoV6ILXgmqHXVLX7hnLjBGg/cEESx2SQQ1voqTd/u01BrtdUbEcdBrov63PIVwKoKKt6Ue5ajvaMGSA3Y9IV2k68DQb5wTe1hKEbczVNnDQ66F2/DkBNUXL6p+7FQM/YAVpnz2iOE28JRLLdaT0BWlioW8neYLf7CgCJBdf1VJ0CHG69cJBMdB6sOXwvUUl23cVXnN5nHR5sQcROsbmi68VybbhTl8cPkHaBZX2zRLdk7XIbF4C4vTDuqjHQTprERgketput+0bcAfvpEeK4VpWergepCjjkcmkYLRSb0I4TIPhgmoYo3S04wPaKEAD5RtxBSZzz0OMJWbCHPORQj4247dv0Wie2KvyAwmBjExLm1drgCANiG2RNHBM7OJwBhCpgw7ipy65doCjA4VYHDoBqCLJ5nI5MN9oP98xKvQGFbclP9p6cmurYS1/cTxwAI04QtkU4cm39Rjdyq6WtARHyfaQxa6FlihGfwEJ8cCmhJ2SZ+mDHpwvnqIHCxR0AyWkOjgNZekRl8DEhx9XQB3a3KWunbXFei3W6nly6LQ5hyLat4NnZMKPdOJps9q7UDb0uuw0Jk8nT9By4ON1Ln3fGaNKgTWR/XSLTUm+Aqtj9lBQHgv33j7Ue0X66HkGYB3eyPpAhk8MI7Ed6TIRHC5AEgSv6iuxmwdhu+7k/UwCQWaqXrM2ZROEHsvQE6CedH6kCkLeQeuqAz8jtgB9QCIZ8WwRDLtf6GzIeh+E4umgi3NVR3kG4AhpNroDtAGXn3ePsNAecTaPI/IBHPJmwZ2IvjoXgZ3rI/esojsd0IiRaeGMYxUKJd2vdEOLRRSGSErKTPEOS5jaB9I5C6wjQA5ZcXYiXFIZFBS4cjovwl75T5QfGSVLvPbHZsRAsS+vl77u839vuTeTSOnhko1xXegaGqPtqiJW/cEKTKo1QA2klsJEqNlVWCuzsArsV4Mie/prCz9mDNvQOY4gnsF0+bEfUjhANGUvYxUJT64UQTYUehxai52gPsH/8EM+ELngTXbCrUlDLk63b2+3Ufmy6r+/RPSKQZoNGdzoAvP3IYIgL86CF+abU3Z946ZCjxA5jGenxDTwJMWo0hunUITri3rUA57XJALcb6mr3T2gzZGDYhBxZzzdqXdWQHlPE6mAjjQPJ6R/oQW5dXbDbzb/W2RHdxOuCMNgsoBaW63wP/46OyBmZj/TESTDgOciCXYNocdU4bn5n8XYYMiCsFXD0aaVZ0kQH8RUelJ7aUTaKza4KeC/FgZDlyJnaOg5G5RyWPObmUC/aMPSG7BoD3mNxGLKIapoJAxB+qtv81DgbRDpArZ5CDyx32+/p3opNC20uuVa+wd6wUVLGr4a0A6znjM2aMOAHBLATIRkSzZQa4JNjudV6yT9WhmwYrJ7XczWZDYU8JAUkYiHUOELoDUv1AnSGxQQpeHGnPGqGjF8tr6fqclCVHqACUrENpFjjecHSar6oG8Zcs6TZGI72tnjTek4v1kkHOO7D6cYonZ0hia7rZchQ9GLZMuXR6SEfxW4W9VxdJPYPzoCFOC2Zp8lyjTjl4uZqzT9ahqw8qTSKerHGThB9yPw8AqEjrAnihMPGZhG3RFwtMVseAURe3S0loI+oycyBPFgDFiJOGXeEhpAo326CHhpzDWrLXwhRKLvUzOnGbYnp3yPg53GxZG7K9dtiDG25XNe2LIZ3gCjusFUDR19syI+KH4qX2ZedIephsF7IFyHCLiaa1JjtEAcdlxHFO620ihN1atYB3o+Fn31kXgzIM68cbK4nirqup56vN2sdM5R6c7QGq/G7IcOqm1T9Hhs/FGFnTlPGXLnWmEuBMafyiVVmzTaKgc5SJf85IOj5tyA8gk9Yr8nkWPlHyM9jqaHoDkVkg8Zc3rxBr2KsQIhIUmaOkYNsFz49Aky3tprDVBucB1U/yToB+JFJhymLeZu4HqVRfl4kyzfyhfUm8842jk6hr2xppbX1OeLP12uZIB2hdz/A+7GIrdMX85O4MYM1N8sraM56KreZKK9Ct7i1teV3Ffh97X0Z9+qFqwv1EvkIcYD3o+WHYtdDa5IXY4hrKhqFzZuiQZYSGcWVwmqj+azkkFq9sVpYSeGCI+MmX2gGqRZzfG4HoD8ucXSHwpgpRIJRrTUbt5/mckW6JisW01PFHJdiCn9BDnSbKzfqjB7H99jVj0sXhqRuwygGS7UadowrZDNAu4CFryTKzXqtFGN2KBYAAADGSURBVGQz3xm+P4T6CfFatmxBdFBkJAGPXKo3udRrjivYBAyO7w+hfkKcsTCZQOygaHHkKDt+w4bllX5zcR6vtDEUEMWSgDZqFks2p4Eq33BT3B+ZOBTRmsxuWxTQKfxFRdO+6qDzvRXbNGwOUVPsGDtEURTNovcHx0fEa4No6aK1uMIufFLLWMZWHrSIOkHAnrPx9RV+tqhMZHiBb/TcxKIY6Mh/xY+iWPN7P+29Fa+No4t8wXS8P5x42+X3fqBv8k3GI/8DCrvFYBr6bxUAAAAASUVORK5CYII=)"
      ]
    },
    {
      "cell_type": "code",
      "metadata": {
        "id": "O9lK1Br3Qk_7",
        "outputId": "936f34ec-9f62-40ca-ff6d-f842ca9c0319",
        "colab": {
          "base_uri": "https://localhost:8080/"
        }
      },
      "source": [
        "np.dot(np_a,np_c.T)  ### multiply matrix to matrix    (a,b) x (b,c) = (a,c)"
      ],
      "execution_count": 21,
      "outputs": [
        {
          "output_type": "execute_result",
          "data": {
            "text/plain": [
              "array([[28, 10],\n",
              "       [73, 28]])"
            ]
          },
          "metadata": {},
          "execution_count": 21
        }
      ]
    },
    {
      "cell_type": "markdown",
      "metadata": {
        "id": "ssdYSImbSFVO"
      },
      "source": [
        "### Indexing & Slicing"
      ]
    },
    {
      "cell_type": "code",
      "metadata": {
        "id": "HdDYZ7d7Qrl3",
        "outputId": "016b22fc-597c-47ec-c9e5-49abc6335d5e",
        "colab": {
          "base_uri": "https://localhost:8080/"
        }
      },
      "source": [
        "np_a"
      ],
      "execution_count": 24,
      "outputs": [
        {
          "output_type": "execute_result",
          "data": {
            "text/plain": [
              "array([[1, 2, 3],\n",
              "       [4, 5, 6]])"
            ]
          },
          "metadata": {},
          "execution_count": 24
        }
      ]
    },
    {
      "cell_type": "code",
      "metadata": {
        "id": "8VaxIghHSMZJ",
        "outputId": "ed8a3c19-de47-4541-f6bb-ff0492f8eab6",
        "colab": {
          "base_uri": "https://localhost:8080/"
        }
      },
      "source": [
        "np_a[1,1]"
      ],
      "execution_count": 25,
      "outputs": [
        {
          "output_type": "execute_result",
          "data": {
            "text/plain": [
              "5"
            ]
          },
          "metadata": {},
          "execution_count": 25
        }
      ]
    },
    {
      "cell_type": "code",
      "metadata": {
        "id": "xnpOS58DSPRR",
        "outputId": "4ea1d7b9-8f31-4533-b555-01a47540c689",
        "colab": {
          "base_uri": "https://localhost:8080/"
        }
      },
      "source": [
        "np_a[:2,:2]"
      ],
      "execution_count": 26,
      "outputs": [
        {
          "output_type": "execute_result",
          "data": {
            "text/plain": [
              "array([[1, 2],\n",
              "       [4, 5]])"
            ]
          },
          "metadata": {},
          "execution_count": 26
        }
      ]
    },
    {
      "cell_type": "code",
      "metadata": {
        "id": "D5e5JTI0SVad",
        "outputId": "c1172eb8-1bfa-4194-99cf-9728bba3fa58",
        "colab": {
          "base_uri": "https://localhost:8080/"
        }
      },
      "source": [
        "np_a[0,:]"
      ],
      "execution_count": 27,
      "outputs": [
        {
          "output_type": "execute_result",
          "data": {
            "text/plain": [
              "array([1, 2, 3])"
            ]
          },
          "metadata": {},
          "execution_count": 27
        }
      ]
    },
    {
      "cell_type": "markdown",
      "metadata": {
        "id": "UnVYP__uSp7I"
      },
      "source": [
        "### Useful functions"
      ]
    },
    {
      "cell_type": "code",
      "metadata": {
        "id": "lVperx21S5Tv",
        "outputId": "d374c44d-6927-4931-ec79-eaede4626a21",
        "colab": {
          "base_uri": "https://localhost:8080/"
        }
      },
      "source": [
        "np_a"
      ],
      "execution_count": 29,
      "outputs": [
        {
          "output_type": "execute_result",
          "data": {
            "text/plain": [
              "array([[1, 2, 3],\n",
              "       [4, 5, 6]])"
            ]
          },
          "metadata": {},
          "execution_count": 29
        }
      ]
    },
    {
      "cell_type": "code",
      "metadata": {
        "id": "yRUV5jf1Scvj",
        "outputId": "f2152da3-0595-49a7-ee1c-183e28d4ec41",
        "colab": {
          "base_uri": "https://localhost:8080/"
        }
      },
      "source": [
        "np.sum(np_a)"
      ],
      "execution_count": 28,
      "outputs": [
        {
          "output_type": "execute_result",
          "data": {
            "text/plain": [
              "21"
            ]
          },
          "metadata": {},
          "execution_count": 28
        }
      ]
    },
    {
      "cell_type": "code",
      "metadata": {
        "id": "EVNsFpe2S2u7",
        "outputId": "d247d7ae-d0c0-4154-ecee-c1128a234f33",
        "colab": {
          "base_uri": "https://localhost:8080/"
        }
      },
      "source": [
        "np.sum(np_a,axis=0)    ### sum ด้านแถว(หรือ เอาค่าในแนวแกนนอนมารวมกัน)"
      ],
      "execution_count": 30,
      "outputs": [
        {
          "output_type": "execute_result",
          "data": {
            "text/plain": [
              "array([5, 7, 9])"
            ]
          },
          "metadata": {},
          "execution_count": 30
        }
      ]
    },
    {
      "cell_type": "code",
      "metadata": {
        "id": "gsRluWlTTJJA",
        "outputId": "c3c3a8ee-3312-4cb6-9dca-08ce1c289bb3",
        "colab": {
          "base_uri": "https://localhost:8080/"
        }
      },
      "source": [
        "np.sum(np_a,axis=1)   ### sum colunm(หรือ เอาทุกค่าใน column มารวมกัน)"
      ],
      "execution_count": 33,
      "outputs": [
        {
          "output_type": "execute_result",
          "data": {
            "text/plain": [
              "array([ 6, 15])"
            ]
          },
          "metadata": {},
          "execution_count": 33
        }
      ]
    },
    {
      "cell_type": "code",
      "metadata": {
        "id": "S6YRETiiTYjc",
        "outputId": "d1955c10-3477-466a-f43a-0dd05720aae8",
        "colab": {
          "base_uri": "https://localhost:8080/"
        }
      },
      "source": [
        "np.mean(np_a)"
      ],
      "execution_count": 34,
      "outputs": [
        {
          "output_type": "execute_result",
          "data": {
            "text/plain": [
              "3.5"
            ]
          },
          "metadata": {},
          "execution_count": 34
        }
      ]
    },
    {
      "cell_type": "code",
      "metadata": {
        "id": "PNk0xUueUDYD",
        "outputId": "f94758ad-6bae-4a4f-f9d3-fc8c9c8580a5",
        "colab": {
          "base_uri": "https://localhost:8080/"
        }
      },
      "source": [
        "np.mean(np_a,axis=0)    ### หา mean ของ column"
      ],
      "execution_count": 35,
      "outputs": [
        {
          "output_type": "execute_result",
          "data": {
            "text/plain": [
              "array([2.5, 3.5, 4.5])"
            ]
          },
          "metadata": {},
          "execution_count": 35
        }
      ]
    },
    {
      "cell_type": "code",
      "metadata": {
        "id": "faw9gUipUQLr"
      },
      "source": [
        ""
      ],
      "execution_count": null,
      "outputs": []
    },
    {
      "cell_type": "markdown",
      "metadata": {
        "id": "WWrEYFzuUsA2"
      },
      "source": [
        "### วนลูปเอง"
      ]
    },
    {
      "cell_type": "markdown",
      "metadata": {
        "id": "K4VxCbJxVAzg"
      },
      "source": [
        "#### summation"
      ]
    },
    {
      "cell_type": "code",
      "metadata": {
        "id": "pWPWltWMWu_k",
        "outputId": "e52e39cc-13e5-47e7-a157-9a103d0b34c3",
        "colab": {
          "base_uri": "https://localhost:8080/"
        }
      },
      "source": [
        "np_a.shape"
      ],
      "execution_count": 39,
      "outputs": [
        {
          "output_type": "execute_result",
          "data": {
            "text/plain": [
              "(2, 3)"
            ]
          },
          "metadata": {},
          "execution_count": 39
        }
      ]
    },
    {
      "cell_type": "code",
      "metadata": {
        "id": "KOvh1YTWUxAH",
        "outputId": "330aaf51-bd53-4a74-a513-1c68e902f201",
        "colab": {
          "base_uri": "https://localhost:8080/"
        }
      },
      "source": [
        "sum_all = 0\n",
        "\n",
        "for row in range(np_a.shape[0]):\n",
        "    for col in range(np_a.shape[1]):\n",
        "        sum_all = sum_all + np_a[row,col]\n",
        "        print(f'we are at row={row},col={col} np_a[{row},{col}]={np_a[row,col]} sum_all={sum_all}')\n",
        "print(sum_all)"
      ],
      "execution_count": 38,
      "outputs": [
        {
          "output_type": "stream",
          "text": [
            "we are at row=0,col=0 np_a[0,0]=1 sum_all=1\n",
            "we are at row=0,col=1 np_a[0,1]=2 sum_all=3\n",
            "we are at row=0,col=2 np_a[0,2]=3 sum_all=6\n",
            "we are at row=1,col=0 np_a[1,0]=4 sum_all=10\n",
            "we are at row=1,col=1 np_a[1,1]=5 sum_all=15\n",
            "we are at row=1,col=2 np_a[1,2]=6 sum_all=21\n",
            "21\n"
          ],
          "name": "stdout"
        }
      ]
    },
    {
      "cell_type": "markdown",
      "metadata": {
        "id": "yrd-T6haW33B"
      },
      "source": [
        "\n",
        "\n",
        "```\n",
        "np.sum(np_a,axis=0)\n",
        "```\n",
        "\n"
      ]
    },
    {
      "cell_type": "code",
      "metadata": {
        "id": "LzpqILmDXv68",
        "outputId": "f2828751-c39a-476f-b928-29f08a96ae8f",
        "colab": {
          "base_uri": "https://localhost:8080/"
        }
      },
      "source": [
        "# หาผลรวมของ colunm แบบใช้ function .sum\n",
        "\n",
        "np.sum(np_a,axis=0)    ### sum ด้านแถว(หรือ เอาค่าในแนวแกนนอนมารวมกัน)"
      ],
      "execution_count": 42,
      "outputs": [
        {
          "output_type": "execute_result",
          "data": {
            "text/plain": [
              "array([5, 7, 9])"
            ]
          },
          "metadata": {},
          "execution_count": 42
        }
      ]
    },
    {
      "cell_type": "code",
      "metadata": {
        "id": "OE5nGyKYWIRq",
        "outputId": "7f30ba2a-bc7e-495d-c0c5-190cfffb1158",
        "colab": {
          "base_uri": "https://localhost:8080/"
        }
      },
      "source": [
        "# หาผลรวมของ colunm แบบเขียนเอง\n",
        "\n",
        "sum_all = np.zeros(np_a.shape[1])\n",
        "\n",
        "for row in range(np_a.shape[0]):\n",
        "    for col in range(np_a.shape[1]):\n",
        "        sum_all[col] = sum_all[col] + np_a[row,col]\n",
        "print(sum_all)"
      ],
      "execution_count": 41,
      "outputs": [
        {
          "output_type": "stream",
          "text": [
            "[5. 7. 9.]\n"
          ],
          "name": "stdout"
        }
      ]
    },
    {
      "cell_type": "markdown",
      "metadata": {
        "id": "TTpOj2gSYkXM"
      },
      "source": [
        "Quiz กลุ่ม\n",
        "\n",
        "วนลูปหาค่า\n",
        "\n",
        "* ```np.sum(np_a,axis=1)```\n",
        "\n",
        "* ```np.mean(np_a)```\n",
        "\n",
        "* ```np.mean(np_a,axis=0)```\n",
        "\n",
        "* ```np.mean(np_a,axis=1)```\n",
        "\n"
      ]
    },
    {
      "cell_type": "code",
      "metadata": {
        "id": "IcuG550vZzSB",
        "outputId": "73234ef3-f9d3-4657-ee5b-33ddff7a438b",
        "colab": {
          "base_uri": "https://localhost:8080/"
        }
      },
      "source": [
        "np_a"
      ],
      "execution_count": 44,
      "outputs": [
        {
          "output_type": "execute_result",
          "data": {
            "text/plain": [
              "array([[1, 2, 3],\n",
              "       [4, 5, 6]])"
            ]
          },
          "metadata": {},
          "execution_count": 44
        }
      ]
    },
    {
      "cell_type": "code",
      "metadata": {
        "id": "upBUoSuWZvbS",
        "outputId": "d6c19da8-1529-431a-89a5-2b454ecd74d0",
        "colab": {
          "base_uri": "https://localhost:8080/"
        }
      },
      "source": [
        "np.min(np_a,axis=1)   ### หา min ของ แถว"
      ],
      "execution_count": 46,
      "outputs": [
        {
          "output_type": "execute_result",
          "data": {
            "text/plain": [
              "array([1, 4])"
            ]
          },
          "metadata": {},
          "execution_count": 46
        }
      ]
    },
    {
      "cell_type": "code",
      "metadata": {
        "id": "nPHgzSkfXhsY",
        "outputId": "46420330-1882-4260-b077-fe0a73ac9548",
        "colab": {
          "base_uri": "https://localhost:8080/"
        }
      },
      "source": [
        "### 10. np.min(np_a,axis=1)\n",
        "min_row = np.zeros(np_a.shape[0])\n",
        "\n",
        "for row in range(np_a.shape[0]):\n",
        "   min_row[row] = min(np_a[row])\n",
        "print(min_row)"
      ],
      "execution_count": 56,
      "outputs": [
        {
          "output_type": "stream",
          "text": [
            "[1. 4.]\n"
          ],
          "name": "stdout"
        }
      ]
    },
    {
      "cell_type": "code",
      "metadata": {
        "id": "-tsWX4XtgXcI"
      },
      "source": [
        "### 10. np.min(np_a,axis=1)\n",
        "\n",
        "min_row = "
      ],
      "execution_count": null,
      "outputs": []
    }
  ]
}