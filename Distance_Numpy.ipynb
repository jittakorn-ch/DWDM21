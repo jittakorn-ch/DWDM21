{
  "nbformat": 4,
  "nbformat_minor": 0,
  "metadata": {
    "colab": {
      "name": "Distance Numpy.ipynb",
      "provenance": [],
      "authorship_tag": "ABX9TyPemHkQvoSe1bT0312rK0uv",
      "include_colab_link": true
    },
    "kernelspec": {
      "name": "python3",
      "display_name": "Python 3"
    },
    "language_info": {
      "name": "python"
    }
  },
  "cells": [
    {
      "cell_type": "markdown",
      "metadata": {
        "id": "view-in-github",
        "colab_type": "text"
      },
      "source": [
        "<a href=\"https://colab.research.google.com/github/jittakorn-ch/DWDM21/blob/main/Distance_Numpy.ipynb\" target=\"_parent\"><img src=\"https://colab.research.google.com/assets/colab-badge.svg\" alt=\"Open In Colab\"/></a>"
      ]
    },
    {
      "cell_type": "code",
      "metadata": {
        "id": "wFXu3ZMVcuSv"
      },
      "source": [
        "import numpy as np     ### package สำหรับทำงานกับ ข้อมูลที่เป็นตัวเลข อยู่ในรูปแบบ matrix"
      ],
      "execution_count": 1,
      "outputs": []
    },
    {
      "cell_type": "markdown",
      "metadata": {
        "id": "u_fpK5Hhdm2t"
      },
      "source": [
        "# Numpy Array"
      ]
    },
    {
      "cell_type": "markdown",
      "metadata": {
        "id": "bO4sgcOPdq-z"
      },
      "source": [
        "## สร้าง numpy array (matrix)"
      ]
    },
    {
      "cell_type": "code",
      "metadata": {
        "id": "EErkSAMldSPd"
      },
      "source": [
        "np_a = np.array([[1,2,3],[4,5,6]])    ### สร้าง numpy array ที่มี 2 แถว 3 หลัก"
      ],
      "execution_count": 2,
      "outputs": []
    },
    {
      "cell_type": "code",
      "metadata": {
        "colab": {
          "base_uri": "https://localhost:8080/"
        },
        "id": "IVvr4JD6eAHk",
        "outputId": "c9eb3778-3ea0-43c8-b7ae-ef9d3aa0bef0"
      },
      "source": [
        "np_a"
      ],
      "execution_count": 3,
      "outputs": [
        {
          "output_type": "execute_result",
          "data": {
            "text/plain": [
              "array([[1, 2, 3],\n",
              "       [4, 5, 6]])"
            ]
          },
          "metadata": {},
          "execution_count": 3
        }
      ]
    },
    {
      "cell_type": "code",
      "metadata": {
        "colab": {
          "base_uri": "https://localhost:8080/"
        },
        "id": "chYcT-pheCmb",
        "outputId": "71d578d5-9bd1-4bed-872c-83ddbf11dc6f"
      },
      "source": [
        "np_a.shape"
      ],
      "execution_count": 4,
      "outputs": [
        {
          "output_type": "execute_result",
          "data": {
            "text/plain": [
              "(2, 3)"
            ]
          },
          "metadata": {},
          "execution_count": 4
        }
      ]
    },
    {
      "cell_type": "code",
      "metadata": {
        "colab": {
          "base_uri": "https://localhost:8080/"
        },
        "id": "TXG2DeboeaEZ",
        "outputId": "ea2697ad-c3a5-4aa0-9205-2bb4f46134a4"
      },
      "source": [
        "np_b = np.array([[1,4],[2,5],[3,6]])\n",
        "np_b"
      ],
      "execution_count": 5,
      "outputs": [
        {
          "output_type": "execute_result",
          "data": {
            "text/plain": [
              "array([[1, 4],\n",
              "       [2, 5],\n",
              "       [3, 6]])"
            ]
          },
          "metadata": {},
          "execution_count": 5
        }
      ]
    },
    {
      "cell_type": "markdown",
      "metadata": {
        "id": "x9g1KiPEevbL"
      },
      "source": [
        "### matrix transpose"
      ]
    },
    {
      "cell_type": "code",
      "metadata": {
        "colab": {
          "base_uri": "https://localhost:8080/"
        },
        "id": "7yY0EZxVettC",
        "outputId": "24f65f75-931c-4596-f6e9-3377601ef9c5"
      },
      "source": [
        "np_a.T     ### transpose"
      ],
      "execution_count": 6,
      "outputs": [
        {
          "output_type": "execute_result",
          "data": {
            "text/plain": [
              "array([[1, 4],\n",
              "       [2, 5],\n",
              "       [3, 6]])"
            ]
          },
          "metadata": {},
          "execution_count": 6
        }
      ]
    },
    {
      "cell_type": "markdown",
      "metadata": {
        "id": "atHyJOBXe-GU"
      },
      "source": [
        "### สร้าง matrix เริ่มต้น (zeros,ones)"
      ]
    },
    {
      "cell_type": "code",
      "metadata": {
        "colab": {
          "base_uri": "https://localhost:8080/"
        },
        "id": "k3ZzU2xKe2dN",
        "outputId": "0c3c84bb-dcd1-49e8-cdbc-7526e4503a4f"
      },
      "source": [
        "# matrix zeros\n",
        "np_z = np.zeros((4,5))\n",
        "np_z"
      ],
      "execution_count": 7,
      "outputs": [
        {
          "output_type": "execute_result",
          "data": {
            "text/plain": [
              "array([[0., 0., 0., 0., 0.],\n",
              "       [0., 0., 0., 0., 0.],\n",
              "       [0., 0., 0., 0., 0.],\n",
              "       [0., 0., 0., 0., 0.]])"
            ]
          },
          "metadata": {},
          "execution_count": 7
        }
      ]
    },
    {
      "cell_type": "code",
      "metadata": {
        "colab": {
          "base_uri": "https://localhost:8080/"
        },
        "id": "ztkB_kkcfnxY",
        "outputId": "1114b643-8c37-4d88-b70f-7a22576e475a"
      },
      "source": [
        "# matrix ones\n",
        "np_o = np.ones((5,6))\n",
        "np_o"
      ],
      "execution_count": 8,
      "outputs": [
        {
          "output_type": "execute_result",
          "data": {
            "text/plain": [
              "array([[1., 1., 1., 1., 1., 1.],\n",
              "       [1., 1., 1., 1., 1., 1.],\n",
              "       [1., 1., 1., 1., 1., 1.],\n",
              "       [1., 1., 1., 1., 1., 1.],\n",
              "       [1., 1., 1., 1., 1., 1.]])"
            ]
          },
          "metadata": {},
          "execution_count": 8
        }
      ]
    },
    {
      "cell_type": "code",
      "metadata": {
        "colab": {
          "base_uri": "https://localhost:8080/"
        },
        "id": "QLwjP2IrfvyK",
        "outputId": "4dfb5f1f-5e03-4180-b7c5-8deea8294b76"
      },
      "source": [
        "# สร้าง matrix ที่มีค่าเป็น 200\n",
        "np_200 = 200 * np.ones((4,7))\n",
        "np_200"
      ],
      "execution_count": 9,
      "outputs": [
        {
          "output_type": "execute_result",
          "data": {
            "text/plain": [
              "array([[200., 200., 200., 200., 200., 200., 200.],\n",
              "       [200., 200., 200., 200., 200., 200., 200.],\n",
              "       [200., 200., 200., 200., 200., 200., 200.],\n",
              "       [200., 200., 200., 200., 200., 200., 200.]])"
            ]
          },
          "metadata": {},
          "execution_count": 9
        }
      ]
    },
    {
      "cell_type": "markdown",
      "metadata": {
        "id": "CNDVbicMgdfC"
      },
      "source": [
        "### สร้าง matrix random"
      ]
    },
    {
      "cell_type": "code",
      "metadata": {
        "colab": {
          "base_uri": "https://localhost:8080/"
        },
        "id": "McP1UYl_gGb5",
        "outputId": "44e5979a-07e1-47d3-9e29-975425d39948"
      },
      "source": [
        "np.random.randn(5,5)  ### random เลขมาจาก normal distribution ที่มี mu=0, dtd=1"
      ],
      "execution_count": 10,
      "outputs": [
        {
          "output_type": "execute_result",
          "data": {
            "text/plain": [
              "array([[ 0.10701147,  1.5068433 , -0.63780962,  0.97521017, -0.37075984],\n",
              "       [ 1.12911871, -0.7276809 , -0.05072338, -1.31521654, -0.90180077],\n",
              "       [ 0.19410205,  1.28510679, -1.28156377, -0.31694789,  0.2887974 ],\n",
              "       [-0.45714657,  0.59792694,  0.30447176, -0.49718552,  2.23943749],\n",
              "       [ 0.20353163, -0.14182838, -2.53470911,  0.69003877, -0.83545539]])"
            ]
          },
          "metadata": {},
          "execution_count": 10
        }
      ]
    },
    {
      "cell_type": "code",
      "metadata": {
        "colab": {
          "base_uri": "https://localhost:8080/"
        },
        "id": "ZFOAU2KGgu99",
        "outputId": "d998805e-8a14-47bd-82a8-b6e526a9e768"
      },
      "source": [
        "2+(5*np.random.randn(3,3))  ### random เลขมาจาก normal distribution ที่มี mu=2, dtd=5"
      ],
      "execution_count": 11,
      "outputs": [
        {
          "output_type": "execute_result",
          "data": {
            "text/plain": [
              "array([[3.76285029, 6.34164792, 1.25325134],\n",
              "       [1.49137061, 4.68849182, 9.62304702],\n",
              "       [3.47820195, 7.8713154 , 9.36534097]])"
            ]
          },
          "metadata": {},
          "execution_count": 11
        }
      ]
    },
    {
      "cell_type": "code",
      "metadata": {
        "colab": {
          "base_uri": "https://localhost:8080/"
        },
        "id": "J_ln6ZsmhP9p",
        "outputId": "b43b20f4-ab3b-4487-a848-bf20089f6c71"
      },
      "source": [
        "np.random.randint(5,11,(4,5))  ### random เลขจำนวนเต็ม ระหว่าง [5,11) ขนาด (4x5)"
      ],
      "execution_count": 12,
      "outputs": [
        {
          "output_type": "execute_result",
          "data": {
            "text/plain": [
              "array([[ 9,  7,  5,  5,  9],\n",
              "       [10,  9,  6,  8,  7],\n",
              "       [ 6,  9,  8,  9,  5],\n",
              "       [ 9,  5,  8,  7,  6]])"
            ]
          },
          "metadata": {},
          "execution_count": 12
        }
      ]
    },
    {
      "cell_type": "markdown",
      "metadata": {
        "id": "v99XPgmoQWD3"
      },
      "source": [
        "### matrix properties"
      ]
    },
    {
      "cell_type": "code",
      "metadata": {
        "colab": {
          "base_uri": "https://localhost:8080/"
        },
        "id": "B5Eh2yZCOtS4",
        "outputId": "85345ae9-8684-443f-f08e-70a57a1002c7"
      },
      "source": [
        "np_a"
      ],
      "execution_count": 13,
      "outputs": [
        {
          "output_type": "execute_result",
          "data": {
            "text/plain": [
              "array([[1, 2, 3],\n",
              "       [4, 5, 6]])"
            ]
          },
          "metadata": {},
          "execution_count": 13
        }
      ]
    },
    {
      "cell_type": "code",
      "metadata": {
        "id": "Hlokbi5Whi6p",
        "colab": {
          "base_uri": "https://localhost:8080/"
        },
        "outputId": "1cdba5cb-b83a-46b4-d16f-e3b4f368c72c"
      },
      "source": [
        "1 + np_a   ### adding scalar to matrix (จะบวกกระจายไปทุกๆ ตัว)"
      ],
      "execution_count": 14,
      "outputs": [
        {
          "output_type": "execute_result",
          "data": {
            "text/plain": [
              "array([[2, 3, 4],\n",
              "       [5, 6, 7]])"
            ]
          },
          "metadata": {},
          "execution_count": 14
        }
      ]
    },
    {
      "cell_type": "code",
      "metadata": {
        "colab": {
          "base_uri": "https://localhost:8080/"
        },
        "id": "sOlPjkM7O7oq",
        "outputId": "64db82ee-bbe8-4906-ca9a-afe2ec596a5b"
      },
      "source": [
        "2 * np_a   ### multiply scalar to matrix (จะคูณกระจายไปทุกๆ ตัว)"
      ],
      "execution_count": 15,
      "outputs": [
        {
          "output_type": "execute_result",
          "data": {
            "text/plain": [
              "array([[ 2,  4,  6],\n",
              "       [ 8, 10, 12]])"
            ]
          },
          "metadata": {},
          "execution_count": 15
        }
      ]
    },
    {
      "cell_type": "code",
      "metadata": {
        "colab": {
          "base_uri": "https://localhost:8080/"
        },
        "id": "h5732cn8PSc3",
        "outputId": "b01b12fb-3d48-4f9f-c72e-3693a235c2b0"
      },
      "source": [
        "np_c = np.array([[6,5,4],[3,2,1]])\n",
        "np_c"
      ],
      "execution_count": 16,
      "outputs": [
        {
          "output_type": "execute_result",
          "data": {
            "text/plain": [
              "array([[6, 5, 4],\n",
              "       [3, 2, 1]])"
            ]
          },
          "metadata": {},
          "execution_count": 16
        }
      ]
    },
    {
      "cell_type": "code",
      "metadata": {
        "colab": {
          "base_uri": "https://localhost:8080/"
        },
        "id": "cFJrzR30Pfgq",
        "outputId": "c0aed2d5-d7ef-42da-d40b-69c06d1379ee"
      },
      "source": [
        "np_a + np_c    ### adding matrix to matrix"
      ],
      "execution_count": 17,
      "outputs": [
        {
          "output_type": "execute_result",
          "data": {
            "text/plain": [
              "array([[7, 7, 7],\n",
              "       [7, 7, 7]])"
            ]
          },
          "metadata": {},
          "execution_count": 17
        }
      ]
    },
    {
      "cell_type": "code",
      "metadata": {
        "colab": {
          "base_uri": "https://localhost:8080/"
        },
        "id": "OjyeB0cJPjPv",
        "outputId": "6c50949d-1f22-45bd-e11c-dae4f09eb8c3"
      },
      "source": [
        "np_a.shape"
      ],
      "execution_count": 18,
      "outputs": [
        {
          "output_type": "execute_result",
          "data": {
            "text/plain": [
              "(2, 3)"
            ]
          },
          "metadata": {},
          "execution_count": 18
        }
      ]
    },
    {
      "cell_type": "code",
      "metadata": {
        "colab": {
          "base_uri": "https://localhost:8080/"
        },
        "id": "I0uzyFETQiJ-",
        "outputId": "8917b7e7-ab06-4e35-9a63-db6b3db77b37"
      },
      "source": [
        "np_c.shape"
      ],
      "execution_count": 19,
      "outputs": [
        {
          "output_type": "execute_result",
          "data": {
            "text/plain": [
              "(2, 3)"
            ]
          },
          "metadata": {},
          "execution_count": 19
        }
      ]
    },
    {
      "cell_type": "code",
      "metadata": {
        "colab": {
          "base_uri": "https://localhost:8080/"
        },
        "id": "tTp7rGWWQ0SW",
        "outputId": "a5406642-e23f-43f3-bb8e-2ebcafab5f39"
      },
      "source": [
        "np_c.T.shape"
      ],
      "execution_count": 20,
      "outputs": [
        {
          "output_type": "execute_result",
          "data": {
            "text/plain": [
              "(3, 2)"
            ]
          },
          "metadata": {},
          "execution_count": 20
        }
      ]
    },
    {
      "cell_type": "markdown",
      "metadata": {
        "id": "N7Av_L9uRnwn"
      },
      "source": [
        "![matrix multiply.png](data:image/png;base64,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)"
      ]
    },
    {
      "cell_type": "code",
      "metadata": {
        "colab": {
          "base_uri": "https://localhost:8080/"
        },
        "id": "O9lK1Br3Qk_7",
        "outputId": "f141b563-a59f-46f3-cf23-04575ec8ab16"
      },
      "source": [
        "np.dot(np_a,np_c.T)  ### multiply matrix to matrix    (a,b) x (b,c) = (a,c)"
      ],
      "execution_count": 21,
      "outputs": [
        {
          "output_type": "execute_result",
          "data": {
            "text/plain": [
              "array([[28, 10],\n",
              "       [73, 28]])"
            ]
          },
          "metadata": {},
          "execution_count": 21
        }
      ]
    },
    {
      "cell_type": "markdown",
      "metadata": {
        "id": "ssdYSImbSFVO"
      },
      "source": [
        "### Indexing & Slicing"
      ]
    },
    {
      "cell_type": "code",
      "metadata": {
        "colab": {
          "base_uri": "https://localhost:8080/"
        },
        "id": "HdDYZ7d7Qrl3",
        "outputId": "0a105b13-f2a7-48d2-d37e-8ec8278d1ee7"
      },
      "source": [
        "np_a"
      ],
      "execution_count": 22,
      "outputs": [
        {
          "output_type": "execute_result",
          "data": {
            "text/plain": [
              "array([[1, 2, 3],\n",
              "       [4, 5, 6]])"
            ]
          },
          "metadata": {},
          "execution_count": 22
        }
      ]
    },
    {
      "cell_type": "code",
      "metadata": {
        "colab": {
          "base_uri": "https://localhost:8080/"
        },
        "id": "8VaxIghHSMZJ",
        "outputId": "c291de99-3948-4212-8c3b-168d84e941ae"
      },
      "source": [
        "np_a[1,1]"
      ],
      "execution_count": 23,
      "outputs": [
        {
          "output_type": "execute_result",
          "data": {
            "text/plain": [
              "5"
            ]
          },
          "metadata": {},
          "execution_count": 23
        }
      ]
    },
    {
      "cell_type": "code",
      "metadata": {
        "colab": {
          "base_uri": "https://localhost:8080/"
        },
        "id": "xnpOS58DSPRR",
        "outputId": "646dc96d-7b90-4065-fa3d-981d32611aee"
      },
      "source": [
        "np_a[:2,:2]"
      ],
      "execution_count": 24,
      "outputs": [
        {
          "output_type": "execute_result",
          "data": {
            "text/plain": [
              "array([[1, 2],\n",
              "       [4, 5]])"
            ]
          },
          "metadata": {},
          "execution_count": 24
        }
      ]
    },
    {
      "cell_type": "code",
      "metadata": {
        "colab": {
          "base_uri": "https://localhost:8080/"
        },
        "id": "D5e5JTI0SVad",
        "outputId": "262abf13-eb13-40ab-c260-301178777e2b"
      },
      "source": [
        "np_a[0,:]"
      ],
      "execution_count": 25,
      "outputs": [
        {
          "output_type": "execute_result",
          "data": {
            "text/plain": [
              "array([1, 2, 3])"
            ]
          },
          "metadata": {},
          "execution_count": 25
        }
      ]
    },
    {
      "cell_type": "markdown",
      "metadata": {
        "id": "UnVYP__uSp7I"
      },
      "source": [
        "### Useful functions"
      ]
    },
    {
      "cell_type": "code",
      "metadata": {
        "colab": {
          "base_uri": "https://localhost:8080/"
        },
        "id": "lVperx21S5Tv",
        "outputId": "c3fb75f6-bb68-44c1-d301-2ab0465472d8"
      },
      "source": [
        "np_a"
      ],
      "execution_count": 26,
      "outputs": [
        {
          "output_type": "execute_result",
          "data": {
            "text/plain": [
              "array([[1, 2, 3],\n",
              "       [4, 5, 6]])"
            ]
          },
          "metadata": {},
          "execution_count": 26
        }
      ]
    },
    {
      "cell_type": "code",
      "metadata": {
        "colab": {
          "base_uri": "https://localhost:8080/"
        },
        "id": "yRUV5jf1Scvj",
        "outputId": "9e3d9238-0243-4a00-d59a-13bdfcf77864"
      },
      "source": [
        "np.sum(np_a)"
      ],
      "execution_count": 27,
      "outputs": [
        {
          "output_type": "execute_result",
          "data": {
            "text/plain": [
              "21"
            ]
          },
          "metadata": {},
          "execution_count": 27
        }
      ]
    },
    {
      "cell_type": "code",
      "metadata": {
        "colab": {
          "base_uri": "https://localhost:8080/"
        },
        "id": "EVNsFpe2S2u7",
        "outputId": "2c4adf02-0f8d-4c12-9952-1378aac6e583"
      },
      "source": [
        "np.sum(np_a,axis=0)    ### sum ด้านแถว(หรือ เอาค่าในแนวแกนนอนมารวมกัน)"
      ],
      "execution_count": 28,
      "outputs": [
        {
          "output_type": "execute_result",
          "data": {
            "text/plain": [
              "array([5, 7, 9])"
            ]
          },
          "metadata": {},
          "execution_count": 28
        }
      ]
    },
    {
      "cell_type": "code",
      "metadata": {
        "colab": {
          "base_uri": "https://localhost:8080/"
        },
        "id": "gsRluWlTTJJA",
        "outputId": "72f4bb20-9e39-4a17-810d-3f0f7ceb10d2"
      },
      "source": [
        "np.sum(np_a,axis=1)   ### sum colunm(หรือ เอาทุกค่าใน column มารวมกัน)"
      ],
      "execution_count": 29,
      "outputs": [
        {
          "output_type": "execute_result",
          "data": {
            "text/plain": [
              "array([ 6, 15])"
            ]
          },
          "metadata": {},
          "execution_count": 29
        }
      ]
    },
    {
      "cell_type": "code",
      "metadata": {
        "colab": {
          "base_uri": "https://localhost:8080/"
        },
        "id": "S6YRETiiTYjc",
        "outputId": "5b76b609-99d0-4098-cbd1-bb75d692034a"
      },
      "source": [
        "np.mean(np_a)"
      ],
      "execution_count": 30,
      "outputs": [
        {
          "output_type": "execute_result",
          "data": {
            "text/plain": [
              "3.5"
            ]
          },
          "metadata": {},
          "execution_count": 30
        }
      ]
    },
    {
      "cell_type": "code",
      "metadata": {
        "colab": {
          "base_uri": "https://localhost:8080/"
        },
        "id": "PNk0xUueUDYD",
        "outputId": "acb4edc8-073b-4589-8934-707dd10bccee"
      },
      "source": [
        "np.mean(np_a,axis=0)    ### หา mean ของ column"
      ],
      "execution_count": 31,
      "outputs": [
        {
          "output_type": "execute_result",
          "data": {
            "text/plain": [
              "array([2.5, 3.5, 4.5])"
            ]
          },
          "metadata": {},
          "execution_count": 31
        }
      ]
    },
    {
      "cell_type": "code",
      "metadata": {
        "id": "faw9gUipUQLr"
      },
      "source": [
        ""
      ],
      "execution_count": 31,
      "outputs": []
    },
    {
      "cell_type": "markdown",
      "metadata": {
        "id": "WWrEYFzuUsA2"
      },
      "source": [
        "### วนลูปเอง"
      ]
    },
    {
      "cell_type": "markdown",
      "metadata": {
        "id": "K4VxCbJxVAzg"
      },
      "source": [
        "#### summation"
      ]
    },
    {
      "cell_type": "code",
      "metadata": {
        "colab": {
          "base_uri": "https://localhost:8080/"
        },
        "id": "pWPWltWMWu_k",
        "outputId": "062d133c-4d65-44ff-cfc3-60cc23d6e40c"
      },
      "source": [
        "np_a.shape"
      ],
      "execution_count": 32,
      "outputs": [
        {
          "output_type": "execute_result",
          "data": {
            "text/plain": [
              "(2, 3)"
            ]
          },
          "metadata": {},
          "execution_count": 32
        }
      ]
    },
    {
      "cell_type": "code",
      "metadata": {
        "colab": {
          "base_uri": "https://localhost:8080/"
        },
        "id": "KOvh1YTWUxAH",
        "outputId": "72342cc8-4d9e-467e-dfde-f75cd1fd5fa1"
      },
      "source": [
        "sum_all = 0\n",
        "\n",
        "for row in range(np_a.shape[0]):\n",
        "    for col in range(np_a.shape[1]):\n",
        "        sum_all = sum_all + np_a[row,col]\n",
        "        print(f'we are at row={row},col={col} np_a[{row},{col}]={np_a[row,col]} sum_all={sum_all}')\n",
        "print(sum_all)"
      ],
      "execution_count": 33,
      "outputs": [
        {
          "output_type": "stream",
          "text": [
            "we are at row=0,col=0 np_a[0,0]=1 sum_all=1\n",
            "we are at row=0,col=1 np_a[0,1]=2 sum_all=3\n",
            "we are at row=0,col=2 np_a[0,2]=3 sum_all=6\n",
            "we are at row=1,col=0 np_a[1,0]=4 sum_all=10\n",
            "we are at row=1,col=1 np_a[1,1]=5 sum_all=15\n",
            "we are at row=1,col=2 np_a[1,2]=6 sum_all=21\n",
            "21\n"
          ],
          "name": "stdout"
        }
      ]
    },
    {
      "cell_type": "markdown",
      "metadata": {
        "id": "yrd-T6haW33B"
      },
      "source": [
        "\n",
        "\n",
        "```\n",
        "np.sum(np_a,axis=0)\n",
        "```\n",
        "\n"
      ]
    },
    {
      "cell_type": "code",
      "metadata": {
        "colab": {
          "base_uri": "https://localhost:8080/"
        },
        "id": "LzpqILmDXv68",
        "outputId": "4f88eb87-17b6-4c5a-d0fc-08c1747b86dd"
      },
      "source": [
        "# หาผลรวมของ column แบบใช้ function .sum\n",
        "\n",
        "np.sum(np_a,axis=0)    ### sum ด้านแถว(หรือ เอาค่าในแนวแกนนอนมารวมกัน)"
      ],
      "execution_count": 34,
      "outputs": [
        {
          "output_type": "execute_result",
          "data": {
            "text/plain": [
              "array([5, 7, 9])"
            ]
          },
          "metadata": {},
          "execution_count": 34
        }
      ]
    },
    {
      "cell_type": "code",
      "metadata": {
        "colab": {
          "base_uri": "https://localhost:8080/"
        },
        "id": "OE5nGyKYWIRq",
        "outputId": "ac0c9e1c-2442-4539-fb5a-6eae672f8d00"
      },
      "source": [
        "# หาผลรวมของ column แบบเขียนเอง\n",
        "\n",
        "sum_all = np.zeros(np_a.shape[1])\n",
        "\n",
        "for row in range(np_a.shape[0]):\n",
        "    for col in range(np_a.shape[1]):\n",
        "        sum_all[col] = sum_all[col] + np_a[row,col]\n",
        "print(sum_all)"
      ],
      "execution_count": 35,
      "outputs": [
        {
          "output_type": "stream",
          "text": [
            "[5. 7. 9.]\n"
          ],
          "name": "stdout"
        }
      ]
    },
    {
      "cell_type": "markdown",
      "metadata": {
        "id": "TTpOj2gSYkXM"
      },
      "source": [
        "#### Quiz กลุ่ม\n",
        "\n",
        "วนลูปหาค่า\n",
        "\n",
        "1. ```np.sum(np_a,axis=1)```\n",
        "2. ```np.mean(np_a)```\n",
        "3. ```np.mean(np_a,axis=0)```\n",
        "4. ``` np.mean(np_a,axis=1)```\n",
        "5. ``` np.max(np_a) ```\n",
        "6. ``` np.max(np_a,axis=0) ```\n",
        "7. ``` np.max(np_a,axis=1) ```\n",
        "8. ``` np.min(np_a) ```\n",
        "9. ``` np.min(np_a,axis=0) ```\n",
        "10. ``` np.min(np_a,axis=1) ```\n",
        "\n"
      ]
    },
    {
      "cell_type": "code",
      "metadata": {
        "colab": {
          "base_uri": "https://localhost:8080/"
        },
        "id": "IcuG550vZzSB",
        "outputId": "fb9d7395-3f45-4114-916a-2614d8a83c7d"
      },
      "source": [
        "np_a"
      ],
      "execution_count": 36,
      "outputs": [
        {
          "output_type": "execute_result",
          "data": {
            "text/plain": [
              "array([[1, 2, 3],\n",
              "       [4, 5, 6]])"
            ]
          },
          "metadata": {},
          "execution_count": 36
        }
      ]
    },
    {
      "cell_type": "code",
      "metadata": {
        "colab": {
          "base_uri": "https://localhost:8080/"
        },
        "id": "upBUoSuWZvbS",
        "outputId": "90f94cb5-db17-4951-95db-6592ce95fb6f"
      },
      "source": [
        "np.min(np_a,axis=1)   ### หา min ของ แถว"
      ],
      "execution_count": 37,
      "outputs": [
        {
          "output_type": "execute_result",
          "data": {
            "text/plain": [
              "array([1, 4])"
            ]
          },
          "metadata": {},
          "execution_count": 37
        }
      ]
    },
    {
      "cell_type": "code",
      "metadata": {
        "id": "r6LFC-3_hrVo",
        "outputId": "800c811d-0bb1-411b-f62c-2b73b79f0932",
        "colab": {
          "base_uri": "https://localhost:8080/"
        }
      },
      "source": [
        "np.sum(np_a,axis=1)"
      ],
      "execution_count": 47,
      "outputs": [
        {
          "output_type": "execute_result",
          "data": {
            "text/plain": [
              "array([ 6, 15])"
            ]
          },
          "metadata": {},
          "execution_count": 47
        }
      ]
    },
    {
      "cell_type": "code",
      "metadata": {
        "id": "XhJyU5OLi6Aw",
        "outputId": "848a71a8-0a88-4324-d9b7-aedba155b386",
        "colab": {
          "base_uri": "https://localhost:8080/"
        }
      },
      "source": [
        "# 1. np.sum(np_a,axis=1)     ### เอาค่าทุก column มารวมกัน\n",
        "\n",
        "sum_all = np.zeros(np_a.shape[0])\n",
        "for row in range(np_a.shape[0]):\n",
        "    for col in range(np_a.shape[1]): \n",
        "        sum_all[row] = sum_all[row] + np_a[row,col]\n",
        "print(sum_all)"
      ],
      "execution_count": 49,
      "outputs": [
        {
          "output_type": "stream",
          "text": [
            "[ 6. 15.]\n"
          ],
          "name": "stdout"
        }
      ]
    },
    {
      "cell_type": "code",
      "metadata": {
        "id": "49qPw635frVu",
        "outputId": "22855052-41fd-4fef-85dc-49f11b3c96ff",
        "colab": {
          "base_uri": "https://localhost:8080/"
        }
      },
      "source": [
        "# 2. np.mean(np_a)            ### หา mean ของทั้งหมด\n",
        "\n",
        "mean_all = 0\n",
        "for row in range(np_a.shape[0]):\n",
        "    for col in range(np_a.shape[1]):\n",
        "        mean_all = mean_all + np_a[row,col]\n",
        "mean_all = mean_all/(np_a.shape[0]*np_a.shape[1])\n",
        "print(mean_all)"
      ],
      "execution_count": 46,
      "outputs": [
        {
          "output_type": "stream",
          "text": [
            "3.5\n"
          ],
          "name": "stdout"
        }
      ]
    },
    {
      "cell_type": "code",
      "metadata": {
        "id": "8kCgGz4FfUYb",
        "outputId": "af451b6a-23e1-4c5c-d3e6-faad0f310007",
        "colab": {
          "base_uri": "https://localhost:8080/"
        }
      },
      "source": [
        "# 3. np.mean(np_a,axis=0)        ### หา mean ของแต่ล่ะ column\n",
        "\n",
        "mean_all = np.zeros(np_a.shape[1])\n",
        "for row in range(np_a.shape[0]):\n",
        "     for col in range(np_a.shape[1]):\n",
        "          mean_all[col] = mean_all[col] + np_a[row,col]/np_a.shape[0]\n",
        "print(mean_all)"
      ],
      "execution_count": 41,
      "outputs": [
        {
          "output_type": "stream",
          "text": [
            "[2.5 3.5 4.5]\n"
          ],
          "name": "stdout"
        }
      ]
    },
    {
      "cell_type": "code",
      "metadata": {
        "id": "Fm76APJdfYTd",
        "outputId": "6d228b05-43be-4a46-9335-e99a0613e285",
        "colab": {
          "base_uri": "https://localhost:8080/"
        }
      },
      "source": [
        "# 4. np.mean(np_a,axis=1)         ### หา mean ของแต่ละ row\n",
        "\n",
        "sum_all = np.zeros(np_a.shape[0])\n",
        "for row in range(np_a.shape[0]):\n",
        "    for col in range(np_a.shape[1]): \n",
        "        sum_all[row] = sum_all[row] + np_a[row,col]\n",
        "sum_all = sum_all/np_a.shape[1]\n",
        "print(sum_all)"
      ],
      "execution_count": 42,
      "outputs": [
        {
          "output_type": "stream",
          "text": [
            "[2. 5.]\n"
          ],
          "name": "stdout"
        }
      ]
    },
    {
      "cell_type": "code",
      "metadata": {
        "id": "IkZPK3LYfd0p",
        "outputId": "813edbea-258d-4a0f-ef40-6662f9b6489b",
        "colab": {
          "base_uri": "https://localhost:8080/"
        }
      },
      "source": [
        "# 5. np.max(np_a)              ### หา max จากทั้งหมด\n",
        "\n",
        "max_a = -100000000\n",
        "for row in range(np_a.shape[0]):\n",
        "    for col in range(np_a.shape[1]):\n",
        "        if np_a[row,col] > max_a :\n",
        "            max_a = np_a[row,col]\n",
        "print(max_a)"
      ],
      "execution_count": 43,
      "outputs": [
        {
          "output_type": "stream",
          "text": [
            "6\n"
          ],
          "name": "stdout"
        }
      ]
    },
    {
      "cell_type": "code",
      "metadata": {
        "id": "E-sjJNQtiglj",
        "colab": {
          "base_uri": "https://localhost:8080/"
        },
        "outputId": "eeddcac6-01f7-4c9e-d5b7-792b4c042169"
      },
      "source": [
        "# 6. np.max(np_a,axis=0)           ### หา max ของแต่ล่ะ column\n",
        "\n",
        "max_all = -1000000 * np.ones(np_a.shape[1])\n",
        "\n",
        "for col in range(np_a.shape[1]):\n",
        "    for row in range(np_a.shape[0]):\n",
        "        if np_a[row,col] > max_all[col]:\n",
        "            max_all[col] = np_a[row,col]\n",
        "print(max_all)"
      ],
      "execution_count": 39,
      "outputs": [
        {
          "output_type": "stream",
          "text": [
            "[4. 5. 6.]\n"
          ],
          "name": "stdout"
        }
      ]
    },
    {
      "cell_type": "code",
      "metadata": {
        "id": "wIQrRyF4lrED",
        "outputId": "048ad96b-0839-4e3f-98ff-538d360fbaeb",
        "colab": {
          "base_uri": "https://localhost:8080/"
        }
      },
      "source": [
        "# 7. np.max(np_a,axis=1)           ### หา max ของแต่ละ row\n",
        " \n",
        "max_all = np.zeros(np_a.shape[0])\n",
        "for row in range(np_a.shape[0]):\n",
        "    max_all[row] = max(np_a[row,:])\n",
        "print(max_all)"
      ],
      "execution_count": 40,
      "outputs": [
        {
          "output_type": "stream",
          "text": [
            "[3. 6.]\n"
          ],
          "name": "stdout"
        }
      ]
    },
    {
      "cell_type": "code",
      "metadata": {
        "id": "kLsrehyDfgwV",
        "outputId": "164f4cc3-ed97-4fe7-8030-b3e2d58714d9",
        "colab": {
          "base_uri": "https://localhost:8080/"
        }
      },
      "source": [
        "# 8. np.min(np_a)              ### หา min ของทั้งหมด\n",
        "\n",
        "minV = 100000\n",
        "for row in range(np_a.shape[0]):\n",
        "    for col in range(np_a.shape[1]):\n",
        "        if np_a[row,col] < minV:\n",
        "            minV = np_a[row,col]\n",
        "print(minV)"
      ],
      "execution_count": 44,
      "outputs": [
        {
          "output_type": "stream",
          "text": [
            "1\n"
          ],
          "name": "stdout"
        }
      ]
    },
    {
      "cell_type": "code",
      "metadata": {
        "id": "2135yMYUfoFB",
        "outputId": "b68043b3-9ef4-4dd0-90cf-14dda8f823c3",
        "colab": {
          "base_uri": "https://localhost:8080/"
        }
      },
      "source": [
        "# 9. np.max(np_a,axis=0)         ### หา min ของแต่ละ column\n",
        "\n",
        "max_all = -100000 * np.ones(np_a.shape[1])\n",
        "for col in range(np_a.shape[1]):\n",
        "    for row in range(np_a.shape[0]):\n",
        "        if np_a[row,col] > max_all[col]: \n",
        "            max_all[col] = np_a[row,col]\n",
        "print(max_all)"
      ],
      "execution_count": 45,
      "outputs": [
        {
          "output_type": "stream",
          "text": [
            "[4. 5. 6.]\n"
          ],
          "name": "stdout"
        }
      ]
    },
    {
      "cell_type": "code",
      "metadata": {
        "colab": {
          "base_uri": "https://localhost:8080/"
        },
        "id": "nPHgzSkfXhsY",
        "outputId": "25936aaa-b3f0-4fa3-8477-f295abeb31db"
      },
      "source": [
        "### 10. np.min(np_a,axis=1)         ### หา min ของแต่ละ row\n",
        "\n",
        "min_row = np.zeros(np_a.shape[0])\n",
        "for row in range(np_a.shape[0]):\n",
        "   min_row[row] = min(np_a[row,:])\n",
        "print(min_row)"
      ],
      "execution_count": 38,
      "outputs": [
        {
          "output_type": "stream",
          "text": [
            "[1. 4.]\n"
          ],
          "name": "stdout"
        }
      ]
    },
    {
      "cell_type": "code",
      "metadata": {
        "id": "0j_D0x8lftde"
      },
      "source": [
        ""
      ],
      "execution_count": null,
      "outputs": []
    }
  ]
}