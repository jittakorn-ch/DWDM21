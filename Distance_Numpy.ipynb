{
  "nbformat": 4,
  "nbformat_minor": 0,
  "metadata": {
    "colab": {
      "name": "Distance Numpy.ipynb",
      "provenance": [],
      "authorship_tag": "ABX9TyOkt2jWxrEf6Hbzr7x2zKvw",
      "include_colab_link": true
    },
    "kernelspec": {
      "name": "python3",
      "display_name": "Python 3"
    },
    "language_info": {
      "name": "python"
    }
  },
  "cells": [
    {
      "cell_type": "markdown",
      "metadata": {
        "id": "view-in-github",
        "colab_type": "text"
      },
      "source": [
        "<a href=\"https://colab.research.google.com/github/jittakorn-ch/DWDM21/blob/main/Distance_Numpy.ipynb\" target=\"_parent\"><img src=\"https://colab.research.google.com/assets/colab-badge.svg\" alt=\"Open In Colab\"/></a>"
      ]
    },
    {
      "cell_type": "code",
      "metadata": {
        "id": "wFXu3ZMVcuSv"
      },
      "source": [
        "import numpy as np     ### package สำหรับทำงานกับ ข้อมูลที่เป็นตัวเลข อยู่ในรูปแบบ matrix"
      ],
      "execution_count": 1,
      "outputs": []
    },
    {
      "cell_type": "markdown",
      "metadata": {
        "id": "u_fpK5Hhdm2t"
      },
      "source": [
        "# Numpy Array"
      ]
    },
    {
      "cell_type": "markdown",
      "metadata": {
        "id": "bO4sgcOPdq-z"
      },
      "source": [
        "## สร้าง numpy array (matrix)"
      ]
    },
    {
      "cell_type": "code",
      "metadata": {
        "id": "EErkSAMldSPd"
      },
      "source": [
        "np_a = np.array([[1,2,3],[4,5,6]])    ### สร้าง numpy array ที่มี 2 แถว 3 หลัก"
      ],
      "execution_count": 5,
      "outputs": []
    },
    {
      "cell_type": "code",
      "metadata": {
        "colab": {
          "base_uri": "https://localhost:8080/"
        },
        "id": "IVvr4JD6eAHk",
        "outputId": "5401c1cb-4b46-429a-b563-07f8f200c84d"
      },
      "source": [
        "np_a"
      ],
      "execution_count": 7,
      "outputs": [
        {
          "output_type": "execute_result",
          "data": {
            "text/plain": [
              "array([[1, 2, 3],\n",
              "       [4, 5, 6]])"
            ]
          },
          "metadata": {},
          "execution_count": 7
        }
      ]
    },
    {
      "cell_type": "code",
      "metadata": {
        "colab": {
          "base_uri": "https://localhost:8080/"
        },
        "id": "chYcT-pheCmb",
        "outputId": "d78fee94-356f-4493-ee02-133e0143cb88"
      },
      "source": [
        "np_a.shape"
      ],
      "execution_count": 9,
      "outputs": [
        {
          "output_type": "execute_result",
          "data": {
            "text/plain": [
              "(2, 3)"
            ]
          },
          "metadata": {},
          "execution_count": 9
        }
      ]
    },
    {
      "cell_type": "code",
      "metadata": {
        "colab": {
          "base_uri": "https://localhost:8080/"
        },
        "id": "TXG2DeboeaEZ",
        "outputId": "d3d1ab6f-cb3b-46f1-f96f-1fea6215ab3c"
      },
      "source": [
        "np_b = np.array([[1,4],[2,5],[3,6]])\n",
        "np_b"
      ],
      "execution_count": 10,
      "outputs": [
        {
          "output_type": "execute_result",
          "data": {
            "text/plain": [
              "array([[1, 4],\n",
              "       [2, 5],\n",
              "       [3, 6]])"
            ]
          },
          "metadata": {},
          "execution_count": 10
        }
      ]
    },
    {
      "cell_type": "markdown",
      "metadata": {
        "id": "x9g1KiPEevbL"
      },
      "source": [
        "### matrix transpose"
      ]
    },
    {
      "cell_type": "code",
      "metadata": {
        "colab": {
          "base_uri": "https://localhost:8080/"
        },
        "id": "7yY0EZxVettC",
        "outputId": "f11c67f4-d43b-46f6-bc2b-e8736dcc5767"
      },
      "source": [
        "np_a.T"
      ],
      "execution_count": 11,
      "outputs": [
        {
          "output_type": "execute_result",
          "data": {
            "text/plain": [
              "array([[1, 4],\n",
              "       [2, 5],\n",
              "       [3, 6]])"
            ]
          },
          "metadata": {},
          "execution_count": 11
        }
      ]
    },
    {
      "cell_type": "markdown",
      "metadata": {
        "id": "atHyJOBXe-GU"
      },
      "source": [
        "### สร้าง matrix เริ่มต้น (zeros,ones)"
      ]
    },
    {
      "cell_type": "code",
      "metadata": {
        "colab": {
          "base_uri": "https://localhost:8080/"
        },
        "id": "k3ZzU2xKe2dN",
        "outputId": "0710d48c-bfa6-4be9-aa99-1af5e9683e95"
      },
      "source": [
        "# matrix zeros\n",
        "np_z = np.zeros((4,5))\n",
        "np_z"
      ],
      "execution_count": 12,
      "outputs": [
        {
          "output_type": "execute_result",
          "data": {
            "text/plain": [
              "array([[0., 0., 0., 0., 0.],\n",
              "       [0., 0., 0., 0., 0.],\n",
              "       [0., 0., 0., 0., 0.],\n",
              "       [0., 0., 0., 0., 0.]])"
            ]
          },
          "metadata": {},
          "execution_count": 12
        }
      ]
    },
    {
      "cell_type": "code",
      "metadata": {
        "colab": {
          "base_uri": "https://localhost:8080/"
        },
        "id": "ztkB_kkcfnxY",
        "outputId": "1a709d53-b948-4851-9a75-51df9e0cdbe8"
      },
      "source": [
        "# matrix ones\n",
        "np_o = np.ones((5,6))\n",
        "np_o"
      ],
      "execution_count": 13,
      "outputs": [
        {
          "output_type": "execute_result",
          "data": {
            "text/plain": [
              "array([[1., 1., 1., 1., 1., 1.],\n",
              "       [1., 1., 1., 1., 1., 1.],\n",
              "       [1., 1., 1., 1., 1., 1.],\n",
              "       [1., 1., 1., 1., 1., 1.],\n",
              "       [1., 1., 1., 1., 1., 1.]])"
            ]
          },
          "metadata": {},
          "execution_count": 13
        }
      ]
    },
    {
      "cell_type": "code",
      "metadata": {
        "colab": {
          "base_uri": "https://localhost:8080/"
        },
        "id": "QLwjP2IrfvyK",
        "outputId": "3fe664a8-161b-4823-b57e-0a51c268a40d"
      },
      "source": [
        "# สร้าง matrix ที่มีค่าเป็น 200\n",
        "np_200 = 200 * np.ones((4,7))\n",
        "np_200"
      ],
      "execution_count": 14,
      "outputs": [
        {
          "output_type": "execute_result",
          "data": {
            "text/plain": [
              "array([[200., 200., 200., 200., 200., 200., 200.],\n",
              "       [200., 200., 200., 200., 200., 200., 200.],\n",
              "       [200., 200., 200., 200., 200., 200., 200.],\n",
              "       [200., 200., 200., 200., 200., 200., 200.]])"
            ]
          },
          "metadata": {},
          "execution_count": 14
        }
      ]
    },
    {
      "cell_type": "markdown",
      "metadata": {
        "id": "CNDVbicMgdfC"
      },
      "source": [
        "### สร้าง matrix random"
      ]
    },
    {
      "cell_type": "code",
      "metadata": {
        "colab": {
          "base_uri": "https://localhost:8080/"
        },
        "id": "McP1UYl_gGb5",
        "outputId": "61518596-5597-4a43-eec8-1678d587a89b"
      },
      "source": [
        "np.random.randn(5,5)  ### random เลขมาจาก normal distribution ที่มี mu=0, dtd=1"
      ],
      "execution_count": 15,
      "outputs": [
        {
          "output_type": "execute_result",
          "data": {
            "text/plain": [
              "array([[ 0.08825958, -0.1491198 , -0.02933621,  0.8323579 ,  0.84765414],\n",
              "       [-2.20778143,  0.67957533,  0.07877295,  3.04606021, -0.58439283],\n",
              "       [-1.71101787,  0.59932767, -0.5140253 , -1.68825669,  0.44126907],\n",
              "       [ 0.02075554, -0.64271496, -0.5685522 , -0.35041063,  2.06393515],\n",
              "       [ 0.6511343 , -0.91496635,  1.6232063 ,  0.46230595,  0.96051406]])"
            ]
          },
          "metadata": {},
          "execution_count": 15
        }
      ]
    },
    {
      "cell_type": "code",
      "metadata": {
        "colab": {
          "base_uri": "https://localhost:8080/"
        },
        "id": "ZFOAU2KGgu99",
        "outputId": "b62706d5-60aa-4ce1-9904-175101553885"
      },
      "source": [
        "2+(5*np.random.randn(3,3))  ### random เลขมาจาก normal distribution ที่มี mu=2, dtd=5"
      ],
      "execution_count": 16,
      "outputs": [
        {
          "output_type": "execute_result",
          "data": {
            "text/plain": [
              "array([[-1.91345086,  2.6456149 , -0.93398007],\n",
              "       [ 1.79719087, -0.19624575, -0.16342999],\n",
              "       [ 3.73082813, -8.87685192,  4.048866  ]])"
            ]
          },
          "metadata": {},
          "execution_count": 16
        }
      ]
    },
    {
      "cell_type": "code",
      "metadata": {
        "colab": {
          "base_uri": "https://localhost:8080/"
        },
        "id": "J_ln6ZsmhP9p",
        "outputId": "5c14f7fe-f493-4ac7-e987-64fba355a67b"
      },
      "source": [
        "np.random.randint(5,11,(4,5))  ### random เลขจำนวนเต็ม ระหว่าง [5,11) ขนาด (4x5)"
      ],
      "execution_count": 18,
      "outputs": [
        {
          "output_type": "execute_result",
          "data": {
            "text/plain": [
              "array([[ 7, 10,  7,  6,  6],\n",
              "       [ 8,  8,  6,  6,  7],\n",
              "       [ 5,  6,  7, 10,  9],\n",
              "       [10,  7,  7,  6,  9]])"
            ]
          },
          "metadata": {},
          "execution_count": 18
        }
      ]
    },
    {
      "cell_type": "code",
      "metadata": {
        "id": "Hlokbi5Whi6p"
      },
      "source": [
        ""
      ],
      "execution_count": null,
      "outputs": []
    }
  ]
}