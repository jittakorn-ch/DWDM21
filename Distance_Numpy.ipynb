{
  "nbformat": 4,
  "nbformat_minor": 0,
  "metadata": {
    "colab": {
      "name": "Distance Numpy.ipynb",
      "provenance": [],
      "authorship_tag": "ABX9TyMlBh1vjgn86wnayhDI6gR8",
      "include_colab_link": true
    },
    "kernelspec": {
      "name": "python3",
      "display_name": "Python 3"
    },
    "language_info": {
      "name": "python"
    }
  },
  "cells": [
    {
      "cell_type": "markdown",
      "metadata": {
        "id": "view-in-github",
        "colab_type": "text"
      },
      "source": [
        "<a href=\"https://colab.research.google.com/github/jittakorn-ch/DWDM21/blob/main/Distance_Numpy.ipynb\" target=\"_parent\"><img src=\"https://colab.research.google.com/assets/colab-badge.svg\" alt=\"Open In Colab\"/></a>"
      ]
    },
    {
      "cell_type": "code",
      "metadata": {
        "id": "wFXu3ZMVcuSv"
      },
      "source": [
        "import numpy as np     ### package สำหรับทำงานกับ ข้อมูลที่เป็นตัวเลข อยู่ในรูปแบบ matrix"
      ],
      "execution_count": 1,
      "outputs": []
    },
    {
      "cell_type": "markdown",
      "metadata": {
        "id": "u_fpK5Hhdm2t"
      },
      "source": [
        "# Numpy Array"
      ]
    },
    {
      "cell_type": "markdown",
      "metadata": {
        "id": "bO4sgcOPdq-z"
      },
      "source": [
        "## สร้าง numpy array (matrix)"
      ]
    },
    {
      "cell_type": "code",
      "metadata": {
        "id": "EErkSAMldSPd"
      },
      "source": [
        "np_a = np.array([[1,2,3],[4,5,6]])    ### สร้าง numpy array ที่มี 2 แถว 3 หลัก"
      ],
      "execution_count": 2,
      "outputs": []
    },
    {
      "cell_type": "code",
      "metadata": {
        "colab": {
          "base_uri": "https://localhost:8080/"
        },
        "id": "IVvr4JD6eAHk",
        "outputId": "2669aa30-f613-4df5-c25d-737ef700043c"
      },
      "source": [
        "np_a"
      ],
      "execution_count": 3,
      "outputs": [
        {
          "output_type": "execute_result",
          "data": {
            "text/plain": [
              "array([[1, 2, 3],\n",
              "       [4, 5, 6]])"
            ]
          },
          "metadata": {},
          "execution_count": 3
        }
      ]
    },
    {
      "cell_type": "code",
      "metadata": {
        "colab": {
          "base_uri": "https://localhost:8080/"
        },
        "id": "chYcT-pheCmb",
        "outputId": "1255e8e1-ac47-4c87-eb43-fa0de15cac81"
      },
      "source": [
        "np_a.shape"
      ],
      "execution_count": 4,
      "outputs": [
        {
          "output_type": "execute_result",
          "data": {
            "text/plain": [
              "(2, 3)"
            ]
          },
          "metadata": {},
          "execution_count": 4
        }
      ]
    },
    {
      "cell_type": "code",
      "metadata": {
        "colab": {
          "base_uri": "https://localhost:8080/"
        },
        "id": "TXG2DeboeaEZ",
        "outputId": "c96e38c8-6c24-44fb-ec0d-d2962209b784"
      },
      "source": [
        "np_b = np.array([[1,4],[2,5],[3,6]])\n",
        "np_b"
      ],
      "execution_count": 5,
      "outputs": [
        {
          "output_type": "execute_result",
          "data": {
            "text/plain": [
              "array([[1, 4],\n",
              "       [2, 5],\n",
              "       [3, 6]])"
            ]
          },
          "metadata": {},
          "execution_count": 5
        }
      ]
    },
    {
      "cell_type": "markdown",
      "metadata": {
        "id": "x9g1KiPEevbL"
      },
      "source": [
        "### matrix transpose"
      ]
    },
    {
      "cell_type": "code",
      "metadata": {
        "colab": {
          "base_uri": "https://localhost:8080/"
        },
        "id": "7yY0EZxVettC",
        "outputId": "8a3b1257-5135-4140-86be-25dcbfdaabc3"
      },
      "source": [
        "np_a.T     ### transpose"
      ],
      "execution_count": 6,
      "outputs": [
        {
          "output_type": "execute_result",
          "data": {
            "text/plain": [
              "array([[1, 4],\n",
              "       [2, 5],\n",
              "       [3, 6]])"
            ]
          },
          "metadata": {},
          "execution_count": 6
        }
      ]
    },
    {
      "cell_type": "markdown",
      "metadata": {
        "id": "atHyJOBXe-GU"
      },
      "source": [
        "### สร้าง matrix เริ่มต้น (zeros,ones)"
      ]
    },
    {
      "cell_type": "code",
      "metadata": {
        "colab": {
          "base_uri": "https://localhost:8080/"
        },
        "id": "k3ZzU2xKe2dN",
        "outputId": "dec4691b-0e42-4370-f8ca-6d5da9b1f6f7"
      },
      "source": [
        "# matrix zeros\n",
        "np_z = np.zeros((4,5))\n",
        "np_z"
      ],
      "execution_count": 7,
      "outputs": [
        {
          "output_type": "execute_result",
          "data": {
            "text/plain": [
              "array([[0., 0., 0., 0., 0.],\n",
              "       [0., 0., 0., 0., 0.],\n",
              "       [0., 0., 0., 0., 0.],\n",
              "       [0., 0., 0., 0., 0.]])"
            ]
          },
          "metadata": {},
          "execution_count": 7
        }
      ]
    },
    {
      "cell_type": "code",
      "metadata": {
        "colab": {
          "base_uri": "https://localhost:8080/"
        },
        "id": "ztkB_kkcfnxY",
        "outputId": "84181dbc-ad2e-40b3-ddf2-3c33bdb8c4f1"
      },
      "source": [
        "# matrix ones\n",
        "np_o = np.ones((5,6))\n",
        "np_o"
      ],
      "execution_count": 8,
      "outputs": [
        {
          "output_type": "execute_result",
          "data": {
            "text/plain": [
              "array([[1., 1., 1., 1., 1., 1.],\n",
              "       [1., 1., 1., 1., 1., 1.],\n",
              "       [1., 1., 1., 1., 1., 1.],\n",
              "       [1., 1., 1., 1., 1., 1.],\n",
              "       [1., 1., 1., 1., 1., 1.]])"
            ]
          },
          "metadata": {},
          "execution_count": 8
        }
      ]
    },
    {
      "cell_type": "code",
      "metadata": {
        "colab": {
          "base_uri": "https://localhost:8080/"
        },
        "id": "QLwjP2IrfvyK",
        "outputId": "2c3ac914-0821-409b-dda8-e6fa2488d43a"
      },
      "source": [
        "# สร้าง matrix ที่มีค่าเป็น 200\n",
        "np_200 = 200 * np.ones((4,7))\n",
        "np_200"
      ],
      "execution_count": 9,
      "outputs": [
        {
          "output_type": "execute_result",
          "data": {
            "text/plain": [
              "array([[200., 200., 200., 200., 200., 200., 200.],\n",
              "       [200., 200., 200., 200., 200., 200., 200.],\n",
              "       [200., 200., 200., 200., 200., 200., 200.],\n",
              "       [200., 200., 200., 200., 200., 200., 200.]])"
            ]
          },
          "metadata": {},
          "execution_count": 9
        }
      ]
    },
    {
      "cell_type": "markdown",
      "metadata": {
        "id": "CNDVbicMgdfC"
      },
      "source": [
        "### สร้าง matrix random"
      ]
    },
    {
      "cell_type": "code",
      "metadata": {
        "colab": {
          "base_uri": "https://localhost:8080/"
        },
        "id": "McP1UYl_gGb5",
        "outputId": "0ef2d041-9e07-403b-b890-b3184ff827af"
      },
      "source": [
        "np.random.randn(5,5)  ### random เลขมาจาก normal distribution ที่มี mu=0, dtd=1"
      ],
      "execution_count": 10,
      "outputs": [
        {
          "output_type": "execute_result",
          "data": {
            "text/plain": [
              "array([[ 1.13805552e+00, -2.92109265e-01,  6.41371342e-01,\n",
              "         6.52381170e-01, -3.93090689e-02],\n",
              "       [-3.70278987e-01, -7.55642184e-01,  3.50526257e-01,\n",
              "         2.26319481e+00,  1.34918802e-01],\n",
              "       [-1.41043984e-01, -1.26013570e+00, -3.60181064e-01,\n",
              "        -2.05096064e+00,  6.27347073e-01],\n",
              "       [-1.99588388e-04, -2.77156020e-01, -1.03369087e+00,\n",
              "         1.33404421e+00,  1.38004737e+00],\n",
              "       [-2.52983012e+00,  9.55283419e-01, -3.30075528e-01,\n",
              "        -6.31467811e-01, -9.33008119e-01]])"
            ]
          },
          "metadata": {},
          "execution_count": 10
        }
      ]
    },
    {
      "cell_type": "code",
      "metadata": {
        "colab": {
          "base_uri": "https://localhost:8080/"
        },
        "id": "ZFOAU2KGgu99",
        "outputId": "6d11b160-de94-41a3-ec96-e9b6bc4dc200"
      },
      "source": [
        "2+(5*np.random.randn(3,3))  ### random เลขมาจาก normal distribution ที่มี mu=2, dtd=5"
      ],
      "execution_count": 11,
      "outputs": [
        {
          "output_type": "execute_result",
          "data": {
            "text/plain": [
              "array([[ 4.08378905,  2.73231161,  2.63808835],\n",
              "       [ 5.97183821, -0.242669  ,  8.02254439],\n",
              "       [ 4.62757253, -2.47517216,  5.1084418 ]])"
            ]
          },
          "metadata": {},
          "execution_count": 11
        }
      ]
    },
    {
      "cell_type": "code",
      "metadata": {
        "colab": {
          "base_uri": "https://localhost:8080/"
        },
        "id": "J_ln6ZsmhP9p",
        "outputId": "783ada18-69e1-4255-e59b-80417404531d"
      },
      "source": [
        "np.random.randint(5,11,(4,5))  ### random เลขจำนวนเต็ม ระหว่าง [5,11) ขนาด (4x5)"
      ],
      "execution_count": 12,
      "outputs": [
        {
          "output_type": "execute_result",
          "data": {
            "text/plain": [
              "array([[ 5, 10, 10,  5,  5],\n",
              "       [ 5,  6, 10,  8, 10],\n",
              "       [ 8, 10,  7,  6,  9],\n",
              "       [10, 10,  9,  6,  9]])"
            ]
          },
          "metadata": {},
          "execution_count": 12
        }
      ]
    },
    {
      "cell_type": "markdown",
      "metadata": {
        "id": "v99XPgmoQWD3"
      },
      "source": [
        "### matrix properties"
      ]
    },
    {
      "cell_type": "code",
      "metadata": {
        "colab": {
          "base_uri": "https://localhost:8080/"
        },
        "id": "B5Eh2yZCOtS4",
        "outputId": "643bd5de-4db5-464c-ec3a-57ff8526cbf6"
      },
      "source": [
        "np_a"
      ],
      "execution_count": 13,
      "outputs": [
        {
          "output_type": "execute_result",
          "data": {
            "text/plain": [
              "array([[1, 2, 3],\n",
              "       [4, 5, 6]])"
            ]
          },
          "metadata": {},
          "execution_count": 13
        }
      ]
    },
    {
      "cell_type": "code",
      "metadata": {
        "id": "Hlokbi5Whi6p",
        "colab": {
          "base_uri": "https://localhost:8080/"
        },
        "outputId": "181c7922-d7e0-4094-9494-dd023d21931f"
      },
      "source": [
        "1 + np_a   ### adding scalar to matrix (จะบวกกระจายไปทุกๆ ตัว)"
      ],
      "execution_count": 14,
      "outputs": [
        {
          "output_type": "execute_result",
          "data": {
            "text/plain": [
              "array([[2, 3, 4],\n",
              "       [5, 6, 7]])"
            ]
          },
          "metadata": {},
          "execution_count": 14
        }
      ]
    },
    {
      "cell_type": "code",
      "metadata": {
        "colab": {
          "base_uri": "https://localhost:8080/"
        },
        "id": "sOlPjkM7O7oq",
        "outputId": "f2a3ad4c-df52-4d39-f39c-94edfaee825b"
      },
      "source": [
        "2 * np_a   ### multiply scalar to matrix (จะคูณกระจายไปทุกๆ ตัว)"
      ],
      "execution_count": 15,
      "outputs": [
        {
          "output_type": "execute_result",
          "data": {
            "text/plain": [
              "array([[ 2,  4,  6],\n",
              "       [ 8, 10, 12]])"
            ]
          },
          "metadata": {},
          "execution_count": 15
        }
      ]
    },
    {
      "cell_type": "code",
      "metadata": {
        "colab": {
          "base_uri": "https://localhost:8080/"
        },
        "id": "h5732cn8PSc3",
        "outputId": "2eed6088-92c4-4634-c597-0433e61c3056"
      },
      "source": [
        "np_c = np.array([[6,5,4],[3,2,1]])\n",
        "np_c"
      ],
      "execution_count": 16,
      "outputs": [
        {
          "output_type": "execute_result",
          "data": {
            "text/plain": [
              "array([[6, 5, 4],\n",
              "       [3, 2, 1]])"
            ]
          },
          "metadata": {},
          "execution_count": 16
        }
      ]
    },
    {
      "cell_type": "code",
      "metadata": {
        "colab": {
          "base_uri": "https://localhost:8080/"
        },
        "id": "cFJrzR30Pfgq",
        "outputId": "f27d8d2c-95d1-4eaa-ff2c-e5648aa3b961"
      },
      "source": [
        "np_a + np_c    ### adding matrix to matrix"
      ],
      "execution_count": 17,
      "outputs": [
        {
          "output_type": "execute_result",
          "data": {
            "text/plain": [
              "array([[7, 7, 7],\n",
              "       [7, 7, 7]])"
            ]
          },
          "metadata": {},
          "execution_count": 17
        }
      ]
    },
    {
      "cell_type": "code",
      "metadata": {
        "colab": {
          "base_uri": "https://localhost:8080/"
        },
        "id": "OjyeB0cJPjPv",
        "outputId": "cdae66d0-e600-46a8-9bfb-b0084f6f33ab"
      },
      "source": [
        "np_a.shape"
      ],
      "execution_count": 18,
      "outputs": [
        {
          "output_type": "execute_result",
          "data": {
            "text/plain": [
              "(2, 3)"
            ]
          },
          "metadata": {},
          "execution_count": 18
        }
      ]
    },
    {
      "cell_type": "code",
      "metadata": {
        "colab": {
          "base_uri": "https://localhost:8080/"
        },
        "id": "I0uzyFETQiJ-",
        "outputId": "7e16c529-919a-45b1-e8b1-59ec1e7d68f9"
      },
      "source": [
        "np_c.shape"
      ],
      "execution_count": 19,
      "outputs": [
        {
          "output_type": "execute_result",
          "data": {
            "text/plain": [
              "(2, 3)"
            ]
          },
          "metadata": {},
          "execution_count": 19
        }
      ]
    },
    {
      "cell_type": "code",
      "metadata": {
        "colab": {
          "base_uri": "https://localhost:8080/"
        },
        "id": "tTp7rGWWQ0SW",
        "outputId": "93ca2f6b-77df-47aa-b6bd-9b3360a1cb98"
      },
      "source": [
        "np_c.T.shape"
      ],
      "execution_count": 20,
      "outputs": [
        {
          "output_type": "execute_result",
          "data": {
            "text/plain": [
              "(3, 2)"
            ]
          },
          "metadata": {},
          "execution_count": 20
        }
      ]
    },
    {
      "cell_type": "markdown",
      "metadata": {
        "id": "N7Av_L9uRnwn"
      },
      "source": [
        "![matrix multiply.png](data:image/png;base64,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)"
      ]
    },
    {
      "cell_type": "code",
      "metadata": {
        "colab": {
          "base_uri": "https://localhost:8080/"
        },
        "id": "O9lK1Br3Qk_7",
        "outputId": "5c3eeba2-48ec-41a7-84b6-b2d24dd430a8"
      },
      "source": [
        "np.dot(np_a,np_c.T)  ### multiply matrix to matrix    (a,b) x (b,c) = (a,c)"
      ],
      "execution_count": 21,
      "outputs": [
        {
          "output_type": "execute_result",
          "data": {
            "text/plain": [
              "array([[28, 10],\n",
              "       [73, 28]])"
            ]
          },
          "metadata": {},
          "execution_count": 21
        }
      ]
    },
    {
      "cell_type": "markdown",
      "metadata": {
        "id": "ssdYSImbSFVO"
      },
      "source": [
        "### Indexing & Slicing"
      ]
    },
    {
      "cell_type": "code",
      "metadata": {
        "colab": {
          "base_uri": "https://localhost:8080/"
        },
        "id": "HdDYZ7d7Qrl3",
        "outputId": "32c92bca-04a5-40e5-f1bf-dac8119bfe2d"
      },
      "source": [
        "np_a"
      ],
      "execution_count": 22,
      "outputs": [
        {
          "output_type": "execute_result",
          "data": {
            "text/plain": [
              "array([[1, 2, 3],\n",
              "       [4, 5, 6]])"
            ]
          },
          "metadata": {},
          "execution_count": 22
        }
      ]
    },
    {
      "cell_type": "code",
      "metadata": {
        "colab": {
          "base_uri": "https://localhost:8080/"
        },
        "id": "8VaxIghHSMZJ",
        "outputId": "39fc5580-6078-49ff-b38f-004ff85378b6"
      },
      "source": [
        "np_a[1,1]"
      ],
      "execution_count": 23,
      "outputs": [
        {
          "output_type": "execute_result",
          "data": {
            "text/plain": [
              "5"
            ]
          },
          "metadata": {},
          "execution_count": 23
        }
      ]
    },
    {
      "cell_type": "code",
      "metadata": {
        "colab": {
          "base_uri": "https://localhost:8080/"
        },
        "id": "xnpOS58DSPRR",
        "outputId": "44b9b805-db5c-46f7-9a22-19f98d8adb61"
      },
      "source": [
        "np_a[:2,:2]"
      ],
      "execution_count": 24,
      "outputs": [
        {
          "output_type": "execute_result",
          "data": {
            "text/plain": [
              "array([[1, 2],\n",
              "       [4, 5]])"
            ]
          },
          "metadata": {},
          "execution_count": 24
        }
      ]
    },
    {
      "cell_type": "code",
      "metadata": {
        "colab": {
          "base_uri": "https://localhost:8080/"
        },
        "id": "D5e5JTI0SVad",
        "outputId": "7ae0d47e-aaa3-4052-cdf8-9e6de8f358ce"
      },
      "source": [
        "np_a[0,:]"
      ],
      "execution_count": 25,
      "outputs": [
        {
          "output_type": "execute_result",
          "data": {
            "text/plain": [
              "array([1, 2, 3])"
            ]
          },
          "metadata": {},
          "execution_count": 25
        }
      ]
    },
    {
      "cell_type": "markdown",
      "metadata": {
        "id": "UnVYP__uSp7I"
      },
      "source": [
        "### Useful functions"
      ]
    },
    {
      "cell_type": "code",
      "metadata": {
        "colab": {
          "base_uri": "https://localhost:8080/"
        },
        "id": "lVperx21S5Tv",
        "outputId": "7693c2fd-76ad-4369-9ade-5ab6d835c41c"
      },
      "source": [
        "np_a"
      ],
      "execution_count": 26,
      "outputs": [
        {
          "output_type": "execute_result",
          "data": {
            "text/plain": [
              "array([[1, 2, 3],\n",
              "       [4, 5, 6]])"
            ]
          },
          "metadata": {},
          "execution_count": 26
        }
      ]
    },
    {
      "cell_type": "code",
      "metadata": {
        "colab": {
          "base_uri": "https://localhost:8080/"
        },
        "id": "yRUV5jf1Scvj",
        "outputId": "d1cdfcc5-d90e-41b8-b5aa-d5ae6b415354"
      },
      "source": [
        "np.sum(np_a)"
      ],
      "execution_count": 27,
      "outputs": [
        {
          "output_type": "execute_result",
          "data": {
            "text/plain": [
              "21"
            ]
          },
          "metadata": {},
          "execution_count": 27
        }
      ]
    },
    {
      "cell_type": "code",
      "metadata": {
        "colab": {
          "base_uri": "https://localhost:8080/"
        },
        "id": "EVNsFpe2S2u7",
        "outputId": "adc47eab-4a41-4c14-da95-f6d0f03b1a5e"
      },
      "source": [
        "np.sum(np_a,axis=0)    ### sum ด้านแถว(หรือ เอาค่าในแนวแกนนอนมารวมกัน)"
      ],
      "execution_count": 28,
      "outputs": [
        {
          "output_type": "execute_result",
          "data": {
            "text/plain": [
              "array([5, 7, 9])"
            ]
          },
          "metadata": {},
          "execution_count": 28
        }
      ]
    },
    {
      "cell_type": "code",
      "metadata": {
        "colab": {
          "base_uri": "https://localhost:8080/"
        },
        "id": "gsRluWlTTJJA",
        "outputId": "8428c505-6837-4997-b535-739f72f4a8fe"
      },
      "source": [
        "np.sum(np_a,axis=1)   ### sum colunm(หรือ เอาทุกค่าใน column มารวมกัน)"
      ],
      "execution_count": 29,
      "outputs": [
        {
          "output_type": "execute_result",
          "data": {
            "text/plain": [
              "array([ 6, 15])"
            ]
          },
          "metadata": {},
          "execution_count": 29
        }
      ]
    },
    {
      "cell_type": "code",
      "metadata": {
        "colab": {
          "base_uri": "https://localhost:8080/"
        },
        "id": "S6YRETiiTYjc",
        "outputId": "b20e9446-7fe2-4010-a87f-aa617ed14fb3"
      },
      "source": [
        "np.mean(np_a)"
      ],
      "execution_count": 30,
      "outputs": [
        {
          "output_type": "execute_result",
          "data": {
            "text/plain": [
              "3.5"
            ]
          },
          "metadata": {},
          "execution_count": 30
        }
      ]
    },
    {
      "cell_type": "code",
      "metadata": {
        "colab": {
          "base_uri": "https://localhost:8080/"
        },
        "id": "PNk0xUueUDYD",
        "outputId": "6edba92f-05ad-4ad7-c2ee-d440f6e1f4ae"
      },
      "source": [
        "np.mean(np_a,axis=0)    ### หา mean ของ column"
      ],
      "execution_count": 31,
      "outputs": [
        {
          "output_type": "execute_result",
          "data": {
            "text/plain": [
              "array([2.5, 3.5, 4.5])"
            ]
          },
          "metadata": {},
          "execution_count": 31
        }
      ]
    },
    {
      "cell_type": "code",
      "metadata": {
        "id": "faw9gUipUQLr"
      },
      "source": [
        ""
      ],
      "execution_count": 31,
      "outputs": []
    },
    {
      "cell_type": "markdown",
      "metadata": {
        "id": "WWrEYFzuUsA2"
      },
      "source": [
        "### วนลูปเอง"
      ]
    },
    {
      "cell_type": "markdown",
      "metadata": {
        "id": "K4VxCbJxVAzg"
      },
      "source": [
        "#### summation"
      ]
    },
    {
      "cell_type": "code",
      "metadata": {
        "colab": {
          "base_uri": "https://localhost:8080/"
        },
        "id": "pWPWltWMWu_k",
        "outputId": "b59d9b1b-556e-458b-ff04-a1f6e7f332b7"
      },
      "source": [
        "np_a.shape"
      ],
      "execution_count": 32,
      "outputs": [
        {
          "output_type": "execute_result",
          "data": {
            "text/plain": [
              "(2, 3)"
            ]
          },
          "metadata": {},
          "execution_count": 32
        }
      ]
    },
    {
      "cell_type": "code",
      "metadata": {
        "colab": {
          "base_uri": "https://localhost:8080/"
        },
        "id": "KOvh1YTWUxAH",
        "outputId": "f84d9773-bb75-4bf7-d462-cd089cab9ad6"
      },
      "source": [
        "sum_all = 0\n",
        "\n",
        "for row in range(np_a.shape[0]):\n",
        "    for col in range(np_a.shape[1]):\n",
        "        sum_all = sum_all + np_a[row,col]\n",
        "        print(f'we are at row={row},col={col} np_a[{row},{col}]={np_a[row,col]} sum_all={sum_all}')\n",
        "print(sum_all)"
      ],
      "execution_count": 33,
      "outputs": [
        {
          "output_type": "stream",
          "name": "stdout",
          "text": [
            "we are at row=0,col=0 np_a[0,0]=1 sum_all=1\n",
            "we are at row=0,col=1 np_a[0,1]=2 sum_all=3\n",
            "we are at row=0,col=2 np_a[0,2]=3 sum_all=6\n",
            "we are at row=1,col=0 np_a[1,0]=4 sum_all=10\n",
            "we are at row=1,col=1 np_a[1,1]=5 sum_all=15\n",
            "we are at row=1,col=2 np_a[1,2]=6 sum_all=21\n",
            "21\n"
          ]
        }
      ]
    },
    {
      "cell_type": "markdown",
      "metadata": {
        "id": "yrd-T6haW33B"
      },
      "source": [
        "\n",
        "\n",
        "```\n",
        "np.sum(np_a,axis=0)\n",
        "```\n",
        "\n"
      ]
    },
    {
      "cell_type": "code",
      "metadata": {
        "colab": {
          "base_uri": "https://localhost:8080/"
        },
        "id": "LzpqILmDXv68",
        "outputId": "77e90298-9c5b-4592-f66a-3fd804cd9b48"
      },
      "source": [
        "# หาผลรวมของ column แบบใช้ function .sum\n",
        "\n",
        "np.sum(np_a,axis=0)    ### sum ด้านแถว(หรือ เอาค่าในแนวแกนนอนมารวมกัน)"
      ],
      "execution_count": 34,
      "outputs": [
        {
          "output_type": "execute_result",
          "data": {
            "text/plain": [
              "array([5, 7, 9])"
            ]
          },
          "metadata": {},
          "execution_count": 34
        }
      ]
    },
    {
      "cell_type": "code",
      "metadata": {
        "colab": {
          "base_uri": "https://localhost:8080/"
        },
        "id": "OE5nGyKYWIRq",
        "outputId": "834ad25b-347c-4b18-f517-49909c2b0c6e"
      },
      "source": [
        "# หาผลรวมของ column แบบเขียนเอง\n",
        "\n",
        "sum_all = np.zeros(np_a.shape[1])\n",
        "\n",
        "for row in range(np_a.shape[0]):\n",
        "    for col in range(np_a.shape[1]):\n",
        "        sum_all[col] = sum_all[col] + np_a[row,col]\n",
        "print(sum_all)"
      ],
      "execution_count": 35,
      "outputs": [
        {
          "output_type": "stream",
          "name": "stdout",
          "text": [
            "[5. 7. 9.]\n"
          ]
        }
      ]
    },
    {
      "cell_type": "markdown",
      "metadata": {
        "id": "TTpOj2gSYkXM"
      },
      "source": [
        "#### Quiz กลุ่ม\n",
        "\n",
        "วนลูปหาค่า\n",
        "\n",
        "1. ```np.sum(np_a,axis=1)```\n",
        "2. ```np.mean(np_a)```\n",
        "3. ```np.mean(np_a,axis=0)```\n",
        "4. ``` np.mean(np_a,axis=1)```\n",
        "5. ``` np.max(np_a) ```\n",
        "6. ``` np.max(np_a,axis=0) ```\n",
        "7. ``` np.max(np_a,axis=1) ```\n",
        "8. ``` np.min(np_a) ```\n",
        "9. ``` np.min(np_a,axis=0) ```\n",
        "10. ``` np.min(np_a,axis=1) ```\n",
        "\n"
      ]
    },
    {
      "cell_type": "code",
      "metadata": {
        "colab": {
          "base_uri": "https://localhost:8080/"
        },
        "id": "IcuG550vZzSB",
        "outputId": "578d2aff-1a43-4b81-8b37-cd7d7ee06df9"
      },
      "source": [
        "np_a"
      ],
      "execution_count": 36,
      "outputs": [
        {
          "output_type": "execute_result",
          "data": {
            "text/plain": [
              "array([[1, 2, 3],\n",
              "       [4, 5, 6]])"
            ]
          },
          "metadata": {},
          "execution_count": 36
        }
      ]
    },
    {
      "cell_type": "code",
      "metadata": {
        "colab": {
          "base_uri": "https://localhost:8080/"
        },
        "id": "upBUoSuWZvbS",
        "outputId": "1ba6ea1b-40a7-44e0-c1f8-ef7d938ebd1c"
      },
      "source": [
        "np.min(np_a,axis=1)   ### หา min ของ แถว"
      ],
      "execution_count": 37,
      "outputs": [
        {
          "output_type": "execute_result",
          "data": {
            "text/plain": [
              "array([1, 4])"
            ]
          },
          "metadata": {},
          "execution_count": 37
        }
      ]
    },
    {
      "cell_type": "code",
      "metadata": {
        "id": "r6LFC-3_hrVo",
        "colab": {
          "base_uri": "https://localhost:8080/"
        },
        "outputId": "11b39ba0-76c2-4d14-9254-dbfca35757d4"
      },
      "source": [
        "np.sum(np_a,axis=1)"
      ],
      "execution_count": 38,
      "outputs": [
        {
          "output_type": "execute_result",
          "data": {
            "text/plain": [
              "array([ 6, 15])"
            ]
          },
          "metadata": {},
          "execution_count": 38
        }
      ]
    },
    {
      "cell_type": "code",
      "metadata": {
        "id": "XhJyU5OLi6Aw",
        "colab": {
          "base_uri": "https://localhost:8080/"
        },
        "outputId": "b873db98-f910-43df-c055-ee763f476a05"
      },
      "source": [
        "# 1. np.sum(np_a,axis=1)     ### เอาค่าทุก column มารวมกัน\n",
        "\n",
        "sum_all = np.zeros(np_a.shape[0])\n",
        "for row in range(np_a.shape[0]):\n",
        "    for col in range(np_a.shape[1]): \n",
        "        sum_all[row] = sum_all[row] + np_a[row,col]\n",
        "print(sum_all)"
      ],
      "execution_count": 39,
      "outputs": [
        {
          "output_type": "stream",
          "name": "stdout",
          "text": [
            "[ 6. 15.]\n"
          ]
        }
      ]
    },
    {
      "cell_type": "code",
      "metadata": {
        "id": "49qPw635frVu",
        "colab": {
          "base_uri": "https://localhost:8080/"
        },
        "outputId": "c523ba8d-fea0-4a17-9501-e0f3212cc37d"
      },
      "source": [
        "# 2. np.mean(np_a)            ### หา mean ของทั้งหมด\n",
        "\n",
        "mean_all = 0\n",
        "for row in range(np_a.shape[0]):\n",
        "    for col in range(np_a.shape[1]):\n",
        "        mean_all = mean_all + np_a[row,col]\n",
        "mean_all = mean_all/(np_a.shape[0]*np_a.shape[1])\n",
        "print(mean_all)"
      ],
      "execution_count": 40,
      "outputs": [
        {
          "output_type": "stream",
          "name": "stdout",
          "text": [
            "3.5\n"
          ]
        }
      ]
    },
    {
      "cell_type": "code",
      "metadata": {
        "id": "8kCgGz4FfUYb",
        "colab": {
          "base_uri": "https://localhost:8080/"
        },
        "outputId": "60a75cd8-0a7c-45d7-9dc4-da7c3a5d3483"
      },
      "source": [
        "# 3. np.mean(np_a,axis=0)        ### หา mean ของแต่ล่ะ column\n",
        "\n",
        "mean_all = np.zeros(np_a.shape[1])\n",
        "for row in range(np_a.shape[0]):\n",
        "     for col in range(np_a.shape[1]):\n",
        "          mean_all[col] = mean_all[col] + np_a[row,col]/np_a.shape[0]\n",
        "print(mean_all)"
      ],
      "execution_count": 41,
      "outputs": [
        {
          "output_type": "stream",
          "name": "stdout",
          "text": [
            "[2.5 3.5 4.5]\n"
          ]
        }
      ]
    },
    {
      "cell_type": "code",
      "metadata": {
        "id": "Fm76APJdfYTd",
        "colab": {
          "base_uri": "https://localhost:8080/"
        },
        "outputId": "e689d7c0-3f61-42b2-bb17-991e9d3840f4"
      },
      "source": [
        "# 4. np.mean(np_a,axis=1)         ### หา mean ของแต่ละ row\n",
        "\n",
        "sum_all = np.zeros(np_a.shape[0])\n",
        "for row in range(np_a.shape[0]):\n",
        "    for col in range(np_a.shape[1]): \n",
        "        sum_all[row] = sum_all[row] + np_a[row,col]\n",
        "sum_all = sum_all/np_a.shape[1]\n",
        "print(sum_all)"
      ],
      "execution_count": 42,
      "outputs": [
        {
          "output_type": "stream",
          "name": "stdout",
          "text": [
            "[2. 5.]\n"
          ]
        }
      ]
    },
    {
      "cell_type": "code",
      "metadata": {
        "id": "IkZPK3LYfd0p",
        "colab": {
          "base_uri": "https://localhost:8080/"
        },
        "outputId": "00c1a5ad-091c-4ac6-c521-2f76358b4916"
      },
      "source": [
        "# 5. np.max(np_a)              ### หา max จากทั้งหมด\n",
        "\n",
        "max_a = -100000000\n",
        "for row in range(np_a.shape[0]):\n",
        "    for col in range(np_a.shape[1]):\n",
        "        if np_a[row,col] > max_a :\n",
        "            max_a = np_a[row,col]\n",
        "print(max_a)"
      ],
      "execution_count": 43,
      "outputs": [
        {
          "output_type": "stream",
          "name": "stdout",
          "text": [
            "6\n"
          ]
        }
      ]
    },
    {
      "cell_type": "code",
      "metadata": {
        "id": "E-sjJNQtiglj",
        "colab": {
          "base_uri": "https://localhost:8080/"
        },
        "outputId": "88f29a5b-ef6d-4f0b-cc55-953a26d9b83c"
      },
      "source": [
        "# 6. np.max(np_a,axis=0)           ### หา max ของแต่ล่ะ column\n",
        "\n",
        "max_all = -1000000 * np.ones(np_a.shape[1])\n",
        "\n",
        "for col in range(np_a.shape[1]):\n",
        "    for row in range(np_a.shape[0]):\n",
        "        if np_a[row,col] > max_all[col]:\n",
        "            max_all[col] = np_a[row,col]\n",
        "print(max_all)"
      ],
      "execution_count": 44,
      "outputs": [
        {
          "output_type": "stream",
          "name": "stdout",
          "text": [
            "[4. 5. 6.]\n"
          ]
        }
      ]
    },
    {
      "cell_type": "code",
      "metadata": {
        "id": "wIQrRyF4lrED",
        "colab": {
          "base_uri": "https://localhost:8080/"
        },
        "outputId": "4dd7299f-0634-411a-d77b-87f56f8cc47a"
      },
      "source": [
        "# 7. np.max(np_a,axis=1)           ### หา max ของแต่ละ row\n",
        " \n",
        "max_all = np.zeros(np_a.shape[0])\n",
        "for row in range(np_a.shape[0]):\n",
        "    max_all[row] = max(np_a[row,:])\n",
        "print(max_all)"
      ],
      "execution_count": 45,
      "outputs": [
        {
          "output_type": "stream",
          "name": "stdout",
          "text": [
            "[3. 6.]\n"
          ]
        }
      ]
    },
    {
      "cell_type": "code",
      "metadata": {
        "id": "kLsrehyDfgwV",
        "colab": {
          "base_uri": "https://localhost:8080/"
        },
        "outputId": "f66ede67-8695-48f8-e46e-6945339b45c5"
      },
      "source": [
        "# 8. np.min(np_a)              ### หา min ของทั้งหมด\n",
        "\n",
        "minV = 100000\n",
        "for row in range(np_a.shape[0]):\n",
        "    for col in range(np_a.shape[1]):\n",
        "        if np_a[row,col] < minV:\n",
        "            minV = np_a[row,col]\n",
        "print(minV)"
      ],
      "execution_count": 46,
      "outputs": [
        {
          "output_type": "stream",
          "name": "stdout",
          "text": [
            "1\n"
          ]
        }
      ]
    },
    {
      "cell_type": "code",
      "metadata": {
        "id": "2135yMYUfoFB",
        "colab": {
          "base_uri": "https://localhost:8080/"
        },
        "outputId": "48d1cf6a-1c01-4861-ae23-59512afdfa85"
      },
      "source": [
        "# 9. np.max(np_a,axis=0)         ### หา min ของแต่ละ column\n",
        "\n",
        "max_all = -100000 * np.ones(np_a.shape[1])\n",
        "for col in range(np_a.shape[1]):\n",
        "    for row in range(np_a.shape[0]):\n",
        "        if np_a[row,col] > max_all[col]: \n",
        "            max_all[col] = np_a[row,col]\n",
        "print(max_all)"
      ],
      "execution_count": 47,
      "outputs": [
        {
          "output_type": "stream",
          "name": "stdout",
          "text": [
            "[4. 5. 6.]\n"
          ]
        }
      ]
    },
    {
      "cell_type": "code",
      "metadata": {
        "colab": {
          "base_uri": "https://localhost:8080/"
        },
        "id": "nPHgzSkfXhsY",
        "outputId": "be2e2e60-fc9b-40bc-8b2e-c7029fe22b13"
      },
      "source": [
        "### 10. np.min(np_a,axis=1)         ### หา min ของแต่ละ row\n",
        "\n",
        "min_row = np.zeros(np_a.shape[0])\n",
        "for row in range(np_a.shape[0]):\n",
        "   min_row[row] = min(np_a[row,:])\n",
        "print(min_row)"
      ],
      "execution_count": 48,
      "outputs": [
        {
          "output_type": "stream",
          "name": "stdout",
          "text": [
            "[1. 4.]\n"
          ]
        }
      ]
    },
    {
      "cell_type": "code",
      "metadata": {
        "id": "0j_D0x8lftde"
      },
      "source": [
        ""
      ],
      "execution_count": 48,
      "outputs": []
    },
    {
      "cell_type": "markdown",
      "metadata": {
        "id": "jd4kv129Y8AP"
      },
      "source": [
        "# Distance Matrix"
      ]
    },
    {
      "cell_type": "code",
      "metadata": {
        "colab": {
          "base_uri": "https://localhost:8080/"
        },
        "id": "0Txiou3xZBT-",
        "outputId": "f00380cd-71f6-48c7-f0e4-365685da09ea"
      },
      "source": [
        "data1 = np.array([[1,2],[3,5],[2,0],[4,5]])\n",
        "data1"
      ],
      "execution_count": 50,
      "outputs": [
        {
          "output_type": "execute_result",
          "data": {
            "text/plain": [
              "array([[1, 2],\n",
              "       [3, 5],\n",
              "       [2, 0],\n",
              "       [4, 5]])"
            ]
          },
          "metadata": {},
          "execution_count": 50
        }
      ]
    },
    {
      "cell_type": "code",
      "metadata": {
        "colab": {
          "base_uri": "https://localhost:8080/",
          "height": 282
        },
        "id": "NSibHaF8ZOjv",
        "outputId": "a72dbfe4-0e47-47d8-aa16-936dbd143a7b"
      },
      "source": [
        "from matplotlib import pyplot as plt\n",
        "plt.scatter(data1[:,0],data1[:,1])"
      ],
      "execution_count": 52,
      "outputs": [
        {
          "output_type": "execute_result",
          "data": {
            "text/plain": [
              "<matplotlib.collections.PathCollection at 0x7f1c6e174a50>"
            ]
          },
          "metadata": {},
          "execution_count": 52
        },
        {
          "output_type": "display_data",
          "data": {
            "image/png": "[encoded data removed]",
            "text/plain": [
              "<Figure size 432x288 with 1 Axes>"
            ]
          },
          "metadata": {
            "needs_background": "light"
          }
        }
      ]
    },
    {
      "cell_type": "markdown",
      "metadata": {
        "id": "GMCbNfLiacyy"
      },
      "source": [
        "### Euclidean Distance (L2-norm)\n",
        "$\\sqrt{(x_1-x_2)^2+(y_1-y_2)^2}$"
      ]
    },
    {
      "cell_type": "markdown",
      "metadata": {
        "id": "3JZYrAwReQ7G"
      },
      "source": [
        "dist(P1,P2)"
      ]
    },
    {
      "cell_type": "code",
      "metadata": {
        "colab": {
          "base_uri": "https://localhost:8080/"
        },
        "id": "qSl5ci9eZ85Y",
        "outputId": "27003fdd-6dbc-491c-e5d7-4616594d96ee"
      },
      "source": [
        "### ใช้ np.sqrt\n",
        "dist_p1_p2 = np.sqrt(np.power(data1[0,0]-data1[1,0],2) + np.power(data1[0,1]-data1[1,1],2))\n",
        "dist_p1_p2"
      ],
      "execution_count": 55,
      "outputs": [
        {
          "output_type": "execute_result",
          "data": {
            "text/plain": [
              "3.605551275463989"
            ]
          },
          "metadata": {},
          "execution_count": 55
        }
      ]
    },
    {
      "cell_type": "code",
      "metadata": {
        "colab": {
          "base_uri": "https://localhost:8080/"
        },
        "id": "J5Cf8MhGdNg_",
        "outputId": "8c71ad30-e825-4c25-ff32-76762074b53b"
      },
      "source": [
        "### ใช้ np.power (ยกกำลัง)\n",
        "dist_p1_p2 = np.power(np.power(data1[0,0]-data1[1,0],2) + np.power(data1[0,1]-data1[1,1],2),0.5)\n",
        "dist_p1_p2"
      ],
      "execution_count": 56,
      "outputs": [
        {
          "output_type": "execute_result",
          "data": {
            "text/plain": [
              "3.605551275463989"
            ]
          },
          "metadata": {},
          "execution_count": 56
        }
      ]
    },
    {
      "cell_type": "markdown",
      "metadata": {
        "id": "QKeo7VDMeqGK"
      },
      "source": [
        "dist(P2,P4)"
      ]
    },
    {
      "cell_type": "code",
      "metadata": {
        "colab": {
          "base_uri": "https://localhost:8080/"
        },
        "id": "KuAr_QkXd2Fg",
        "outputId": "e1428ece-0121-4605-d32b-0568275870f6"
      },
      "source": [
        "dist_p2_p4 = np.power(np.power(data1[1,0]-data1[3,0],2) + np.power(data1[1,1]-data1[3,1],2),0.5)\n",
        "dist_p2_p4"
      ],
      "execution_count": 58,
      "outputs": [
        {
          "output_type": "execute_result",
          "data": {
            "text/plain": [
              "1.0"
            ]
          },
          "metadata": {},
          "execution_count": 58
        }
      ]
    },
    {
      "cell_type": "markdown",
      "metadata": {
        "id": "KcX8YgNKf6sZ"
      },
      "source": [
        "#### Distance function"
      ]
    },
    {
      "cell_type": "markdown",
      "metadata": {
        "id": "Opx-yoHxh9Fy"
      },
      "source": [
        "dim = 2 (2 มิติ)"
      ]
    },
    {
      "cell_type": "code",
      "metadata": {
        "id": "AveekNzwfSdd"
      },
      "source": [
        "def dist_l2(p1,p2):\n",
        "    return np.sqrt(np.power(p1[0]-p2[0],2) + np.power(p1[1]-p2[1],2))"
      ],
      "execution_count": 64,
      "outputs": []
    },
    {
      "cell_type": "code",
      "metadata": {
        "colab": {
          "base_uri": "https://localhost:8080/"
        },
        "id": "VcSUESYLgqXC",
        "outputId": "0bcda5b5-722e-4484-a286-17c60ebeb6ae"
      },
      "source": [
        "### จุดที่ 1 กับ จดที่ 2      ### ตัดจุดที่ 1 กับ จุดที่ 2 มาจาก matrix\n",
        "dist_l2(data1[0,:],data1[1,:])"
      ],
      "execution_count": 65,
      "outputs": [
        {
          "output_type": "execute_result",
          "data": {
            "text/plain": [
              "3.605551275463989"
            ]
          },
          "metadata": {},
          "execution_count": 65
        }
      ]
    },
    {
      "cell_type": "code",
      "metadata": {
        "colab": {
          "base_uri": "https://localhost:8080/"
        },
        "id": "lf50Co74hE2Y",
        "outputId": "f4448aa0-6d56-4a5b-cf0f-8b88623fd1d6"
      },
      "source": [
        "### จุดที่ 2 กับ จดที่ 4\n",
        "dist_l2(data1[1,:],data1[3,:])"
      ],
      "execution_count": 66,
      "outputs": [
        {
          "output_type": "execute_result",
          "data": {
            "text/plain": [
              "1.0"
            ]
          },
          "metadata": {},
          "execution_count": 66
        }
      ]
    },
    {
      "cell_type": "markdown",
      "metadata": {
        "id": "Y8NRGq8kiWoQ"
      },
      "source": [
        "dim = n"
      ]
    },
    {
      "cell_type": "code",
      "metadata": {
        "id": "NuG82TlyhsQh"
      },
      "source": [
        "def dist_l2_n(p1,p2):\n",
        "    sum = 0\n",
        "    for i in range(len(p1)):\n",
        "        sum = sum + np.power(p1[i]-p2[i],2)\n",
        "    return np.sqrt(sum)"
      ],
      "execution_count": 67,
      "outputs": []
    },
    {
      "cell_type": "code",
      "metadata": {
        "colab": {
          "base_uri": "https://localhost:8080/"
        },
        "id": "FM4G8Djij4Dd",
        "outputId": "2f0e6e89-d48e-4d42-fdd5-c19d46dc93f3"
      },
      "source": [
        "dist_l2_n(data1[0,:],data1[1,:])"
      ],
      "execution_count": 68,
      "outputs": [
        {
          "output_type": "execute_result",
          "data": {
            "text/plain": [
              "3.605551275463989"
            ]
          },
          "metadata": {},
          "execution_count": 68
        }
      ]
    },
    {
      "cell_type": "markdown",
      "metadata": {
        "id": "kkZ6tQ7GkPkA"
      },
      "source": [
        "### Manhattan Distance (L1-norm)\n"
      ]
    },
    {
      "cell_type": "code",
      "metadata": {
        "colab": {
          "base_uri": "https://localhost:8080/"
        },
        "id": "e3YJEKSrk-Ua",
        "outputId": "6c8f4652-9d83-4ec6-bc1b-2ac68a952d5c"
      },
      "source": [
        "data1"
      ],
      "execution_count": 69,
      "outputs": [
        {
          "output_type": "execute_result",
          "data": {
            "text/plain": [
              "array([[1, 2],\n",
              "       [3, 5],\n",
              "       [2, 0],\n",
              "       [4, 5]])"
            ]
          },
          "metadata": {},
          "execution_count": 69
        }
      ]
    },
    {
      "cell_type": "code",
      "metadata": {
        "colab": {
          "base_uri": "https://localhost:8080/",
          "height": 282
        },
        "id": "NBo0T8NYlEPH",
        "outputId": "03da22a6-fd68-445c-ff58-b157cd86c8aa"
      },
      "source": [
        "from matplotlib import pyplot as plt\n",
        "plt.scatter(data1[:,0],data1[:,1])"
      ],
      "execution_count": 70,
      "outputs": [
        {
          "output_type": "execute_result",
          "data": {
            "text/plain": [
              "<matplotlib.collections.PathCollection at 0x7f1c6e14c6d0>"
            ]
          },
          "metadata": {},
          "execution_count": 70
        },
        {
          "output_type": "display_data",
          "data": {
            "image/png": "[encoded data removed]",
            "text/plain": [
              "<Figure size 432x288 with 1 Axes>"
            ]
          },
          "metadata": {
            "needs_background": "light"
          }
        }
      ]
    },
    {
      "cell_type": "code",
      "metadata": {
        "id": "HRSjei2GlkhK"
      },
      "source": [
        ""
      ],
      "execution_count": null,
      "outputs": []
    },
    {
      "cell_type": "code",
      "metadata": {
        "id": "sdghR4WFkMV6"
      },
      "source": [
        "def dist_l1(p1,p2):\n",
        "    return np.abs(p1[0] - p2[0]) + np.abs(p1[1] - p2[1])"
      ],
      "execution_count": 73,
      "outputs": []
    },
    {
      "cell_type": "code",
      "metadata": {
        "colab": {
          "base_uri": "https://localhost:8080/"
        },
        "id": "DB3RIeNSmYW8",
        "outputId": "b029040d-bfc5-4c51-f6d4-fdbff2e251ad"
      },
      "source": [
        "dist_l1(data1[0,:],data1[1,:])"
      ],
      "execution_count": 74,
      "outputs": [
        {
          "output_type": "execute_result",
          "data": {
            "text/plain": [
              "5"
            ]
          },
          "metadata": {},
          "execution_count": 74
        }
      ]
    },
    {
      "cell_type": "code",
      "metadata": {
        "id": "Hqwjm3BcmizE"
      },
      "source": [
        "def dist_l1_n(p1,p2):\n",
        "    sum = 0\n",
        "    for i in range(len(p1)):\n",
        "        sum = sum + np.abs(p1[i]-p2[i])\n",
        "    return sum"
      ],
      "execution_count": 76,
      "outputs": []
    },
    {
      "cell_type": "code",
      "metadata": {
        "id": "oS9xQkSbpOF6",
        "outputId": "a3bb0114-f028-4b6c-fa0a-048a693429a3",
        "colab": {
          "base_uri": "https://localhost:8080/"
        }
      },
      "source": [
        "dist_l1_n(data1[0,:],data1[1,:])"
      ],
      "execution_count": 77,
      "outputs": [
        {
          "output_type": "execute_result",
          "data": {
            "text/plain": [
              "5"
            ]
          },
          "metadata": {},
          "execution_count": 77
        }
      ]
    },
    {
      "cell_type": "code",
      "metadata": {
        "id": "anLzP79Opbzi",
        "outputId": "e058bacd-cbd7-475a-c0d2-c3da05ae4ec8",
        "colab": {
          "base_uri": "https://localhost:8080/"
        }
      },
      "source": [
        "dist_l1_n(data1[2,:],data1[3,:])"
      ],
      "execution_count": 78,
      "outputs": [
        {
          "output_type": "execute_result",
          "data": {
            "text/plain": [
              "7"
            ]
          },
          "metadata": {},
          "execution_count": 78
        }
      ]
    },
    {
      "cell_type": "code",
      "metadata": {
        "id": "-u-BnAYOprVZ"
      },
      "source": [
        ""
      ],
      "execution_count": null,
      "outputs": []
    }
  ]
}