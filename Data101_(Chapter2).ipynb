{
  "nbformat": 4,
  "nbformat_minor": 0,
  "metadata": {
    "colab": {
      "name": "Data101 (Chapter2).ipynb",
      "provenance": [],
      "toc_visible": true,
      "authorship_tag": "ABX9TyOA8u0r/IUlhG5MvlVHMjV7",
      "include_colab_link": true
    },
    "kernelspec": {
      "name": "python3",
      "display_name": "Python 3"
    },
    "language_info": {
      "name": "python"
    }
  },
  "cells": [
    {
      "cell_type": "markdown",
      "metadata": {
        "id": "view-in-github",
        "colab_type": "text"
      },
      "source": [
        "<a href=\"https://colab.research.google.com/github/jittakorn-ch/DWDM21/blob/main/Data101_(Chapter2).ipynb\" target=\"_parent\"><img src=\"https://colab.research.google.com/assets/colab-badge.svg\" alt=\"Open In Colab\"/></a>"
      ]
    },
    {
      "cell_type": "code",
      "metadata": {
        "id": "7c4D3rfWr30z"
      },
      "source": [
        "import pandas             ### วิธีเรียกใช้ package คือ import ตามด้วยชื่อ package"
      ],
      "execution_count": null,
      "outputs": []
    },
    {
      "cell_type": "code",
      "metadata": {
        "id": "Y3xfVGZGtHR1"
      },
      "source": [
        "import pandas as pd      ### เหมือนกันกับข้างบนแต่ว่า ตั้งชื่อให้ package pandas ใหม่ว่า pd เพื่อง่ายต่อการใช้งาน"
      ],
      "execution_count": null,
      "outputs": []
    },
    {
      "cell_type": "markdown",
      "metadata": {
        "id": "UGdoWBmgvJOn"
      },
      "source": [
        "ไฟล์ .csv (CSV = comma separated values) เป็นไฟล์หลักที่จะใช้ในวิชานี้"
      ]
    },
    {
      "cell_type": "code",
      "metadata": {
        "id": "d9dbqI8Nu-mf"
      },
      "source": [
        "data_df = pd.read_csv('data.csv')"
      ],
      "execution_count": null,
      "outputs": []
    },
    {
      "cell_type": "code",
      "metadata": {
        "colab": {
          "base_uri": "https://localhost:8080/",
          "height": 142
        },
        "id": "_B1GYUe7xQSE",
        "outputId": "5b61fe4b-5c8f-4664-dc03-2d1961a56513"
      },
      "source": [
        "data_df"
      ],
      "execution_count": null,
      "outputs": [
        {
          "output_type": "execute_result",
          "data": {
            "text/html": [
              "<div>\n",
              "<style scoped>\n",
              "    .dataframe tbody tr th:only-of-type {\n",
              "        vertical-align: middle;\n",
              "    }\n",
              "\n",
              "    .dataframe tbody tr th {\n",
              "        vertical-align: top;\n",
              "    }\n",
              "\n",
              "    .dataframe thead th {\n",
              "        text-align: right;\n",
              "    }\n",
              "</style>\n",
              "<table border=\"1\" class=\"dataframe\">\n",
              "  <thead>\n",
              "    <tr style=\"text-align: right;\">\n",
              "      <th></th>\n",
              "      <th>name</th>\n",
              "      <th>age</th>\n",
              "      <th>city</th>\n",
              "    </tr>\n",
              "  </thead>\n",
              "  <tbody>\n",
              "    <tr>\n",
              "      <th>0</th>\n",
              "      <td>Tom</td>\n",
              "      <td>27</td>\n",
              "      <td>Khon Kean</td>\n",
              "    </tr>\n",
              "    <tr>\n",
              "      <th>1</th>\n",
              "      <td>Paul</td>\n",
              "      <td>15</td>\n",
              "      <td>Bangkok</td>\n",
              "    </tr>\n",
              "    <tr>\n",
              "      <th>2</th>\n",
              "      <td>Sarah</td>\n",
              "      <td>49</td>\n",
              "      <td>London</td>\n",
              "    </tr>\n",
              "  </tbody>\n",
              "</table>\n",
              "</div>"
            ],
            "text/plain": [
              "    name  age       city\n",
              "0    Tom   27  Khon Kean\n",
              "1   Paul   15    Bangkok\n",
              "2  Sarah   49     London"
            ]
          },
          "metadata": {
            "tags": []
          },
          "execution_count": 4
        }
      ]
    },
    {
      "cell_type": "code",
      "metadata": {
        "colab": {
          "base_uri": "https://localhost:8080/",
          "height": 142
        },
        "id": "7Op__VtqxRz7",
        "outputId": "d0cf546c-ccb5-4a7a-9274-0bab94f04120"
      },
      "source": [
        "data_df2 = pandas.read_csv('data.csv')\n",
        "data_df2"
      ],
      "execution_count": null,
      "outputs": [
        {
          "output_type": "execute_result",
          "data": {
            "text/html": [
              "<div>\n",
              "<style scoped>\n",
              "    .dataframe tbody tr th:only-of-type {\n",
              "        vertical-align: middle;\n",
              "    }\n",
              "\n",
              "    .dataframe tbody tr th {\n",
              "        vertical-align: top;\n",
              "    }\n",
              "\n",
              "    .dataframe thead th {\n",
              "        text-align: right;\n",
              "    }\n",
              "</style>\n",
              "<table border=\"1\" class=\"dataframe\">\n",
              "  <thead>\n",
              "    <tr style=\"text-align: right;\">\n",
              "      <th></th>\n",
              "      <th>name</th>\n",
              "      <th>age</th>\n",
              "      <th>city</th>\n",
              "    </tr>\n",
              "  </thead>\n",
              "  <tbody>\n",
              "    <tr>\n",
              "      <th>0</th>\n",
              "      <td>Tom</td>\n",
              "      <td>27</td>\n",
              "      <td>Khon Kean</td>\n",
              "    </tr>\n",
              "    <tr>\n",
              "      <th>1</th>\n",
              "      <td>Paul</td>\n",
              "      <td>15</td>\n",
              "      <td>Bangkok</td>\n",
              "    </tr>\n",
              "    <tr>\n",
              "      <th>2</th>\n",
              "      <td>Sarah</td>\n",
              "      <td>49</td>\n",
              "      <td>London</td>\n",
              "    </tr>\n",
              "  </tbody>\n",
              "</table>\n",
              "</div>"
            ],
            "text/plain": [
              "    name  age       city\n",
              "0    Tom   27  Khon Kean\n",
              "1   Paul   15    Bangkok\n",
              "2  Sarah   49     London"
            ]
          },
          "metadata": {
            "tags": []
          },
          "execution_count": 5
        }
      ]
    },
    {
      "cell_type": "markdown",
      "metadata": {
        "id": "TCDcV6JEzzqr"
      },
      "source": [
        "# Basic Python"
      ]
    },
    {
      "cell_type": "markdown",
      "metadata": {
        "id": "19aGqgpJ0L9U"
      },
      "source": [
        "## variables"
      ]
    },
    {
      "cell_type": "markdown",
      "metadata": {
        "id": "XKVDZPHa1ugy"
      },
      "source": [
        "ข้อกำหนดในการตั้งชื่อตัวแปร\n",
        "\n",
        "1. ห้ามมีเว้นวรรค\n",
        "2. ใช้ภาษาอังกฤษ\n",
        "3. ตัวเล็กตัวใหญ่แตกต่างกัน (case sensitive)\n",
        "4. ห้ามใช้ตัวเลขเป็นตัวหน้า\n"
      ]
    },
    {
      "cell_type": "code",
      "metadata": {
        "id": "hgYp1D-LyUSd"
      },
      "source": [
        "variable_a = 12\n",
        "variable_b = 'abcde'       ###  ' เรียกว่า quote\n",
        "variable_c = variable_a"
      ],
      "execution_count": null,
      "outputs": []
    },
    {
      "cell_type": "code",
      "metadata": {
        "colab": {
          "base_uri": "https://localhost:8080/"
        },
        "id": "5JXVCToe1HXT",
        "outputId": "6f8b845c-7449-4d7b-f264-c4380b1a9d8a"
      },
      "source": [
        "variable_a"
      ],
      "execution_count": null,
      "outputs": [
        {
          "output_type": "execute_result",
          "data": {
            "text/plain": [
              "12"
            ]
          },
          "metadata": {
            "tags": []
          },
          "execution_count": 7
        }
      ]
    },
    {
      "cell_type": "code",
      "metadata": {
        "colab": {
          "base_uri": "https://localhost:8080/",
          "height": 35
        },
        "id": "nI1hVPrr1KZ0",
        "outputId": "ad5f8104-e804-4a35-f890-2da65992f65e"
      },
      "source": [
        "variable_b"
      ],
      "execution_count": null,
      "outputs": [
        {
          "output_type": "execute_result",
          "data": {
            "application/vnd.google.colaboratory.intrinsic+json": {
              "type": "string"
            },
            "text/plain": [
              "'abcde'"
            ]
          },
          "metadata": {
            "tags": []
          },
          "execution_count": 8
        }
      ]
    },
    {
      "cell_type": "code",
      "metadata": {
        "colab": {
          "base_uri": "https://localhost:8080/"
        },
        "id": "ZCeGZao01N2F",
        "outputId": "0b902927-13a8-4178-d188-916b2bbe2ec2"
      },
      "source": [
        "variable_c"
      ],
      "execution_count": null,
      "outputs": [
        {
          "output_type": "execute_result",
          "data": {
            "text/plain": [
              "12"
            ]
          },
          "metadata": {
            "tags": []
          },
          "execution_count": 9
        }
      ]
    },
    {
      "cell_type": "code",
      "metadata": {
        "id": "P8N4MgvpwtV5",
        "colab": {
          "base_uri": "https://localhost:8080/"
        },
        "outputId": "0381435e-b2d3-41ba-95a6-c4848f40dc32"
      },
      "source": [
        "# ตัวเล็กกับตัวใหญ่ แตกต่างกัน (case sensitive)\n",
        "v_a = 1\n",
        "V_a = 2\n",
        "print(v_a)\n",
        "print(V_a)"
      ],
      "execution_count": null,
      "outputs": [
        {
          "output_type": "stream",
          "text": [
            "1\n",
            "2\n"
          ],
          "name": "stdout"
        }
      ]
    },
    {
      "cell_type": "code",
      "metadata": {
        "id": "-wLFGicAw533",
        "colab": {
          "base_uri": "https://localhost:8080/"
        },
        "outputId": "0a33b68a-f193-40cc-b4c6-4b20225374fd"
      },
      "source": [
        "# ตัวเล็กกับตัวใหญ่ แตกต่างกัน (case sensitive)\n",
        "v_a = 1\n",
        "v_a = 2\n",
        "print(v_a)\n",
        "print(v_a)"
      ],
      "execution_count": null,
      "outputs": [
        {
          "output_type": "stream",
          "text": [
            "2\n",
            "2\n"
          ],
          "name": "stdout"
        }
      ]
    },
    {
      "cell_type": "code",
      "metadata": {
        "id": "QlCYUsbM1Qc4"
      },
      "source": [
        "# ห้ามใช้ตัวเลขเป็นตัวหน้า\n",
        "variable1 = 1"
      ],
      "execution_count": null,
      "outputs": []
    },
    {
      "cell_type": "code",
      "metadata": {
        "colab": {
          "base_uri": "https://localhost:8080/"
        },
        "id": "rvQWV1-L4CYF",
        "outputId": "2d6941fe-b03f-40dc-cd7d-b40ddbda95aa"
      },
      "source": [
        "print(variable1)"
      ],
      "execution_count": null,
      "outputs": [
        {
          "output_type": "stream",
          "text": [
            "1\n"
          ],
          "name": "stdout"
        }
      ]
    },
    {
      "cell_type": "code",
      "metadata": {
        "id": "ryb40k_L4F9a"
      },
      "source": [
        "variable_a = 12\n",
        "variable_b = 'abcde'      ###  ' เรียกว่า quote\n",
        "variable_c = variable_a\n",
        "variable_d = -41.2\n",
        "variable_4 = \"KKU\"        ###  \" เรียกว่า double quote"
      ],
      "execution_count": null,
      "outputs": []
    },
    {
      "cell_type": "code",
      "metadata": {
        "colab": {
          "base_uri": "https://localhost:8080/"
        },
        "id": "ywEB57u044ET",
        "outputId": "fc855ec8-b3af-41b5-ff05-24645b7a4d48"
      },
      "source": [
        "variable_x = variable_c + variable_d\n",
        "print(variable_x)"
      ],
      "execution_count": null,
      "outputs": [
        {
          "output_type": "stream",
          "text": [
            "-29.200000000000003\n"
          ],
          "name": "stdout"
        }
      ]
    },
    {
      "cell_type": "code",
      "metadata": {
        "colab": {
          "base_uri": "https://localhost:8080/"
        },
        "id": "cMyzM8yc5Adq",
        "outputId": "bbfb8105-a6b6-43d2-8ddc-3acba9126a4b"
      },
      "source": [
        "print(variable_b + variable_4)"
      ],
      "execution_count": null,
      "outputs": [
        {
          "output_type": "stream",
          "text": [
            "abcdeKKU\n"
          ],
          "name": "stdout"
        }
      ]
    },
    {
      "cell_type": "markdown",
      "metadata": {
        "id": "_RWhAp0t7F1e"
      },
      "source": [
        "## Casting \n",
        "\n",
        "int() float() str()"
      ]
    },
    {
      "cell_type": "code",
      "metadata": {
        "colab": {
          "base_uri": "https://localhost:8080/"
        },
        "id": "jYnbXHLd6lBO",
        "outputId": "014d861c-cafb-41a5-e5e9-9cdbd8993158"
      },
      "source": [
        "print(variable_x)\n",
        "print(int(variable_x))"
      ],
      "execution_count": null,
      "outputs": [
        {
          "output_type": "stream",
          "text": [
            "-29.200000000000003\n",
            "-29\n"
          ],
          "name": "stdout"
        }
      ]
    },
    {
      "cell_type": "code",
      "metadata": {
        "colab": {
          "base_uri": "https://localhost:8080/"
        },
        "id": "Nrqh5UZ-7iOy",
        "outputId": "5b3ff222-34f6-4474-83bd-f561f3751699"
      },
      "source": [
        "V_X = str(variable_x)\n",
        "print(V_X)"
      ],
      "execution_count": null,
      "outputs": [
        {
          "output_type": "stream",
          "text": [
            "-29.200000000000003\n"
          ],
          "name": "stdout"
        }
      ]
    },
    {
      "cell_type": "code",
      "metadata": {
        "colab": {
          "base_uri": "https://localhost:8080/",
          "height": 35
        },
        "id": "pOOT4lRi714f",
        "outputId": "910e2831-e03a-41ef-ba29-5cdad2d3b11b"
      },
      "source": [
        "V_X         ### แสดงค่าที่เก็บใน memory"
      ],
      "execution_count": null,
      "outputs": [
        {
          "output_type": "execute_result",
          "data": {
            "application/vnd.google.colaboratory.intrinsic+json": {
              "type": "string"
            },
            "text/plain": [
              "'-29.200000000000003'"
            ]
          },
          "metadata": {
            "tags": []
          },
          "execution_count": 19
        }
      ]
    },
    {
      "cell_type": "code",
      "metadata": {
        "colab": {
          "base_uri": "https://localhost:8080/"
        },
        "id": "2dLK1VI88XsC",
        "outputId": "9d556889-2211-4430-a2a6-972840b0595d"
      },
      "source": [
        "float(V_X)          ###  เปลี่ยน str เป็น float"
      ],
      "execution_count": null,
      "outputs": [
        {
          "output_type": "execute_result",
          "data": {
            "text/plain": [
              "-29.200000000000003"
            ]
          },
          "metadata": {
            "tags": []
          },
          "execution_count": 20
        }
      ]
    },
    {
      "cell_type": "markdown",
      "metadata": {
        "id": "4egzaqVH9HAJ"
      },
      "source": [
        "## Data Structure\n",
        "### list()"
      ]
    },
    {
      "cell_type": "code",
      "metadata": {
        "id": "FodCb8Jw8n8n"
      },
      "source": [
        "list_a = [1,2,0.2,'abs']            ### [] square brackets\n",
        "list_b = [2,'xyz',list_a,[1,2,0.0]]"
      ],
      "execution_count": null,
      "outputs": []
    },
    {
      "cell_type": "code",
      "metadata": {
        "colab": {
          "base_uri": "https://localhost:8080/"
        },
        "id": "smwfmtgo9_lt",
        "outputId": "5b2ae964-97dd-44cb-ec60-b74951cd6be4"
      },
      "source": [
        "list_a"
      ],
      "execution_count": null,
      "outputs": [
        {
          "output_type": "execute_result",
          "data": {
            "text/plain": [
              "[1, 2, 0.2, 'abs']"
            ]
          },
          "metadata": {
            "tags": []
          },
          "execution_count": 22
        }
      ]
    },
    {
      "cell_type": "code",
      "metadata": {
        "colab": {
          "base_uri": "https://localhost:8080/"
        },
        "id": "fyO93Uj--CIO",
        "outputId": "74375844-d1ef-4a74-f79e-9be7b2ca48e7"
      },
      "source": [
        "list_b"
      ],
      "execution_count": null,
      "outputs": [
        {
          "output_type": "execute_result",
          "data": {
            "text/plain": [
              "[2, 'xyz', [1, 2, 0.2, 'abs'], [1, 2, 0.0]]"
            ]
          },
          "metadata": {
            "tags": []
          },
          "execution_count": 23
        }
      ]
    },
    {
      "cell_type": "code",
      "metadata": {
        "colab": {
          "base_uri": "https://localhost:8080/"
        },
        "id": "ypAV9ORe-EFz",
        "outputId": "a87fb7aa-f0e5-4c09-e7ce-11204b25f049"
      },
      "source": [
        "len(list_b)                 ### len บอกจำนวนใน list"
      ],
      "execution_count": null,
      "outputs": [
        {
          "output_type": "execute_result",
          "data": {
            "text/plain": [
              "4"
            ]
          },
          "metadata": {
            "tags": []
          },
          "execution_count": 24
        }
      ]
    },
    {
      "cell_type": "code",
      "metadata": {
        "colab": {
          "base_uri": "https://localhost:8080/"
        },
        "id": "wnbQPwtj-NZN",
        "outputId": "4f29b868-1f03-4ad9-a909-3ca08dbd6c4a"
      },
      "source": [
        "list_b[3]               ### ชี้ตัวที่ 3 ของ list_b"
      ],
      "execution_count": null,
      "outputs": [
        {
          "output_type": "execute_result",
          "data": {
            "text/plain": [
              "[1, 2, 0.0]"
            ]
          },
          "metadata": {
            "tags": []
          },
          "execution_count": 25
        }
      ]
    },
    {
      "cell_type": "code",
      "metadata": {
        "colab": {
          "base_uri": "https://localhost:8080/"
        },
        "id": "VtyJy8sZ-gwc",
        "outputId": "2a294d5e-d4a4-4e32-dc96-dd33ac014744"
      },
      "source": [
        "list_b[3][1]             ### ชี้ตัวที่ 3 ของ list_b ในตัวที่ 3 ชี้ตัวที่ 1"
      ],
      "execution_count": null,
      "outputs": [
        {
          "output_type": "execute_result",
          "data": {
            "text/plain": [
              "2"
            ]
          },
          "metadata": {
            "tags": []
          },
          "execution_count": 26
        }
      ]
    },
    {
      "cell_type": "markdown",
      "metadata": {
        "id": "KDXH0D-u_gtI"
      },
      "source": [
        "**string คือ list ของ ตัวหนังสือ**"
      ]
    },
    {
      "cell_type": "code",
      "metadata": {
        "id": "Tizm_jFc_n4B"
      },
      "source": [
        "a = 'Stat KKU'"
      ],
      "execution_count": null,
      "outputs": []
    },
    {
      "cell_type": "code",
      "metadata": {
        "colab": {
          "base_uri": "https://localhost:8080/",
          "height": 35
        },
        "id": "972YA1R9_34P",
        "outputId": "aaccb4b7-41c8-418e-dd73-975e77d32e4a"
      },
      "source": [
        "a[4]"
      ],
      "execution_count": null,
      "outputs": [
        {
          "output_type": "execute_result",
          "data": {
            "application/vnd.google.colaboratory.intrinsic+json": {
              "type": "string"
            },
            "text/plain": [
              "' '"
            ]
          },
          "metadata": {
            "tags": []
          },
          "execution_count": 28
        }
      ]
    },
    {
      "cell_type": "markdown",
      "metadata": {
        "id": "mM9og9KA_7Z8"
      },
      "source": [
        "### วิธีสร้าง list ว่าง"
      ]
    },
    {
      "cell_type": "code",
      "metadata": {
        "id": "LPvGjaG8_6H-"
      },
      "source": [
        "###  สร้าง list ว่าง\n",
        "list_c = list()         ###    แบบที่ 1\n",
        "list_d = []         ###    แบบที่ 2"
      ],
      "execution_count": null,
      "outputs": []
    },
    {
      "cell_type": "code",
      "metadata": {
        "colab": {
          "base_uri": "https://localhost:8080/"
        },
        "id": "8boqR84PAp_K",
        "outputId": "da619a32-f4bd-488b-92d5-eaeac410648c"
      },
      "source": [
        "list_c"
      ],
      "execution_count": null,
      "outputs": [
        {
          "output_type": "execute_result",
          "data": {
            "text/plain": [
              "[]"
            ]
          },
          "metadata": {
            "tags": []
          },
          "execution_count": 30
        }
      ]
    },
    {
      "cell_type": "code",
      "metadata": {
        "colab": {
          "base_uri": "https://localhost:8080/"
        },
        "id": "Rkxf5a05AsbB",
        "outputId": "043a24ff-a733-4086-d359-3ffd2383c922"
      },
      "source": [
        "list_d"
      ],
      "execution_count": null,
      "outputs": [
        {
          "output_type": "execute_result",
          "data": {
            "text/plain": [
              "[]"
            ]
          },
          "metadata": {
            "tags": []
          },
          "execution_count": 31
        }
      ]
    },
    {
      "cell_type": "markdown",
      "metadata": {
        "id": "rcbGuO9bAxD5"
      },
      "source": [
        "### เติมค่าลงไปใน list (.append())"
      ]
    },
    {
      "cell_type": "code",
      "metadata": {
        "id": "WbbQk0NXBJRJ"
      },
      "source": [
        "list_d.append('a')"
      ],
      "execution_count": null,
      "outputs": []
    },
    {
      "cell_type": "code",
      "metadata": {
        "id": "TisKjhfmx8-g",
        "colab": {
          "base_uri": "https://localhost:8080/"
        },
        "outputId": "d2add26d-68e9-4f06-f681-f7ad7bf29345"
      },
      "source": [
        "list_d"
      ],
      "execution_count": null,
      "outputs": [
        {
          "output_type": "execute_result",
          "data": {
            "text/plain": [
              "['a']"
            ]
          },
          "metadata": {
            "tags": []
          },
          "execution_count": 33
        }
      ]
    },
    {
      "cell_type": "code",
      "metadata": {
        "id": "QGC-On_9yHeS"
      },
      "source": [
        "list_d.append(56)"
      ],
      "execution_count": null,
      "outputs": []
    },
    {
      "cell_type": "code",
      "metadata": {
        "id": "rpmpn672yN9m",
        "colab": {
          "base_uri": "https://localhost:8080/"
        },
        "outputId": "9b5423ee-d835-4dc0-a9e2-d2e647833372"
      },
      "source": [
        "list_d"
      ],
      "execution_count": null,
      "outputs": [
        {
          "output_type": "execute_result",
          "data": {
            "text/plain": [
              "['a', 56]"
            ]
          },
          "metadata": {
            "tags": []
          },
          "execution_count": 35
        }
      ]
    },
    {
      "cell_type": "markdown",
      "metadata": {
        "id": "Tk5G42HTyTol"
      },
      "source": [
        "### การชี้ค่าใน list (indexing)\n",
        "1. ใช้ลำดับในการชี้\n",
        "2. ลำดับเริ่มจาก 0\n",
        "3. สามารถชี้จากข้างหลังได้โดยใช้ negative index"
      ]
    },
    {
      "cell_type": "code",
      "metadata": {
        "colab": {
          "base_uri": "https://localhost:8080/"
        },
        "id": "bquZYVwlBLof",
        "outputId": "4fa788e5-3529-455e-dd3f-771becbd71d1"
      },
      "source": [
        "list_b"
      ],
      "execution_count": null,
      "outputs": [
        {
          "output_type": "execute_result",
          "data": {
            "text/plain": [
              "[2, 'xyz', [1, 2, 0.2, 'abs'], [1, 2, 0.0]]"
            ]
          },
          "metadata": {
            "tags": []
          },
          "execution_count": 36
        }
      ]
    },
    {
      "cell_type": "code",
      "metadata": {
        "colab": {
          "base_uri": "https://localhost:8080/"
        },
        "id": "mrVH-iM0CIXG",
        "outputId": "1a46173e-ec74-43f9-9315-4d99c3eef415"
      },
      "source": [
        "list_b[-1]"
      ],
      "execution_count": null,
      "outputs": [
        {
          "output_type": "execute_result",
          "data": {
            "text/plain": [
              "[1, 2, 0.0]"
            ]
          },
          "metadata": {
            "tags": []
          },
          "execution_count": 37
        }
      ]
    },
    {
      "cell_type": "markdown",
      "metadata": {
        "id": "wY4GPps_CM_-"
      },
      "source": [
        "### list slicing"
      ]
    },
    {
      "cell_type": "code",
      "metadata": {
        "id": "UfywmqntCLee"
      },
      "source": [
        "list_ex = [1,2,3,5,6,8,-1,20,50,0]"
      ],
      "execution_count": null,
      "outputs": []
    },
    {
      "cell_type": "code",
      "metadata": {
        "colab": {
          "base_uri": "https://localhost:8080/"
        },
        "id": "TOUn_VOyCf_p",
        "outputId": "dc6af808-1f53-4510-910e-b399e0cc459f"
      },
      "source": [
        "list_ex[1:6]               ### จะตัด list โดยเอาตั้งแต่ [ตัวหน้า:ก่อนตัวหลัง]\n",
        "                           ### สัญลักษณ์ทางคณิตศาสตร์ [ตังหน้า,ตัวหลัง)"
      ],
      "execution_count": null,
      "outputs": [
        {
          "output_type": "execute_result",
          "data": {
            "text/plain": [
              "[2, 3, 5, 6, 8]"
            ]
          },
          "metadata": {
            "tags": []
          },
          "execution_count": 39
        }
      ]
    },
    {
      "cell_type": "code",
      "metadata": {
        "colab": {
          "base_uri": "https://localhost:8080/"
        },
        "id": "7SQ8WcDpCk_l",
        "outputId": "91313721-b220-44a9-9d41-9a1f50b8145e"
      },
      "source": [
        "list_ex[4:]"
      ],
      "execution_count": null,
      "outputs": [
        {
          "output_type": "execute_result",
          "data": {
            "text/plain": [
              "[6, 8, -1, 20, 50, 0]"
            ]
          },
          "metadata": {
            "tags": []
          },
          "execution_count": 40
        }
      ]
    },
    {
      "cell_type": "code",
      "metadata": {
        "colab": {
          "base_uri": "https://localhost:8080/"
        },
        "id": "cHK0fkslDut4",
        "outputId": "5236999c-efe7-4fe9-ee14-be758682a415"
      },
      "source": [
        "list_ex[:6]"
      ],
      "execution_count": null,
      "outputs": [
        {
          "output_type": "execute_result",
          "data": {
            "text/plain": [
              "[1, 2, 3, 5, 6, 8]"
            ]
          },
          "metadata": {
            "tags": []
          },
          "execution_count": 41
        }
      ]
    },
    {
      "cell_type": "code",
      "metadata": {
        "colab": {
          "base_uri": "https://localhost:8080/"
        },
        "id": "r75V608qD0aZ",
        "outputId": "30524154-84b6-4bb2-fe79-38ab3f0b37ae"
      },
      "source": [
        "list_ex[::2]               ###  [จุดเริ่มต้น:จุดสุดท้าย:step]\n",
        "                          ### step คือ นับกระโดด"
      ],
      "execution_count": null,
      "outputs": [
        {
          "output_type": "execute_result",
          "data": {
            "text/plain": [
              "[1, 3, 6, -1, 50]"
            ]
          },
          "metadata": {
            "tags": []
          },
          "execution_count": 42
        }
      ]
    },
    {
      "cell_type": "code",
      "metadata": {
        "colab": {
          "base_uri": "https://localhost:8080/"
        },
        "id": "O7gj_WXXEDq2",
        "outputId": "b098bf0e-2d92-46f3-d852-e2d849c27857"
      },
      "source": [
        "list_ex[::-1]              ### การกลับ list"
      ],
      "execution_count": null,
      "outputs": [
        {
          "output_type": "execute_result",
          "data": {
            "text/plain": [
              "[0, 50, 20, -1, 8, 6, 5, 3, 2, 1]"
            ]
          },
          "metadata": {
            "tags": []
          },
          "execution_count": 43
        }
      ]
    },
    {
      "cell_type": "markdown",
      "metadata": {
        "id": "ewP2cVk_GpO0"
      },
      "source": [
        "**string คือ list ของตัวหนังสือ**"
      ]
    },
    {
      "cell_type": "code",
      "metadata": {
        "colab": {
          "base_uri": "https://localhost:8080/",
          "height": 35
        },
        "id": "XnPW-CWAEvKj",
        "outputId": "a90f1948-41ca-4eeb-d8da-60fb6528a380"
      },
      "source": [
        "a            "
      ],
      "execution_count": null,
      "outputs": [
        {
          "output_type": "execute_result",
          "data": {
            "application/vnd.google.colaboratory.intrinsic+json": {
              "type": "string"
            },
            "text/plain": [
              "'Stat KKU'"
            ]
          },
          "metadata": {
            "tags": []
          },
          "execution_count": 44
        }
      ]
    },
    {
      "cell_type": "code",
      "metadata": {
        "colab": {
          "base_uri": "https://localhost:8080/",
          "height": 35
        },
        "id": "Yjwtpbs6E5YO",
        "outputId": "8a3d078d-336c-42e1-ac02-72e7c63f6bb6"
      },
      "source": [
        "a[-3:]"
      ],
      "execution_count": null,
      "outputs": [
        {
          "output_type": "execute_result",
          "data": {
            "application/vnd.google.colaboratory.intrinsic+json": {
              "type": "string"
            },
            "text/plain": [
              "'KKU'"
            ]
          },
          "metadata": {
            "tags": []
          },
          "execution_count": 45
        }
      ]
    },
    {
      "cell_type": "code",
      "metadata": {
        "colab": {
          "base_uri": "https://localhost:8080/"
        },
        "id": "Fjq8w49TFfrD",
        "outputId": "5544bc67-7a56-4190-e4b6-6087dd344afb"
      },
      "source": [
        "print(list_a)\n",
        "print(list_b)"
      ],
      "execution_count": null,
      "outputs": [
        {
          "output_type": "stream",
          "text": [
            "[1, 2, 0.2, 'abs']\n",
            "[2, 'xyz', [1, 2, 0.2, 'abs'], [1, 2, 0.0]]\n"
          ],
          "name": "stdout"
        }
      ]
    },
    {
      "cell_type": "code",
      "metadata": {
        "colab": {
          "base_uri": "https://localhost:8080/"
        },
        "id": "Lq-_zZV2G6AL",
        "outputId": "a1b58b7f-d93c-4b42-c0f0-088762bd5cbe"
      },
      "source": [
        "list_a + list_b"
      ],
      "execution_count": null,
      "outputs": [
        {
          "output_type": "execute_result",
          "data": {
            "text/plain": [
              "[1, 2, 0.2, 'abs', 2, 'xyz', [1, 2, 0.2, 'abs'], [1, 2, 0.0]]"
            ]
          },
          "metadata": {
            "tags": []
          },
          "execution_count": 47
        }
      ]
    },
    {
      "cell_type": "markdown",
      "metadata": {
        "id": "h6POvrsMLOds"
      },
      "source": [
        "### format string"
      ]
    },
    {
      "cell_type": "markdown",
      "metadata": {
        "id": "_EUF2jLrLyBI"
      },
      "source": [
        "\n",
        "\n",
        "```python\n",
        "f'string{ตัวแปร}'\n",
        "```\n",
        "{} เรียกว่า curly brackets\n"
      ]
    },
    {
      "cell_type": "code",
      "metadata": {
        "colab": {
          "base_uri": "https://localhost:8080/",
          "height": 35
        },
        "id": "JTIL2--jLWHZ",
        "outputId": "f96ae10e-b6af-4801-dd60-bef14c7c47ba"
      },
      "source": [
        "f'ตัวแปร list_a มีค่าคือ {list_a}'"
      ],
      "execution_count": null,
      "outputs": [
        {
          "output_type": "execute_result",
          "data": {
            "application/vnd.google.colaboratory.intrinsic+json": {
              "type": "string"
            },
            "text/plain": [
              "\"ตัวแปร list_a มีค่าคือ [1, 2, 0.2, 'abs']\""
            ]
          },
          "metadata": {
            "tags": []
          },
          "execution_count": 48
        }
      ]
    },
    {
      "cell_type": "markdown",
      "metadata": {
        "id": "zRyA7B_WIZ4i"
      },
      "source": [
        "## Loop"
      ]
    },
    {
      "cell_type": "markdown",
      "metadata": {
        "id": "z1EOf8taKZXO"
      },
      "source": [
        "\n",
        "\n",
        "```python\n",
        "for ตัวแปรที่จะรับค่าจากลิสต์ in ลิสต์ที่จะนำมาวนลูป:\n",
        "do something\n",
        "```\n",
        "\n"
      ]
    },
    {
      "cell_type": "code",
      "metadata": {
        "colab": {
          "base_uri": "https://localhost:8080/"
        },
        "id": "1rRUfStZJuEG",
        "outputId": "f70b6951-c944-4fc2-b791-db37a3bb6c96"
      },
      "source": [
        "for i in [1,2,3,4,5]:\n",
        "  print(i+1)"
      ],
      "execution_count": null,
      "outputs": [
        {
          "output_type": "stream",
          "text": [
            "2\n",
            "3\n",
            "4\n",
            "5\n",
            "6\n"
          ],
          "name": "stdout"
        }
      ]
    },
    {
      "cell_type": "code",
      "metadata": {
        "colab": {
          "base_uri": "https://localhost:8080/"
        },
        "id": "AD7Hw58mMfYm",
        "outputId": "daac6f7b-30d3-44a0-e888-3356409de030"
      },
      "source": [
        "for x in [1,2,3,4,5]:\n",
        "  print(f'ค่าตัวแปร x คือ {x} และ x+2={x+2}')"
      ],
      "execution_count": null,
      "outputs": [
        {
          "output_type": "stream",
          "text": [
            "ค่าตัวแปร x คือ 1 และ x+2=3\n",
            "ค่าตัวแปร x คือ 2 และ x+2=4\n",
            "ค่าตัวแปร x คือ 3 และ x+2=5\n",
            "ค่าตัวแปร x คือ 4 และ x+2=6\n",
            "ค่าตัวแปร x คือ 5 และ x+2=7\n"
          ],
          "name": "stdout"
        }
      ]
    },
    {
      "cell_type": "code",
      "metadata": {
        "colab": {
          "base_uri": "https://localhost:8080/"
        },
        "id": "VThMaS9FM1ce",
        "outputId": "3a88832d-c764-4a50-b0ca-f41e920b4ccb"
      },
      "source": [
        "list5=[1,2,3,4,5]\n",
        "for x in list5:\n",
        "  print(f'ค่าตัวแปร x คือ {x} และ x+2={x+2}')"
      ],
      "execution_count": null,
      "outputs": [
        {
          "output_type": "stream",
          "text": [
            "ค่าตัวแปร x คือ 1 และ x+2=3\n",
            "ค่าตัวแปร x คือ 2 และ x+2=4\n",
            "ค่าตัวแปร x คือ 3 และ x+2=5\n",
            "ค่าตัวแปร x คือ 4 และ x+2=6\n",
            "ค่าตัวแปร x คือ 5 และ x+2=7\n"
          ],
          "name": "stdout"
        }
      ]
    },
    {
      "cell_type": "code",
      "metadata": {
        "colab": {
          "base_uri": "https://localhost:8080/"
        },
        "id": "WdhD01lTNI8Y",
        "outputId": "d46395ff-5e01-4c08-cada-c2d82e299d9f"
      },
      "source": [
        "list(range(10))"
      ],
      "execution_count": null,
      "outputs": [
        {
          "output_type": "execute_result",
          "data": {
            "text/plain": [
              "[0, 1, 2, 3, 4, 5, 6, 7, 8, 9]"
            ]
          },
          "metadata": {
            "tags": []
          },
          "execution_count": 4
        }
      ]
    },
    {
      "cell_type": "code",
      "metadata": {
        "colab": {
          "base_uri": "https://localhost:8080/"
        },
        "id": "iklETj1INT7h",
        "outputId": "663e36e0-80f8-41a9-c421-89d2a9e1872d"
      },
      "source": [
        "for i in range(2,7):\n",
        "  print(i)"
      ],
      "execution_count": null,
      "outputs": [
        {
          "output_type": "stream",
          "text": [
            "2\n",
            "3\n",
            "4\n",
            "5\n",
            "6\n"
          ],
          "name": "stdout"
        }
      ]
    },
    {
      "cell_type": "code",
      "metadata": {
        "colab": {
          "base_uri": "https://localhost:8080/"
        },
        "id": "gB-tIpCBN4I1",
        "outputId": "a3783b96-3940-4f70-d8eb-7ef61f7bee3a"
      },
      "source": [
        "for i in range(2,7,2):\n",
        "  print(i)"
      ],
      "execution_count": null,
      "outputs": [
        {
          "output_type": "stream",
          "text": [
            "2\n",
            "4\n",
            "6\n"
          ],
          "name": "stdout"
        }
      ]
    },
    {
      "cell_type": "code",
      "metadata": {
        "colab": {
          "base_uri": "https://localhost:8080/"
        },
        "id": "BI_GbpQOOQEX",
        "outputId": "c60acbfd-fb7e-40e8-cb76-4d8f7d4cebde"
      },
      "source": [
        "for i in range(5):\n",
        "  print('hahaha')"
      ],
      "execution_count": null,
      "outputs": [
        {
          "output_type": "stream",
          "text": [
            "hahaha\n",
            "hahaha\n",
            "hahaha\n",
            "hahaha\n",
            "hahaha\n"
          ],
          "name": "stdout"
        }
      ]
    },
    {
      "cell_type": "code",
      "metadata": {
        "colab": {
          "base_uri": "https://localhost:8080/"
        },
        "id": "QB0mBrGlOj9v",
        "outputId": "cfcac8bf-2ea7-4fc0-a162-8013d1bc5b56"
      },
      "source": [
        "for i in range(5):\n",
        "  print('hahaha')\n",
        "  x = i + 3\n",
        "  print(f'i={i} x={x}')"
      ],
      "execution_count": null,
      "outputs": [
        {
          "output_type": "stream",
          "text": [
            "hahaha\n",
            "i=0 x=3\n",
            "hahaha\n",
            "i=1 x=4\n",
            "hahaha\n",
            "i=2 x=5\n",
            "hahaha\n",
            "i=3 x=6\n",
            "hahaha\n",
            "i=4 x=7\n"
          ],
          "name": "stdout"
        }
      ]
    },
    {
      "cell_type": "markdown",
      "metadata": {
        "id": "6iLoyegfPDtN"
      },
      "source": [
        "### Nested loop"
      ]
    },
    {
      "cell_type": "code",
      "metadata": {
        "colab": {
          "base_uri": "https://localhost:8080/"
        },
        "id": "yaBxv07mPMZP",
        "outputId": "85f7c746-9f74-4a7e-a5b0-9d225fd6365a"
      },
      "source": [
        "for i in range(3):\n",
        "  print(f'now i = {i}')\n",
        "  print('start j loop')\n",
        "  for j in range(4):\n",
        "    print(f'i = {i} j = {j} i+j = {i+j}')\n",
        "  print('end j loop')"
      ],
      "execution_count": null,
      "outputs": [
        {
          "output_type": "stream",
          "text": [
            "now i = 0\n",
            "start j loop\n",
            "i = 0 j = 0 i+j = 0\n",
            "i = 0 j = 1 i+j = 1\n",
            "i = 0 j = 2 i+j = 2\n",
            "i = 0 j = 3 i+j = 3\n",
            "end j loop\n",
            "now i = 1\n",
            "start j loop\n",
            "i = 1 j = 0 i+j = 1\n",
            "i = 1 j = 1 i+j = 2\n",
            "i = 1 j = 2 i+j = 3\n",
            "i = 1 j = 3 i+j = 4\n",
            "end j loop\n",
            "now i = 2\n",
            "start j loop\n",
            "i = 2 j = 0 i+j = 2\n",
            "i = 2 j = 1 i+j = 3\n",
            "i = 2 j = 2 i+j = 4\n",
            "i = 2 j = 3 i+j = 5\n",
            "end j loop\n"
          ],
          "name": "stdout"
        }
      ]
    },
    {
      "cell_type": "markdown",
      "metadata": {
        "id": "3Zr074nSItK7"
      },
      "source": [
        "## Condition (if statement)"
      ]
    },
    {
      "cell_type": "markdown",
      "metadata": {
        "id": "G7MwG7XqFqZw"
      },
      "source": [
        "\n",
        "\n",
        "```python\n",
        "if เงื่อนไขที่จะตรวจสอบ (โดยใช้สัญลักษณ์ ==,!=,<,>,<=,>=):\n",
        "    ถ้าเงื่อนไขเป็นจริง ทำงาน 1 \n",
        "    ถ้าเงื่อนไขเป็นจริง ทำงาน 2\n",
        "```\n",
        "\n"
      ]
    },
    {
      "cell_type": "code",
      "metadata": {
        "colab": {
          "base_uri": "https://localhost:8080/"
        },
        "id": "RNVeNvzPFjZz",
        "outputId": "32d59e41-2407-4834-facf-7cd67fa7c26f"
      },
      "source": [
        "stringx = 'iamfuckingstupidstudentinclasstodaywhyiamnotunderstand'\n",
        "\n",
        "if len(stringx) > 30:\n",
        "       print(f'{stringx} is longer than 30 sharacters')"
      ],
      "execution_count": null,
      "outputs": [
        {
          "output_type": "stream",
          "text": [
            "iamfuckingstupidstudentinclasstodaywhyiamnotunderstand is longer than 30 sharacters\n"
          ],
          "name": "stdout"
        }
      ]
    },
    {
      "cell_type": "markdown",
      "metadata": {
        "id": "imKu6oSeJVlq"
      },
      "source": [
        "```python\n",
        "if เงื่อนไขที่จะตรวจสอบ (โดยใช้สัญลักษณ์ ==,!=,<,>,<=,>=):\n",
        "    ถ้าเงื่อนไขเป็นจริง ทำงาน 1 \n",
        "    ถ้าเงื่อนไขเป็นจริง ทำงาน 2\n",
        "else: #ตรวจสอบเงื่อนไขข้างบนแล้วไม่เป็นจริง\n",
        "    ทำงานที่ x\n",
        "```"
      ]
    },
    {
      "cell_type": "code",
      "metadata": {
        "colab": {
          "base_uri": "https://localhost:8080/"
        },
        "id": "jODIqGIQHkgb",
        "outputId": "271870da-fc41-46ba-9e43-7be3d5505182"
      },
      "source": [
        "stringx = 'iamfuckingstupidstudentinclass'\n",
        "\n",
        "if len(stringx) > 100:\n",
        "       print(f'{stringx} is longer than 30 sharacters')\n",
        "else:\n",
        "    print(f'{stringx} in {len(stringx)} character long')"
      ],
      "execution_count": null,
      "outputs": [
        {
          "output_type": "stream",
          "text": [
            "iamfuckingstupidstudentinclass in 30 character long\n"
          ],
          "name": "stdout"
        }
      ]
    },
    {
      "cell_type": "markdown",
      "metadata": {
        "id": "0nQEQhqDJcvm"
      },
      "source": [
        "```python\n",
        "if เงื่อนไขที่จะตรวจสอบ (โดยใช้สัญลักษณ์ ==,!=,<,>,<=,>=):\n",
        "    ถ้าเงื่อนไขเป็นจริง ทำงาน 1 \n",
        "    ถ้าเงื่อนไขเป็นจริง ทำงาน 2\n",
        "elif เงื่อนไขที่จะตรวจสอบต่อไปถ้าข้างบนไม่เป็นจริง:\n",
        "    ถ้าเงื่อนไขเป็นจริง ทำงานที่ a1\n",
        "    ถ้าเงื่อนไขเป็นจริง ทำงานที่ a2\n",
        "elif เงื่อนไขที่จะตรวจสอบต่อไปถ้าข้างบนไม่เป็นจริง:\n",
        "    ถ้าเงื่อนไขเป็นจริง ทำงานที่ b1\n",
        "    ถ้าเงื่อนไขเป็นจริง ทำงานที่ b2\n",
        "else: #ตรวจสอบเงื่อนไขข้างบนแล้วไม่เป็นจริง\n",
        "    ทำงานที่ x\n",
        "```"
      ]
    },
    {
      "cell_type": "code",
      "metadata": {
        "colab": {
          "base_uri": "https://localhost:8080/"
        },
        "id": "JDLapn1YLJYm",
        "outputId": "e640c88b-32ac-4786-b824-69f3d66dd43d"
      },
      "source": [
        "password = '12345'\n",
        "\n",
        "input_pass = '123sf'\n",
        "if input_pass == password:\n",
        "    print('Welcome!')\n",
        "elif len(input_pass) > len(password):\n",
        "    print('Too long, try again')\n",
        "elif len(input_pass) < len(password):\n",
        "    print('Too short, try again')\n",
        "else: \n",
        "    print('Wrong password, try again')"
      ],
      "execution_count": null,
      "outputs": [
        {
          "output_type": "stream",
          "text": [
            "Wrong password, try again\n"
          ],
          "name": "stdout"
        }
      ]
    },
    {
      "cell_type": "markdown",
      "metadata": {
        "id": "33LKKVgzNh35"
      },
      "source": [
        "#### **Quiz 1 หา min**"
      ]
    },
    {
      "cell_type": "code",
      "metadata": {
        "id": "OFroLcLANgx-"
      },
      "source": [
        "list_ex = [1,5,9,-19,-2,0]  ## หาค่าที่น้อยที่สุดใน list"
      ],
      "execution_count": null,
      "outputs": []
    },
    {
      "cell_type": "code",
      "metadata": {
        "colab": {
          "base_uri": "https://localhost:8080/"
        },
        "id": "nUXMUTn3RnzC",
        "outputId": "15968c40-5823-44fe-a35f-eff116dced25"
      },
      "source": [
        "min = 10000             ### กำหนด min สมมติ\n",
        "for i in list_ex:\n",
        "  if i < min:\n",
        "    min = i\n",
        "\n",
        "print(min)"
      ],
      "execution_count": null,
      "outputs": [
        {
          "output_type": "stream",
          "text": [
            "-19\n"
          ],
          "name": "stdout"
        }
      ]
    },
    {
      "cell_type": "code",
      "metadata": {
        "colab": {
          "base_uri": "https://localhost:8080/"
        },
        "id": "1QS1zJrFT05B",
        "outputId": "a8a642ec-b961-4dee-f774-2d9edf213881"
      },
      "source": [
        "min = 10000   \n",
        "print(list_ex)\n",
        "for i in list_ex: \n",
        "  print(f'now i = {i} min = {min}')\n",
        "  print('strat condition')\n",
        "  if i < min:\n",
        "    print(f'i < min update min -> {i}')\n",
        "    min = i\n",
        "  else:\n",
        "    print('i >= min,not update')\n",
        "  print('end condition, go to next i')\n",
        "\n",
        "print(min)"
      ],
      "execution_count": null,
      "outputs": [
        {
          "output_type": "stream",
          "text": [
            "[1, 5, 9, -19, -2, 0]\n",
            "now i = 1 min = 10000\n",
            "strat condition\n",
            "i < min update min -> 1\n",
            "end condition, go to next i\n",
            "now i = 5 min = 1\n",
            "strat condition\n",
            "i >= min,not update\n",
            "end condition, go to next i\n",
            "now i = 9 min = 1\n",
            "strat condition\n",
            "i >= min,not update\n",
            "end condition, go to next i\n",
            "now i = -19 min = 1\n",
            "strat condition\n",
            "i < min update min -> -19\n",
            "end condition, go to next i\n",
            "now i = -2 min = -19\n",
            "strat condition\n",
            "i >= min,not update\n",
            "end condition, go to next i\n",
            "now i = 0 min = -19\n",
            "strat condition\n",
            "i >= min,not update\n",
            "end condition, go to next i\n",
            "-19\n"
          ],
          "name": "stdout"
        }
      ]
    },
    {
      "cell_type": "markdown",
      "metadata": {
        "id": "Qdu4-QXQV2-8"
      },
      "source": [
        "#### **HW3 ตัดเกรด**"
      ]
    },
    {
      "cell_type": "code",
      "metadata": {
        "id": "H53FO6aVD25x"
      },
      "source": [
        "score = [49,65,70,95,82,55,89,20,77,77,81,59,10] # ตัดเกรด คะแนนใน list score (ใช้ if กับ for)"
      ],
      "execution_count": null,
      "outputs": []
    },
    {
      "cell_type": "code",
      "metadata": {
        "colab": {
          "base_uri": "https://localhost:8080/"
        },
        "id": "tdeux4EiW4iD",
        "outputId": "41f355f8-84c9-4844-84da-9042c0499a08"
      },
      "source": [
        "for i in score:\n",
        "\n",
        "  if i >= 80:\n",
        "    print(f'{i} = A')\n",
        "  elif i >= 75 and i < 80:\n",
        "    print(f'{i} = B+')\n",
        "  elif i >= 70 and i < 75:\n",
        "    print(f'{i} = B')\n",
        "  elif i >= 65 and i < 70:\n",
        "    print(f'{i} = C+')\n",
        "  elif i >= 60 and i < 65:\n",
        "    print(f'{i} = C')\n",
        "  elif i >= 55 and i < 60:\n",
        "    print(f'{i} = D+')\n",
        "  elif i >= 50 and i < 55:\n",
        "    print(f'{i} = D')\n",
        "  else:\n",
        "    print(f'{i} = F')\n"
      ],
      "execution_count": null,
      "outputs": [
        {
          "output_type": "stream",
          "text": [
            "49 = F\n",
            "65 = C+\n",
            "70 = B\n",
            "95 = A\n",
            "82 = A\n",
            "55 = D+\n",
            "89 = A\n",
            "20 = F\n",
            "77 = B+\n",
            "77 = B+\n",
            "81 = A\n",
            "59 = D+\n",
            "10 = F\n"
          ],
          "name": "stdout"
        }
      ]
    },
    {
      "cell_type": "code",
      "metadata": {
        "id": "bT8pfl7gfJmF",
        "colab": {
          "base_uri": "https://localhost:8080/"
        },
        "outputId": "036ab35f-51ea-4735-a510-f690201f0c6a"
      },
      "source": [
        "for i in score:\n",
        "\n",
        "  if i >= 80:\n",
        "    print(f'{i} = A')\n",
        "  elif i >= 75: \n",
        "    print(f'{i} = B+')\n",
        "  elif i >= 70:\n",
        "    print(f'{i} = B')\n",
        "  elif i >= 65:\n",
        "    print(f'{i} = C+')\n",
        "  elif i >= 60:\n",
        "    print(f'{i} = C')\n",
        "  elif i >= 55:\n",
        "    print(f'{i} = D+')\n",
        "  elif i >= 50:\n",
        "    print(f'{i} = D')\n",
        "  else:\n",
        "    print(f'{i} = F')"
      ],
      "execution_count": null,
      "outputs": [
        {
          "output_type": "stream",
          "text": [
            "49 = F\n",
            "65 = C+\n",
            "70 = B\n",
            "95 = A\n",
            "82 = A\n",
            "55 = D+\n",
            "89 = A\n",
            "20 = F\n",
            "77 = B+\n",
            "77 = B+\n",
            "81 = A\n",
            "59 = D+\n",
            "10 = F\n"
          ],
          "name": "stdout"
        }
      ]
    },
    {
      "cell_type": "markdown",
      "metadata": {
        "id": "SFfUVjYdws0x"
      },
      "source": [
        "## Function\n",
        "\n",
        "\n",
        "\n",
        "```python\n",
        "def ชื่อฟังก์ชั่น(input1,input2,...):\n",
        "    งานxxx\n",
        "    งานyyy\n",
        "    return output\n",
        "```\n",
        "\n",
        "\n",
        "\n",
        "ส่วนประกอบสำคัญ\n",
        "* inputt\n",
        "* process (ไม่มีไม่ได้)\n",
        "* output\n",
        "\n",
        "\n",
        "![Function.png](data:image/png;base64,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)"
      ]
    },
    {
      "cell_type": "markdown",
      "metadata": {
        "id": "OTNZaxf9yzZP"
      },
      "source": [
        "#### Example1"
      ]
    },
    {
      "cell_type": "code",
      "metadata": {
        "id": "LiKwFWZ_wkiJ"
      },
      "source": [
        "def grading(score):\n",
        "\n",
        "  if score >= 80:\n",
        "    grade= 'A'\n",
        "  elif score >= 75: \n",
        "    grade = 'B+'\n",
        "  elif score >= 70:\n",
        "    grade = 'B'\n",
        "  elif score >= 65:\n",
        "    grade = 'C+'\n",
        "  elif score >= 60:\n",
        "    grade = 'C'\n",
        "  elif score >= 55:\n",
        "    grade = 'D+'\n",
        "  elif score >= 50:\n",
        "    grade = 'D'\n",
        "  else:\n",
        "    grade = 'F'\n",
        "\n",
        "  return grade\n"
      ],
      "execution_count": null,
      "outputs": []
    },
    {
      "cell_type": "code",
      "metadata": {
        "colab": {
          "base_uri": "https://localhost:8080/"
        },
        "id": "btd-FJYu01-U",
        "outputId": "6501a487-1491-465f-d18a-ea034f08f666"
      },
      "source": [
        "score = [49,65,70,95,82,55,89,20,77,77,81,59,10]\n",
        "for i in score:\n",
        "  print(f'{i} = {grading(i)}')"
      ],
      "execution_count": null,
      "outputs": [
        {
          "output_type": "stream",
          "text": [
            "49 = F\n",
            "65 = C+\n",
            "70 = B\n",
            "95 = A\n",
            "82 = A\n",
            "55 = D+\n",
            "89 = A\n",
            "20 = F\n",
            "77 = B+\n",
            "77 = B+\n",
            "81 = A\n",
            "59 = D+\n",
            "10 = F\n"
          ],
          "name": "stdout"
        }
      ]
    },
    {
      "cell_type": "code",
      "metadata": {
        "id": "DcH3nwPb1UXp"
      },
      "source": [
        "def grading_list(list_score):\n",
        "    grade_list = []\n",
        "    for score in list_score:\n",
        "        if score >= 80:\n",
        "            grade= 'A'\n",
        "        elif score >= 75: \n",
        "            grade = 'B+'\n",
        "        elif score >= 70:\n",
        "            grade = 'B'\n",
        "        elif score >= 65:\n",
        "            grade = 'C+'\n",
        "        elif score >= 60:\n",
        "            grade = 'C'\n",
        "        elif score >= 55:\n",
        "            grade = 'D+'\n",
        "        elif score >= 50:\n",
        "            grade = 'D'\n",
        "        else:\n",
        "            grade = 'F'\n",
        "        grade_list.append([score,grade])\n",
        "    return grade_list\n"
      ],
      "execution_count": null,
      "outputs": []
    },
    {
      "cell_type": "code",
      "metadata": {
        "colab": {
          "base_uri": "https://localhost:8080/"
        },
        "id": "eMGKMPtj3f9S",
        "outputId": "d76c7346-db78-47da-9b94-30750acc3e4e"
      },
      "source": [
        "g = grading_list(score)\n",
        "g"
      ],
      "execution_count": null,
      "outputs": [
        {
          "output_type": "execute_result",
          "data": {
            "text/plain": [
              "[[49, 'F'],\n",
              " [65, 'C+'],\n",
              " [70, 'B'],\n",
              " [95, 'A'],\n",
              " [82, 'A'],\n",
              " [55, 'D+'],\n",
              " [89, 'A'],\n",
              " [20, 'F'],\n",
              " [77, 'B+'],\n",
              " [77, 'B+'],\n",
              " [81, 'A'],\n",
              " [59, 'D+'],\n",
              " [10, 'F']]"
            ]
          },
          "metadata": {
            "tags": []
          },
          "execution_count": 8
        }
      ]
    },
    {
      "cell_type": "code",
      "metadata": {
        "colab": {
          "base_uri": "https://localhost:8080/"
        },
        "id": "6QWmPLf5459f",
        "outputId": "e0c9e502-5ecf-40c6-fa12-e12a959d985c"
      },
      "source": [
        "for i in g:                                \n",
        "    print(f'{i[0]} = {i[1]}')"
      ],
      "execution_count": null,
      "outputs": [
        {
          "output_type": "stream",
          "text": [
            "49 = F\n",
            "65 = C+\n",
            "70 = B\n",
            "95 = A\n",
            "82 = A\n",
            "55 = D+\n",
            "89 = A\n",
            "20 = F\n",
            "77 = B+\n",
            "77 = B+\n",
            "81 = A\n",
            "59 = D+\n",
            "10 = F\n"
          ],
          "name": "stdout"
        }
      ]
    },
    {
      "cell_type": "code",
      "metadata": {
        "id": "BQyTw_jt7fWS"
      },
      "source": [
        "def grading2(score):\n",
        "\n",
        "    if score >= 80:\n",
        "        return 'A'\n",
        "    elif score >= 75: \n",
        "        return 'B+'\n",
        "    elif score >= 70:\n",
        "        return 'B'\n",
        "    elif score >= 65:\n",
        "        return 'C+'\n",
        "    elif score >= 60:\n",
        "        return 'C'\n",
        "    elif score >= 55:\n",
        "        return 'D+'\n",
        "    elif score >= 50:\n",
        "        return 'D'\n",
        "    else:\n",
        "        return 'F'\n"
      ],
      "execution_count": null,
      "outputs": []
    },
    {
      "cell_type": "code",
      "metadata": {
        "colab": {
          "base_uri": "https://localhost:8080/"
        },
        "id": "yqazQiOd8BMw",
        "outputId": "dc91452a-f9db-45a5-8723-f52e6a866569"
      },
      "source": [
        "score = [49,65,70,95,82,55,89,20,77,77,81,59,10]\n",
        "for i in score:\n",
        "  print(f'{i} = {grading2(i)}')"
      ],
      "execution_count": null,
      "outputs": [
        {
          "output_type": "stream",
          "text": [
            "49 = F\n",
            "65 = C+\n",
            "70 = B\n",
            "95 = A\n",
            "82 = A\n",
            "55 = D+\n",
            "89 = A\n",
            "20 = F\n",
            "77 = B+\n",
            "77 = B+\n",
            "81 = A\n",
            "59 = D+\n",
            "10 = F\n"
          ],
          "name": "stdout"
        }
      ]
    },
    {
      "cell_type": "markdown",
      "metadata": {
        "id": "rCJLV9uZ9QaD"
      },
      "source": [
        "#### Example2 (ไม่มี input)"
      ]
    },
    {
      "cell_type": "code",
      "metadata": {
        "id": "CFgF5Dfa8jAp"
      },
      "source": [
        "def mypi():\n",
        "    return 3.14"
      ],
      "execution_count": null,
      "outputs": []
    },
    {
      "cell_type": "code",
      "metadata": {
        "colab": {
          "base_uri": "https://localhost:8080/"
        },
        "id": "_Vrj3R3_9d_f",
        "outputId": "d561ee24-013b-42fc-bd5e-d124bfdc4865"
      },
      "source": [
        "r=10\n",
        "print(f'รัศมี={r} จะมีเส้นรอบวง = {2*mypi()*r}')"
      ],
      "execution_count": null,
      "outputs": [
        {
          "output_type": "stream",
          "text": [
            "รัศมี=10 จะมีเส้นรอบวง = 62.800000000000004\n"
          ],
          "name": "stdout"
        }
      ]
    },
    {
      "cell_type": "markdown",
      "metadata": {
        "id": "AOpiGSwH-AEq"
      },
      "source": [
        "#### Example3 (ไม่มี output)"
      ]
    },
    {
      "cell_type": "code",
      "metadata": {
        "id": "gR0rnI6r_RV3"
      },
      "source": [
        "def grading_nooutput(score):             \n",
        "\n",
        "  if i >= 80:\n",
        "    print(f'{i} = A')\n",
        "  elif i >= 75: \n",
        "    print(f'{i} = B+')\n",
        "  elif i >= 70:\n",
        "    print(f'{i} = B')\n",
        "  elif i >= 65:\n",
        "    print(f'{i} = C+')\n",
        "  elif i >= 60:\n",
        "    print(f'{i} = C')\n",
        "  elif i >= 55:\n",
        "    print(f'{i} = D+')\n",
        "  elif i >= 50:\n",
        "    print(f'{i} = D')\n",
        "  else:\n",
        "    print(f'{i} = F')"
      ],
      "execution_count": null,
      "outputs": []
    },
    {
      "cell_type": "markdown",
      "metadata": {
        "id": "C_NwRTeJ_jUV"
      },
      "source": [
        "#### Example4 (ไม่มี input และ output)"
      ]
    },
    {
      "cell_type": "code",
      "metadata": {
        "id": "Agn9gKji_i1H"
      },
      "source": [
        "def darw_rect():\n",
        "    print('============')\n",
        "    print('|          |')\n",
        "    print('|          |')\n",
        "    print('============')"
      ],
      "execution_count": null,
      "outputs": []
    },
    {
      "cell_type": "code",
      "metadata": {
        "colab": {
          "base_uri": "https://localhost:8080/"
        },
        "id": "Uzp2y6el_xYn",
        "outputId": "a0d323ca-83a6-4342-d42e-b479e565806c"
      },
      "source": [
        "darw_rect()\n",
        "darw_rect()"
      ],
      "execution_count": null,
      "outputs": [
        {
          "output_type": "stream",
          "text": [
            "============\n",
            "|          |\n",
            "|          |\n",
            "============\n",
            "============\n",
            "|          |\n",
            "|          |\n",
            "============\n"
          ],
          "name": "stdout"
        }
      ]
    },
    {
      "cell_type": "markdown",
      "metadata": {
        "id": "sttywDG8A9WP"
      },
      "source": [
        "#### ลักษณะของ input(parameter)\n",
        "\n",
        "* จำเป็นต้องใส่ (non-default argument)\n",
        "* ไม่จำเป็นต้องใส่"
      ]
    },
    {
      "cell_type": "code",
      "metadata": {
        "id": "SYwhZiRFANwL"
      },
      "source": [
        "def A(input1,input2 = 3):             ### ไม่จำเป็นต้องใส่ input ใน input2\n",
        "    return input1+input2              ### เพราะ กำหนดค่า default แล้ว"
      ],
      "execution_count": null,
      "outputs": []
    },
    {
      "cell_type": "code",
      "metadata": {
        "colab": {
          "base_uri": "https://localhost:8080/"
        },
        "id": "n_HeJ_OqBv_a",
        "outputId": "953c468e-7337-4554-f68b-9fedd36db26e"
      },
      "source": [
        "A(1)                               ### ใส่ input ใน input1"
      ],
      "execution_count": null,
      "outputs": [
        {
          "output_type": "execute_result",
          "data": {
            "text/plain": [
              "4"
            ]
          },
          "metadata": {
            "tags": []
          },
          "execution_count": 18
        }
      ]
    },
    {
      "cell_type": "code",
      "metadata": {
        "colab": {
          "base_uri": "https://localhost:8080/"
        },
        "id": "di7asEANBzhn",
        "outputId": "cf8f9692-a267-4cf1-9cbb-32380f83ed57"
      },
      "source": [
        "A(1,2)"
      ],
      "execution_count": null,
      "outputs": [
        {
          "output_type": "execute_result",
          "data": {
            "text/plain": [
              "3"
            ]
          },
          "metadata": {
            "tags": []
          },
          "execution_count": 19
        }
      ]
    },
    {
      "cell_type": "code",
      "metadata": {
        "id": "9-W9mqUkB7_z"
      },
      "source": [
        "def printlove(input1,input2 = 'Stat', input3 = 'KKU'):           \n",
        "    print(f'{input1} love {input2} {input3}')"
      ],
      "execution_count": null,
      "outputs": []
    },
    {
      "cell_type": "code",
      "metadata": {
        "colab": {
          "base_uri": "https://localhost:8080/"
        },
        "id": "ocEdohBCDLeR",
        "outputId": "6ae7567a-9632-4448-b4ab-7908d0f56021"
      },
      "source": [
        "printlove('Jittakorn')"
      ],
      "execution_count": null,
      "outputs": [
        {
          "output_type": "stream",
          "text": [
            "Jittakorn love Stat KKU\n"
          ],
          "name": "stdout"
        }
      ]
    },
    {
      "cell_type": "code",
      "metadata": {
        "colab": {
          "base_uri": "https://localhost:8080/"
        },
        "id": "JtYWFiXuDaju",
        "outputId": "5906d361-3635-403e-bebf-e38a13789497"
      },
      "source": [
        "printlove('Jittakorn','SI','Stat')"
      ],
      "execution_count": null,
      "outputs": [
        {
          "output_type": "stream",
          "text": [
            "Jittakorn love SI Stat\n"
          ],
          "name": "stdout"
        }
      ]
    },
    {
      "cell_type": "markdown",
      "metadata": {
        "id": "N-1TdRqPEvgB"
      },
      "source": [
        "**เอา input ที่จำเป็นขึ้นก่อน**"
      ]
    },
    {
      "cell_type": "markdown",
      "metadata": {
        "id": "phTv7gXdFDGV"
      },
      "source": [
        "### Quiz2\n",
        "สร้างฟังก์ชั่น\n",
        "* วาดรูปบ้าน\n",
        "* วาดรูปต้นไม้"
      ]
    },
    {
      "cell_type": "code",
      "metadata": {
        "id": "MaLiMwvYD9N5"
      },
      "source": [
        "def darw_house():\n",
        "    print('     ------------')\n",
        "    print('   .  .            .')\n",
        "    print('  .    .            .')\n",
        "    print(' .      .            .')\n",
        "    print('.        .            .')\n",
        "    print('-----------------------')\n",
        "    print('.        .             .')\n",
        "    print('.        .             .')\n",
        "    print('.        .             .')\n",
        "    print('.        .             .')\n",
        "    print('.        .             .')\n",
        "    print('.        .             .')\n",
        "    print('------------------------')\n",
        "    "
      ],
      "execution_count": null,
      "outputs": []
    },
    {
      "cell_type": "code",
      "metadata": {
        "id": "9VyYSZUYIC_y",
        "colab": {
          "base_uri": "https://localhost:8080/"
        },
        "outputId": "b22101fc-b676-404d-cd08-9694ae9f0863"
      },
      "source": [
        "darw_house()"
      ],
      "execution_count": null,
      "outputs": [
        {
          "output_type": "stream",
          "text": [
            "     ------------\n",
            "   .  .            .\n",
            "  .    .            .\n",
            " .      .            .\n",
            ".        .            .\n",
            "-----------------------\n",
            ".        .             .\n",
            ".        .             .\n",
            ".        .             .\n",
            ".        .             .\n",
            ".        .             .\n",
            ".        .             .\n",
            "------------------------\n"
          ],
          "name": "stdout"
        }
      ]
    },
    {
      "cell_type": "code",
      "metadata": {
        "id": "CF_j0W4kIRcj"
      },
      "source": [
        ""
      ],
      "execution_count": null,
      "outputs": []
    }
  ]
}